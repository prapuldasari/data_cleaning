{
 "cells": [
  {
   "cell_type": "code",
   "execution_count": 120,
   "metadata": {},
   "outputs": [],
   "source": [
    "import findspark\n",
    "findspark.init()\n",
    "import pyspark\n",
    "from pyspark.sql import SparkSession\n",
    "from pyspark.sql import functions as pysp_func\n",
    "from pyspark.sql.functions import lit\n",
    "from pyspark.storagelevel import StorageLevel\n",
    "from functools import reduce\n",
    "from pyspark.sql.functions import lower, col,udf, datediff, to_date, unix_timestamp\n",
    "from pyspark.sql.types import (StructField, StringType, StructType,IntegerType, ArrayType, MapType, DoubleType, LongType)\n",
    "import numpy as np\n",
    "import pandas as pd\n",
    "import itertools\n",
    "import operator\n",
    "import pandas as pd\n",
    "import numpy as np\n",
    "import os\n",
    "from operator import add, sub as subtract\n",
    "from dateutil.relativedelta import relativedelta\n",
    "from functools import reduce\n",
    "import warnings\n",
    "from pyspark.sql import Row, Column\n",
    "warnings.simplefilter('default')\n",
    "import findspark\n",
    "findspark.init()\n",
    "from pyspark.sql import SparkSession\n",
    "from pyspark.sql import functions as pysp_func\n",
    "from pyspark.storagelevel import StorageLevel\n",
    "import pandas as pd\n",
    "import numpy as np\n",
    "import time \n",
    "from pyspark.sql.functions import isnan, lit\n",
    "import pyspark\n",
    "import pandas as pd\n",
    "from pyspark.sql import SparkSession\n",
    "from pyspark.sql import functions as f\n",
    "from pyspark.sql.functions import lit\n",
    "from pyspark.storagelevel import StorageLevel\n",
    "from functools import reduce\n",
    "from pyspark.sql.functions import lower, col\n",
    "from pyspark.sql.types import (StructField, StringType, StructType,IntegerType)\n",
    "import numpy as np\n",
    "import pandas as pd\n",
    "from pyspark.sql.functions import udf\n",
    "from pyspark.sql.functions import lower, col,udf, datediff, to_date, unix_timestamp, expr\n",
    "from pyspark.sql.types import (StructField, StringType, StructType,IntegerType, FloatType)\n",
    "import numpy as np\n",
    "import pandas as pd\n",
    "from pyspark.sql.functions import broadcast"
   ]
  },
  {
   "cell_type": "code",
   "execution_count": 4,
   "metadata": {},
   "outputs": [],
   "source": [
    "def get_score(df_clu_mean, weight_mean='null'):\n",
    "        ano_features = ['TAXIN_30DAY_AMT', 'HRIN_30DAY_AMT']\n",
    "    \n",
    "        print ('debug df_clu_mean point 1', df_clu_mean.take(2))\n",
    "        df_clu_mean = (reduce(lambda temp_df, col_name: temp_df.withColumn(col_name, pysp_func.log(temp_df[col_name] + 1.01) / np.log(10)), ano_features, df_clu_mean))\n",
    "        df_clu_mean_describe = df_clu_mean.describe()\n",
    "        df_clu_mean_avg = df_clu_mean_describe.filter(df_clu_mean_describe['summary'] == 'mean')\n",
    "        df_clu_mean_std = df_clu_mean_describe.filter(df_clu_mean_describe['summary'] == 'stddev')\n",
    "        singleFeatureScore_udf = pysp_func.udf(single_feature_score)\n",
    "        df_clu_mean = (reduce(lambda temp_df, col_name: temp_df.withColumn(col_name,\n",
    "                                                                               singleFeatureScore_udf(temp_df[col_name],\n",
    "                                                                                                      pysp_func.lit(\n",
    "                                                                                                          df_clu_mean_avg.select(\n",
    "                                                                                                              col_name).take(\n",
    "                                                                                                              1)[0][\n",
    "                                                                                                              col_name]).cast(\n",
    "                                                                                                          'double'),\n",
    "                                                                                                      pysp_func.lit(\n",
    "                                                                                                          df_clu_mean_std.select(\n",
    "                                                                                                              col_name).take(\n",
    "                                                                                                              1)[0][\n",
    "                                                                                                              col_name]).cast(\n",
    "                                                                                                          'double')).cast(\n",
    "                                                                                   'double')), ano_features, df_clu_mean))\n",
    "\n",
    "        df_clu_mean = df_clu_mean.withColumn(\"clu_risk_score\", pysp_func.lit(1.0))\n",
    "\n",
    "        df_clu_mean_describe = df_clu_mean.describe()\n",
    "\n",
    "        df_clu_mean_max = df_clu_mean_describe.filter(df_clu_mean_describe['summary'] == 'max')\n",
    "\n",
    "        df_clu_mean = (reduce(lambda temp_df, col_name: temp_df.withColumn(col_name, (\n",
    "                temp_df[col_name] / float(df_clu_mean_max.select(col_name).take(1)[0][col_name])).cast('double')),\n",
    "                              ano_features, df_clu_mean))\n",
    "\n",
    "        df_clu_mean = (reduce(lambda temp_df, col_name: temp_df.withColumn(col_name, (\n",
    "                temp_df[col_name] ** (1. / len(ano_features))).cast('double')), ano_features, df_clu_mean))\n",
    "\n",
    "\n",
    "        df_clu_mean = (reduce(lambda temp_df, col_name: temp_df.withColumn(\"clu_risk_score\", (\n",
    "                temp_df['clu_risk_score'] * temp_df[col_name]).cast('double')), ano_features, df_clu_mean))\n",
    "\n",
    "        if weight_mean != 'null':\n",
    "            print ('Debug weight_mean', weight_mean)\n",
    "            print ('----Debug----')\n",
    "            df_clu_mean = df_clu_mean.withColumn(\"anomaly_score\", df_clu_mean['clu_risk_score'] * weight_mean)\n",
    "        return df_clu_mean"
   ]
  },
  {
   "cell_type": "code",
   "execution_count": 5,
   "metadata": {},
   "outputs": [],
   "source": [
    "spark= SparkSession.builder.appName('Basics').getOrCreate()"
   ]
  },
  {
   "cell_type": "code",
   "execution_count": 6,
   "metadata": {},
   "outputs": [],
   "source": [
    "df= spark.read.csv('/Users/prapuldasari/Downloads/2019-02-19T21-20-50.csv', header= True)"
   ]
  },
  {
   "cell_type": "code",
   "execution_count": 7,
   "metadata": {},
   "outputs": [],
   "source": [
    "all_cols = df.columns"
   ]
  },
  {
   "cell_type": "code",
   "execution_count": 8,
   "metadata": {},
   "outputs": [],
   "source": [
    "BUSINESS_UNIT='BUSINESS_UNIT'"
   ]
  },
  {
   "cell_type": "code",
   "execution_count": 9,
   "metadata": {},
   "outputs": [],
   "source": [
    "clu_level0_label = \"prediction_1\"  # \"clu_level_1\"\n",
    "clu_level1_label = \"prediction_2\""
   ]
  },
  {
   "cell_type": "code",
   "execution_count": 10,
   "metadata": {},
   "outputs": [],
   "source": [
    "anomaly_features=['TAXIN_30DAY_AMT', 'HRIN_30DAY_AMT']"
   ]
  },
  {
   "cell_type": "code",
   "execution_count": 11,
   "metadata": {},
   "outputs": [],
   "source": [
    "business_unit_rows = df.select(BUSINESS_UNIT).distinct().collect()\n",
    "business_units = [i[BUSINESS_UNIT] for i in business_unit_rows]"
   ]
  },
  {
   "cell_type": "code",
   "execution_count": 12,
   "metadata": {},
   "outputs": [
    {
     "data": {
      "text/plain": [
       "[u'SG-CMM', u'SG-PV', u'SG-CM']"
      ]
     },
     "execution_count": 12,
     "metadata": {},
     "output_type": "execute_result"
    }
   ],
   "source": [
    "business_units"
   ]
  },
  {
   "cell_type": "code",
   "execution_count": 13,
   "metadata": {},
   "outputs": [],
   "source": [
    "uniq_label = [clu_level0_label, clu_level1_label]"
   ]
  },
  {
   "cell_type": "code",
   "execution_count": 14,
   "metadata": {},
   "outputs": [],
   "source": [
    "funs = [pysp_func.mean]"
   ]
  },
  {
   "cell_type": "code",
   "execution_count": 15,
   "metadata": {},
   "outputs": [],
   "source": [
    "exprs = [f(col(c)) for f in funs for c in anomaly_features]"
   ]
  },
  {
   "cell_type": "code",
   "execution_count": 16,
   "metadata": {},
   "outputs": [
    {
     "data": {
      "text/plain": [
       "[Column<avg(TAXIN_30DAY_AMT)>, Column<avg(HRIN_30DAY_AMT)>]"
      ]
     },
     "execution_count": 16,
     "metadata": {},
     "output_type": "execute_result"
    }
   ],
   "source": [
    "exprs"
   ]
  },
  {
   "cell_type": "code",
   "execution_count": 17,
   "metadata": {},
   "outputs": [],
   "source": [
    "df_u = df.filter(df[BUSINESS_UNIT] == 'SG-CM')"
   ]
  },
  {
   "cell_type": "code",
   "execution_count": 18,
   "metadata": {},
   "outputs": [],
   "source": [
    "df_clu_mean = df_u.groupBy(uniq_label).agg(*exprs)"
   ]
  },
  {
   "cell_type": "code",
   "execution_count": 19,
   "metadata": {},
   "outputs": [
    {
     "name": "stdout",
     "output_type": "stream",
     "text": [
      "+------------+------------+--------------------+-------------------+\n",
      "|prediction_1|prediction_2|avg(TAXIN_30DAY_AMT)|avg(HRIN_30DAY_AMT)|\n",
      "+------------+------------+--------------------+-------------------+\n",
      "|           0|           1|   289676.2589040001|  289676.2589040001|\n",
      "|           1|           1|  1598433.0772727274| 1598433.0772727274|\n",
      "|           0|           0|   267944.9911764706|  267944.9911764706|\n",
      "|           1|           0|  106212.69760289158| 106212.69760289158|\n",
      "+------------+------------+--------------------+-------------------+\n",
      "\n"
     ]
    }
   ],
   "source": [
    "df_clu_mean.show()"
   ]
  },
  {
   "cell_type": "code",
   "execution_count": 20,
   "metadata": {},
   "outputs": [],
   "source": [
    "df_clu_mean = reduce(lambda df, a: df.withColumnRenamed('avg(' + a + ')', a), anomaly_features, df_clu_mean)\n"
   ]
  },
  {
   "cell_type": "code",
   "execution_count": 21,
   "metadata": {},
   "outputs": [
    {
     "name": "stdout",
     "output_type": "stream",
     "text": [
      "+------------+------------+------------------+------------------+\n",
      "|prediction_1|prediction_2|   TAXIN_30DAY_AMT|    HRIN_30DAY_AMT|\n",
      "+------------+------------+------------------+------------------+\n",
      "|           0|           1| 289676.2589040001| 289676.2589040001|\n",
      "|           1|           1|1598433.0772727274|1598433.0772727274|\n",
      "|           0|           0| 267944.9911764706| 267944.9911764706|\n",
      "|           1|           0|106212.69760289158|106212.69760289158|\n",
      "+------------+------------+------------------+------------------+\n",
      "\n"
     ]
    }
   ],
   "source": [
    "df_clu_mean.show()"
   ]
  },
  {
   "cell_type": "code",
   "execution_count": 24,
   "metadata": {},
   "outputs": [
    {
     "name": "stdout",
     "output_type": "stream",
     "text": [
      "('debug df_clu_mean point 1', [Row(prediction_1=u'0', prediction_2=u'1', TAXIN_30DAY_AMT=289676.2589040001, HRIN_30DAY_AMT=289676.2589040001), Row(prediction_1=u'1', prediction_2=u'1', TAXIN_30DAY_AMT=1598433.0772727274, HRIN_30DAY_AMT=1598433.0772727274)])\n"
     ]
    }
   ],
   "source": [
    "df_clu_mean = get_score(df_clu_mean)\n",
    "#call the get_score function"
   ]
  },
  {
   "cell_type": "code",
   "execution_count": 25,
   "metadata": {},
   "outputs": [],
   "source": [
    "ano_features=['TAXIN_30DAY_AMT', 'HRIN_30DAY_AMT']"
   ]
  },
  {
   "cell_type": "code",
   "execution_count": 26,
   "metadata": {},
   "outputs": [],
   "source": [
    "df_clu_mean = (reduce(lambda temp_df, col_name: temp_df.withColumn(col_name, \n",
    "                                                                   pysp_func.log(temp_df[col_name] + 1.01) / np.log(10)), \n",
    "                      ano_features, df_clu_mean))\n",
    "        "
   ]
  },
  {
   "cell_type": "code",
   "execution_count": 27,
   "metadata": {},
   "outputs": [
    {
     "name": "stdout",
     "output_type": "stream",
     "text": [
      "+------------+------------+-------------------+-------------------+-------------------+\n",
      "|prediction_1|prediction_2|    TAXIN_30DAY_AMT|     HRIN_30DAY_AMT|     clu_risk_score|\n",
      "+------------+------------+-------------------+-------------------+-------------------+\n",
      "|           0|           1|0.17017577152654745|0.17017577152654745|0.22062480416249075|\n",
      "|           1|           1| 0.3031960574204888| 0.3031960574204888|                1.0|\n",
      "|           0|           0|0.16547536734214854|0.16547536734214854| 0.2059149374528213|\n",
      "|           1|           0|0.11771446180153879|0.11771446180153879|0.09080425433237108|\n",
      "+------------+------------+-------------------+-------------------+-------------------+\n",
      "\n"
     ]
    }
   ],
   "source": [
    "df_clu_mean.show()"
   ]
  },
  {
   "cell_type": "code",
   "execution_count": 28,
   "metadata": {},
   "outputs": [],
   "source": [
    "df_clu_mean_describe = df_clu_mean.describe()"
   ]
  },
  {
   "cell_type": "code",
   "execution_count": 29,
   "metadata": {},
   "outputs": [
    {
     "name": "stdout",
     "output_type": "stream",
     "text": [
      "+-------+------------------+------------------+-------------------+-------------------+-------------------+\n",
      "|summary|      prediction_1|      prediction_2|    TAXIN_30DAY_AMT|     HRIN_30DAY_AMT|     clu_risk_score|\n",
      "+-------+------------------+------------------+-------------------+-------------------+-------------------+\n",
      "|  count|                 4|                 4|                  4|                  4|                  4|\n",
      "|   mean|               0.5|               0.5|0.18914041452268088|0.18914041452268088| 0.3793359989869208|\n",
      "| stddev|0.5773502691896257|0.5773502691896257|0.07964514745834114|0.07964514745834114|  0.417827108492326|\n",
      "|    min|                 0|                 0|0.11771446180153879|0.11771446180153879|0.09080425433237108|\n",
      "|    max|                 1|                 1| 0.3031960574204888| 0.3031960574204888|                1.0|\n",
      "+-------+------------------+------------------+-------------------+-------------------+-------------------+\n",
      "\n"
     ]
    }
   ],
   "source": [
    "df_clu_mean_describe.show()"
   ]
  },
  {
   "cell_type": "code",
   "execution_count": 30,
   "metadata": {},
   "outputs": [],
   "source": [
    "df_clu_mean_avg = df_clu_mean_describe.filter(df_clu_mean_describe['summary'] == 'mean')\n",
    "df_clu_mean_std = df_clu_mean_describe.filter(df_clu_mean_describe['summary'] == 'stddev')\n",
    "        "
   ]
  },
  {
   "cell_type": "code",
   "execution_count": 31,
   "metadata": {},
   "outputs": [
    {
     "name": "stdout",
     "output_type": "stream",
     "text": [
      "+-------+------------+------------+-------------------+-------------------+------------------+\n",
      "|summary|prediction_1|prediction_2|    TAXIN_30DAY_AMT|     HRIN_30DAY_AMT|    clu_risk_score|\n",
      "+-------+------------+------------+-------------------+-------------------+------------------+\n",
      "|   mean|         0.5|         0.5|0.18914041452268088|0.18914041452268088|0.3793359989869208|\n",
      "+-------+------------+------------+-------------------+-------------------+------------------+\n",
      "\n"
     ]
    }
   ],
   "source": [
    "df_clu_mean_avg.show()"
   ]
  },
  {
   "cell_type": "code",
   "execution_count": 32,
   "metadata": {},
   "outputs": [],
   "source": [
    "def single_feature_score(row, mean, std):\n",
    "        # row = np.log(row + 1.01)/np.log(10)\n",
    "        if (std == 0 and mean == np.log(1.01) / np.log(10)):\n",
    "            return float(row)\n",
    "        if std <= np.log(1.01) / np.log(10):\n",
    "            std = mean * 10\n",
    "        if std == 0 or str(std) == 'nan':\n",
    "            print ('STD IS nan')\n",
    "            std = 1\n",
    "        return float(np.exp((row - mean) / std))\n",
    "singleFeatureScore_udf = pysp_func.udf(single_feature_score)"
   ]
  },
  {
   "cell_type": "code",
   "execution_count": 33,
   "metadata": {},
   "outputs": [],
   "source": [
    "df_clu_mean = (reduce(lambda temp_df, col_name: temp_df.withColumn(col_name,\n",
    "              singleFeatureScore_udf(temp_df[col_name],pysp_func.lit(df_clu_mean_avg.select(col_name).take(1)[0][col_name]).cast('double'),\n",
    "pysp_func.lit(df_clu_mean_std.select(col_name).take(1)[0][col_name]).cast('double')).cast(\n",
    "                                                'double')), ano_features, df_clu_mean))\n"
   ]
  },
  {
   "cell_type": "code",
   "execution_count": 34,
   "metadata": {},
   "outputs": [
    {
     "name": "stdout",
     "output_type": "stream",
     "text": [
      "+------------+------------+------------------+------------------+-------------------+\n",
      "|prediction_1|prediction_2|   TAXIN_30DAY_AMT|    HRIN_30DAY_AMT|     clu_risk_score|\n",
      "+------------+------------+------------------+------------------+-------------------+\n",
      "|           0|           1|0.7881126594878127|0.7881126594878127|0.22062480416249075|\n",
      "|           1|           1| 4.187264295354993| 4.187264295354993|                1.0|\n",
      "|           0|           0|0.7429466345331999|0.7429466345331999| 0.2059149374528213|\n",
      "|           1|           0|0.4078718217639765|0.4078718217639765|0.09080425433237108|\n",
      "+------------+------------+------------------+------------------+-------------------+\n",
      "\n"
     ]
    }
   ],
   "source": [
    "df_clu_mean.show()"
   ]
  },
  {
   "cell_type": "code",
   "execution_count": 35,
   "metadata": {},
   "outputs": [
    {
     "data": {
      "text/plain": [
       "u'0.18914041452268088'"
      ]
     },
     "execution_count": 35,
     "metadata": {},
     "output_type": "execute_result"
    }
   ],
   "source": [
    "df_clu_mean_avg.select('TAXIN_30DAY_AMT').take(1)[0]['TAXIN_30DAY_AMT']"
   ]
  },
  {
   "cell_type": "code",
   "execution_count": 36,
   "metadata": {},
   "outputs": [],
   "source": [
    "df_clu_mean = df_clu_mean.withColumn(\"clu_risk_score\", pysp_func.lit(1.0))"
   ]
  },
  {
   "cell_type": "code",
   "execution_count": 37,
   "metadata": {},
   "outputs": [
    {
     "name": "stdout",
     "output_type": "stream",
     "text": [
      "+------------+------------+------------------+------------------+--------------+\n",
      "|prediction_1|prediction_2|   TAXIN_30DAY_AMT|    HRIN_30DAY_AMT|clu_risk_score|\n",
      "+------------+------------+------------------+------------------+--------------+\n",
      "|           0|           1|0.7881126594878127|0.7881126594878127|           1.0|\n",
      "|           1|           1| 4.187264295354993| 4.187264295354993|           1.0|\n",
      "|           0|           0|0.7429466345331999|0.7429466345331999|           1.0|\n",
      "|           1|           0|0.4078718217639765|0.4078718217639765|           1.0|\n",
      "+------------+------------+------------------+------------------+--------------+\n",
      "\n"
     ]
    }
   ],
   "source": [
    "df_clu_mean .show()"
   ]
  },
  {
   "cell_type": "code",
   "execution_count": 38,
   "metadata": {},
   "outputs": [],
   "source": [
    "df_clu_mean_describe = df_clu_mean.describe()"
   ]
  },
  {
   "cell_type": "code",
   "execution_count": 39,
   "metadata": {},
   "outputs": [],
   "source": [
    "df_clu_mean_max = df_clu_mean_describe.filter(df_clu_mean_describe['summary'] == 'max')"
   ]
  },
  {
   "cell_type": "code",
   "execution_count": 40,
   "metadata": {},
   "outputs": [
    {
     "name": "stdout",
     "output_type": "stream",
     "text": [
      "+-------+------------+------------+-----------------+-----------------+--------------+\n",
      "|summary|prediction_1|prediction_2|  TAXIN_30DAY_AMT|   HRIN_30DAY_AMT|clu_risk_score|\n",
      "+-------+------------+------------+-----------------+-----------------+--------------+\n",
      "|    max|           1|           1|4.187264295354993|4.187264295354993|           1.0|\n",
      "+-------+------------+------------+-----------------+-----------------+--------------+\n",
      "\n"
     ]
    }
   ],
   "source": [
    "df_clu_mean_max.show()"
   ]
  },
  {
   "cell_type": "code",
   "execution_count": 41,
   "metadata": {},
   "outputs": [],
   "source": [
    "df_clu_mean = (reduce(lambda temp_df, col_name: temp_df.withColumn(col_name, (\n",
    "                temp_df[col_name] / float(df_clu_mean_max.select(col_name).take(1)[0][col_name])).cast('double')),\n",
    "                              ano_features, df_clu_mean))"
   ]
  },
  {
   "cell_type": "code",
   "execution_count": 42,
   "metadata": {},
   "outputs": [
    {
     "name": "stdout",
     "output_type": "stream",
     "text": [
      "+------------+------------+-------------------+-------------------+--------------+\n",
      "|prediction_1|prediction_2|    TAXIN_30DAY_AMT|     HRIN_30DAY_AMT|clu_risk_score|\n",
      "+------------+------------+-------------------+-------------------+--------------+\n",
      "|           0|           1|0.18821660251111452|0.18821660251111452|           1.0|\n",
      "|           1|           1|                1.0|                1.0|           1.0|\n",
      "|           0|           0| 0.1774300789556952| 0.1774300789556952|           1.0|\n",
      "|           1|           0|0.09740770894649187|0.09740770894649187|           1.0|\n",
      "+------------+------------+-------------------+-------------------+--------------+\n",
      "\n"
     ]
    }
   ],
   "source": [
    "df_clu_mean.show()"
   ]
  },
  {
   "cell_type": "code",
   "execution_count": 43,
   "metadata": {},
   "outputs": [],
   "source": [
    "df_clu_mean = (reduce(lambda temp_df, col_name: temp_df.withColumn(col_name, (\n",
    "                temp_df[col_name] ** (1. / len(ano_features))).cast('double')), ano_features, df_clu_mean))\n"
   ]
  },
  {
   "cell_type": "code",
   "execution_count": 44,
   "metadata": {},
   "outputs": [
    {
     "name": "stdout",
     "output_type": "stream",
     "text": [
      "+------------+------------+-------------------+-------------------+--------------+\n",
      "|prediction_1|prediction_2|    TAXIN_30DAY_AMT|     HRIN_30DAY_AMT|clu_risk_score|\n",
      "+------------+------------+-------------------+-------------------+--------------+\n",
      "|           0|           1|0.43383937409035905|0.43383937409035905|           1.0|\n",
      "|           1|           1|                1.0|                1.0|           1.0|\n",
      "|           0|           0|0.42122449947230656|0.42122449947230656|           1.0|\n",
      "|           1|           0| 0.3121020809711013| 0.3121020809711013|           1.0|\n",
      "+------------+------------+-------------------+-------------------+--------------+\n",
      "\n"
     ]
    }
   ],
   "source": [
    "df_clu_mean.show()"
   ]
  },
  {
   "cell_type": "code",
   "execution_count": 45,
   "metadata": {},
   "outputs": [],
   "source": [
    "df_clu_mean = (reduce(lambda temp_df, col_name: temp_df.withColumn(\"clu_risk_score\", (\n",
    "                temp_df['clu_risk_score'] * temp_df[col_name]).cast('double')), ano_features, df_clu_mean))"
   ]
  },
  {
   "cell_type": "code",
   "execution_count": 46,
   "metadata": {},
   "outputs": [
    {
     "name": "stdout",
     "output_type": "stream",
     "text": [
      "+------------+------------+-------------------+-------------------+-------------------+\n",
      "|prediction_1|prediction_2|    TAXIN_30DAY_AMT|     HRIN_30DAY_AMT|     clu_risk_score|\n",
      "+------------+------------+-------------------+-------------------+-------------------+\n",
      "|           0|           1|0.43383937409035905|0.43383937409035905| 0.1882166025111145|\n",
      "|           1|           1|                1.0|                1.0|                1.0|\n",
      "|           0|           0|0.42122449947230656|0.42122449947230656|0.17743007895569518|\n",
      "|           1|           0| 0.3121020809711013| 0.3121020809711013|0.09740770894649188|\n",
      "+------------+------------+-------------------+-------------------+-------------------+\n",
      "\n"
     ]
    }
   ],
   "source": [
    "df_clu_mean.show()"
   ]
  },
  {
   "cell_type": "code",
   "execution_count": 47,
   "metadata": {},
   "outputs": [],
   "source": [
    "clu_max = df_clu_mean.select(pysp_func.max(\"clu_risk_score\")).take(1)[0]['max(' + \"clu_risk_score\" + ')']"
   ]
  },
  {
   "cell_type": "code",
   "execution_count": 48,
   "metadata": {},
   "outputs": [],
   "source": [
    "df_clu_mean = df_clu_mean.withColumn(\"clu_risk_score_norm\", df_clu_mean['clu_risk_score'] / clu_max)\n"
   ]
  },
  {
   "cell_type": "code",
   "execution_count": 49,
   "metadata": {},
   "outputs": [
    {
     "name": "stdout",
     "output_type": "stream",
     "text": [
      "+------------+------------+-------------------+-------------------+-------------------+-------------------+\n",
      "|prediction_1|prediction_2|    TAXIN_30DAY_AMT|     HRIN_30DAY_AMT|     clu_risk_score|clu_risk_score_norm|\n",
      "+------------+------------+-------------------+-------------------+-------------------+-------------------+\n",
      "|           0|           1|0.43383937409035905|0.43383937409035905| 0.1882166025111145| 0.1882166025111145|\n",
      "|           1|           1|                1.0|                1.0|                1.0|                1.0|\n",
      "|           0|           0|0.42122449947230656|0.42122449947230656|0.17743007895569518|0.17743007895569518|\n",
      "|           1|           0| 0.3121020809711013| 0.3121020809711013|0.09740770894649188|0.09740770894649188|\n",
      "+------------+------------+-------------------+-------------------+-------------------+-------------------+\n",
      "\n"
     ]
    }
   ],
   "source": [
    "df_clu_mean.show()"
   ]
  },
  {
   "cell_type": "code",
   "execution_count": 50,
   "metadata": {},
   "outputs": [
    {
     "data": {
      "text/plain": [
       "Row(max(clu_risk_score)=1.0)"
      ]
     },
     "execution_count": 50,
     "metadata": {},
     "output_type": "execute_result"
    }
   ],
   "source": [
    "df_clu_mean.select(pysp_func.max(\"clu_risk_score\")).take(1)[0]"
   ]
  },
  {
   "cell_type": "code",
   "execution_count": 51,
   "metadata": {},
   "outputs": [],
   "source": [
    "df_clu_mean = df_clu_mean.withColumn(BUSINESS_UNIT, pysp_func.lit('SG-CM'))\n"
   ]
  },
  {
   "cell_type": "code",
   "execution_count": 52,
   "metadata": {},
   "outputs": [
    {
     "name": "stdout",
     "output_type": "stream",
     "text": [
      "+------------+------------+-------------------+-------------------+-------------------+-------------------+-------------+\n",
      "|prediction_1|prediction_2|    TAXIN_30DAY_AMT|     HRIN_30DAY_AMT|     clu_risk_score|clu_risk_score_norm|BUSINESS_UNIT|\n",
      "+------------+------------+-------------------+-------------------+-------------------+-------------------+-------------+\n",
      "|           0|           1|0.43383937409035905|0.43383937409035905| 0.1882166025111145| 0.1882166025111145|        SG-CM|\n",
      "|           1|           1|                1.0|                1.0|                1.0|                1.0|        SG-CM|\n",
      "|           0|           0|0.42122449947230656|0.42122449947230656|0.17743007895569518|0.17743007895569518|        SG-CM|\n",
      "|           1|           0| 0.3121020809711013| 0.3121020809711013|0.09740770894649188|0.09740770894649188|        SG-CM|\n",
      "+------------+------------+-------------------+-------------------+-------------------+-------------------+-------------+\n",
      "\n"
     ]
    }
   ],
   "source": [
    "df_clu_mean.show()"
   ]
  },
  {
   "cell_type": "code",
   "execution_count": 53,
   "metadata": {},
   "outputs": [
    {
     "name": "stdout",
     "output_type": "stream",
     "text": [
      "('Current Business unit: ', u'SG-CMM')\n",
      "('debug df_clu_mean point -2', [Row(prediction_1=u'0', prediction_2=u'1', avg(TAXIN_30DAY_AMT)=472137.28186666657, avg(HRIN_30DAY_AMT)=472137.28186666657), Row(prediction_1=u'0', prediction_2=u'0', avg(TAXIN_30DAY_AMT)=1542844.9790000007, avg(HRIN_30DAY_AMT)=1542844.9790000007)])\n",
      "('debug df_clu_mean point 0', [Row(prediction_1=u'0', prediction_2=u'1', TAXIN_30DAY_AMT=472137.28186666657, HRIN_30DAY_AMT=472137.28186666657), Row(prediction_1=u'0', prediction_2=u'0', TAXIN_30DAY_AMT=1542844.9790000007, HRIN_30DAY_AMT=1542844.9790000007)])\n",
      "('debug df_clu_mean point 1', [Row(prediction_1=u'0', prediction_2=u'1', TAXIN_30DAY_AMT=472137.28186666657, HRIN_30DAY_AMT=472137.28186666657), Row(prediction_1=u'0', prediction_2=u'0', TAXIN_30DAY_AMT=1542844.9790000007, HRIN_30DAY_AMT=1542844.9790000007)])\n",
      "('Current Business unit: ', u'SG-PV')\n",
      "('debug df_clu_mean point -2', [Row(prediction_1=u'0', prediction_2=u'1', avg(TAXIN_30DAY_AMT)=535637.8583333333, avg(HRIN_30DAY_AMT)=535637.8583333333), Row(prediction_1=u'0', prediction_2=u'0', avg(TAXIN_30DAY_AMT)=167092.0522222222, avg(HRIN_30DAY_AMT)=167092.0522222222)])\n",
      "('debug df_clu_mean point 0', [Row(prediction_1=u'0', prediction_2=u'1', TAXIN_30DAY_AMT=535637.8583333333, HRIN_30DAY_AMT=535637.8583333333), Row(prediction_1=u'0', prediction_2=u'0', TAXIN_30DAY_AMT=167092.0522222222, HRIN_30DAY_AMT=167092.0522222222)])\n",
      "('debug df_clu_mean point 1', [Row(prediction_1=u'0', prediction_2=u'1', TAXIN_30DAY_AMT=535637.8583333333, HRIN_30DAY_AMT=535637.8583333333), Row(prediction_1=u'0', prediction_2=u'0', TAXIN_30DAY_AMT=167092.0522222222, HRIN_30DAY_AMT=167092.0522222222)])\n"
     ]
    },
    {
     "name": "stderr",
     "output_type": "stream",
     "text": [
      "/Users/prapuldasari/spark-2.3.2-bin-hadoop2.7/python/pyspark/sql/dataframe.py:1351: DeprecationWarning: Deprecated in 2.0, use union instead.\n",
      "  warnings.warn(\"Deprecated in 2.0, use union instead.\", DeprecationWarning)\n"
     ]
    },
    {
     "name": "stdout",
     "output_type": "stream",
     "text": [
      "('Current Business unit: ', u'SG-CM')\n",
      "('debug df_clu_mean point -2', [Row(prediction_1=u'0', prediction_2=u'1', avg(TAXIN_30DAY_AMT)=289676.2589040001, avg(HRIN_30DAY_AMT)=289676.2589040001), Row(prediction_1=u'1', prediction_2=u'1', avg(TAXIN_30DAY_AMT)=1598433.0772727274, avg(HRIN_30DAY_AMT)=1598433.0772727274), Row(prediction_1=u'0', prediction_2=u'0', avg(TAXIN_30DAY_AMT)=267944.9911764706, avg(HRIN_30DAY_AMT)=267944.9911764706)])\n",
      "('debug df_clu_mean point 0', [Row(prediction_1=u'0', prediction_2=u'1', TAXIN_30DAY_AMT=289676.2589040001, HRIN_30DAY_AMT=289676.2589040001), Row(prediction_1=u'1', prediction_2=u'1', TAXIN_30DAY_AMT=1598433.0772727274, HRIN_30DAY_AMT=1598433.0772727274), Row(prediction_1=u'0', prediction_2=u'0', TAXIN_30DAY_AMT=267944.9911764706, HRIN_30DAY_AMT=267944.9911764706)])\n",
      "('debug df_clu_mean point 1', [Row(prediction_1=u'0', prediction_2=u'1', TAXIN_30DAY_AMT=289676.2589040001, HRIN_30DAY_AMT=289676.2589040001), Row(prediction_1=u'1', prediction_2=u'1', TAXIN_30DAY_AMT=1598433.0772727274, HRIN_30DAY_AMT=1598433.0772727274)])\n"
     ]
    }
   ],
   "source": [
    "count=0\n",
    "for u in business_units:\n",
    "            print (\"Current Business unit: \", u)\n",
    "            df_u = df.filter(df[BUSINESS_UNIT] == u)\n",
    "\n",
    "            uniq_label = [clu_level0_label, clu_level1_label]\n",
    "\n",
    "            funs = [pysp_func.mean]\n",
    "            exprs = [f(col(c)) for f in funs for c in anomaly_features]  # column name: avg(x)\n",
    "            df_clu_mean = df_u.groupBy(uniq_label).agg(*exprs)\n",
    "            print ('debug df_clu_mean point -2', df_clu_mean.take(3))\n",
    "\n",
    "            df_clu_mean.persist(StorageLevel.MEMORY_AND_DISK)\n",
    "\n",
    "            df_clu_mean = reduce(lambda df, a: df.withColumnRenamed('avg(' + a + ')', a), anomaly_features, df_clu_mean)\n",
    "\n",
    "            print ('debug df_clu_mean point 0', df_clu_mean.take(3))\n",
    "            df_clu_mean = get_score(df_clu_mean)\n",
    "\n",
    "            clu_max = df_clu_mean.select(pysp_func.max(\"clu_risk_score\")).take(1)[0]['max(' + \"clu_risk_score\" + ')']\n",
    "            df_clu_mean = df_clu_mean.withColumn(\"clu_risk_score_norm\", df_clu_mean['clu_risk_score'] / clu_max)\n",
    "\n",
    "            df_clu_mean = df_clu_mean.withColumn(BUSINESS_UNIT, pysp_func.lit(u))\n",
    "\n",
    "            if count == 0:\n",
    "                df_cluster_score = df_clu_mean.select(\n",
    "                    [BUSINESS_UNIT, clu_level0_label, clu_level1_label, 'clu_risk_score', 'clu_risk_score_norm'])\n",
    "            elif count == 1:\n",
    "                df_cluster_score = df_cluster_score.unionAll(df_clu_mean.select(\n",
    "                    [BUSINESS_UNIT, clu_level0_label, clu_level1_label, 'clu_risk_score', 'clu_risk_score_norm']))\n",
    "            count = 1"
   ]
  },
  {
   "cell_type": "code",
   "execution_count": 54,
   "metadata": {},
   "outputs": [
    {
     "name": "stdout",
     "output_type": "stream",
     "text": [
      "+-------------+------------+------------+-------------------+-------------------+\n",
      "|BUSINESS_UNIT|prediction_1|prediction_2|     clu_risk_score|clu_risk_score_norm|\n",
      "+-------------+------------+------------+-------------------+-------------------+\n",
      "|       SG-CMM|           0|           1|0.24311673443421428|0.24311673443421428|\n",
      "|       SG-CMM|           0|           0|                1.0|                1.0|\n",
      "|        SG-PV|           0|           1|                1.0|                1.0|\n",
      "|        SG-PV|           0|           0|0.24311673443421428|0.24311673443421428|\n",
      "|        SG-CM|           0|           1|0.22062480416249075|0.22062480416249075|\n",
      "|        SG-CM|           1|           1|                1.0|                1.0|\n",
      "|        SG-CM|           0|           0| 0.2059149374528213| 0.2059149374528213|\n",
      "|        SG-CM|           1|           0|0.09080425433237108|0.09080425433237108|\n",
      "+-------------+------------+------------+-------------------+-------------------+\n",
      "\n"
     ]
    }
   ],
   "source": [
    "df_cluster_score.show()"
   ]
  },
  {
   "cell_type": "code",
   "execution_count": 55,
   "metadata": {},
   "outputs": [],
   "source": [
    "df_final = df.join(broadcast(df_cluster_score), on=[BUSINESS_UNIT, clu_level0_label, clu_level1_label],\n",
    "                                how='left_outer')\n"
   ]
  },
  {
   "cell_type": "code",
   "execution_count": 157,
   "metadata": {},
   "outputs": [
    {
     "name": "stdout",
     "output_type": "stream",
     "text": [
      "+-------------+------------+------------+-------------+-----------------+------------+------------+-------------+-------------+-------------+--------------+--------------+--------------+---------------+---------------+---------------+----------------+------------+------------+-------------+------------+------------+-------------+-------------+-------------+--------------+--------------+--------------+---------------+---------------+---------------+----------------+------------+------------+-------------+-------------+-------------+--------------+--------------+--------------+---------------+---------------+---------------+----------------+-------------------+-------------------+-------------------+--------------------+--------------------+--------------------+-----------------+-----------------+-----------------+----------------+----------------+----------------+-----------------+-----------------+-----------------+----------------+----------------+----------------+------------------+------------------+------------------+-------------------+-------------------+-------------------+------------------+------------------+------------------+-------------------+-------------------+-------------------+-----------------+-----------------+-----------------+------------------+------------------+------------------+-----------------------+-----------------------+-----------------------+------------------------+------------------------+------------------------+---------------+---------------+----------------+----------------+----------------+-----------------+---------------+---------------+----------------+----------------+----------------+-----------------+---------------+---------------+----------------+----------------+----------------+-----------------+---------------------------------+------------------------------------+------------------------------------+-------------------------------------+---------------------------------+-----------------------------------------+-------------------------------------------+---------------------------------+----------------------------------------+----------------------------------+--------------------------------------------------+------------------------------+------------------------------+-------------------------------+--------------------------------+---------------------------------+---------------------------------+-----------------------------------+-----------------------------------+--------------------------------------+-----------------------------------+-------------------------------+-------------------------------------+---------------------------------+----------+--------------+----------------------+---------------------------+--------------+------------+------------+--------------------------+----------+---------+-----------------+------------------------+-----------------------+---------------+------+----------+---------+-----------------+----------+---------------+---------+----------------+---------------+--------------------------+------------------------------+---------------+--------------+----------------+----------------+---------------+----------+------------+-----------------+----------------+------------------------+--------------------------+----------------+----------+----------------+--------------+-------+-------------------+-------------------+\n",
      "|BUSINESS_UNIT|prediction_1|prediction_2|  ACCOUNT_KEY|daysSinceStartDay|IN_30DAY_AMT|IN_90DAY_AMT|IN_180DAY_AMT|OUT_30DAY_AMT|OUT_90DAY_AMT|OUT_180DAY_AMT|HRIN_30DAY_AMT|HRIN_90DAY_AMT|HRIN_180DAY_AMT|HROUT_30DAY_AMT|HROUT_90DAY_AMT|HROUT_180DAY_AMT|IN_30DAY_MAX|IN_90DAY_MAX|IN_180DAY_MAX|IN_30DAY_MIN|IN_90DAY_MIN|IN_180DAY_MIN|OUT_30DAY_MAX|OUT_90DAY_MAX|OUT_180DAY_MAX|HRIN_30DAY_MAX|HRIN_90DAY_MAX|HRIN_180DAY_MAX|HROUT_30DAY_MAX|HROUT_90DAY_MAX|HROUT_180DAY_MAX|IN_30DAY_VOL|IN_90DAY_VOL|IN_180DAY_VOL|OUT_30DAY_VOL|OUT_90DAY_VOL|OUT_180DAY_VOL|HRIN_30DAY_VOL|HRIN_90DAY_VOL|HRIN_180DAY_VOL|HROUT_30DAY_VOL|HROUT_90DAY_VOL|HROUT_180DAY_VOL|CASHEQ-IN_90DAY_AMT|CASHEQ-IN_90DAY_VOL|CASHEQ-IN_90DAY_MAX|CASHEQ-OUT_90DAY_AMT|CASHEQ-OUT_90DAY_VOL|CASHEQ-OUT_90DAY_MAX|ATM-OUT_90DAY_AMT|ATM-OUT_90DAY_VOL|ATM-OUT_90DAY_MAX|CHQ-IN_90DAY_AMT|CHQ-IN_90DAY_VOL|CHQ-IN_90DAY_MAX|CHQ-OUT_90DAY_AMT|CHQ-OUT_90DAY_VOL|CHQ-OUT_90DAY_MAX|CDM-IN_90DAY_AMT|CDM-IN_90DAY_VOL|CDM-IN_90DAY_MAX|EXTFT-IN_90DAY_AMT|EXTFT-IN_90DAY_VOL|EXTFT-IN_90DAY_MAX|EXTFT-OUT_90DAY_AMT|EXTFT-OUT_90DAY_VOL|EXTFT-OUT_90DAY_MAX|LOCFT-IN_90DAY_AMT|LOCFT-IN_90DAY_VOL|LOCFT-IN_90DAY_MAX|LOCFT-OUT_90DAY_AMT|LOCFT-OUT_90DAY_VOL|LOCFT-OUT_90DAY_MAX|MISC-IN_90DAY_AMT|MISC-IN_90DAY_VOL|MISC-IN_90DAY_MAX|MISC-OUT_90DAY_AMT|MISC-OUT_90DAY_VOL|MISC-OUT_90DAY_MAX|REMITTANCE-IN_90DAY_AMT|REMITTANCE-IN_90DAY_VOL|REMITTANCE-IN_90DAY_MAX|REMITTANCE-OUT_90DAY_AMT|REMITTANCE-OUT_90DAY_VOL|REMITTANCE-OUT_90DAY_MAX|TAXIN_30DAY_AMT|TAXIN_90DAY_AMT|TAXIN_180DAY_AMT|TAXOUT_30DAY_AMT|TAXOUT_90DAY_AMT|TAXOUT_180DAY_AMT|TAXIN_30DAY_VOL|TAXIN_90DAY_VOL|TAXIN_180DAY_VOL|TAXOUT_30DAY_VOL|TAXOUT_90DAY_VOL|TAXOUT_180DAY_VOL|TAXIN_30DAY_MAX|TAXIN_90DAY_MAX|TAXIN_180DAY_MAX|TAXOUT_30DAY_MAX|TAXOUT_90DAY_MAX|TAXOUT_180DAY_MAX|OUT_30DAY_AMT_vs_TAXOUT_30DAY_AMT|TAXIN_180DAY_AMT_vs_TAXOUT_30DAY_AMT|TAXIN_180DAY_AMT_vs_TAXOUT_90DAY_AMT|TAXIN_180DAY_AMT_vs_TAXOUT_180DAY_AMT|HRIN_30DAY_AMT_vs_TAXIN_30DAY_VOL|EXTFT-IN_90DAY_AMT_vs_EXTFT-OUT_90DAY_AMT|CASHEQ-IN_90DAY_AMT_vs_CASHEQ-OUT_90DAY_AMT|HRIN_90DAY_AMT_vs_TAXIN_90DAY_VOL|LOCFT-IN_90DAY_AMT_vs_LOCFT-IN_90DAY_AMT|OUT_180DAY_AMT_vs_TAXIN_180DAY_AMT|REMITTANCE-IN_90DAY_AMT_vs_REMITTANCE-IN_90DAY_AMT|IN_180DAY_AMT_vs_OUT_30DAY_AMT|IN_180DAY_AMT_vs_OUT_90DAY_AMT|IN_180DAY_AMT_vs_OUT_180DAY_AMT|IN_180DAY_AMT_vs_HRIN_180DAY_AMT|IN_180DAY_AMT_vs_TAXIN_180DAY_AMT|OUT_90DAY_AMT_vs_TAXOUT_90DAY_AMT|OUT_180DAY_VOL_vs_TAXOUT_180DAY_VOL|HRIN_180DAY_AMT_vs_TAXIN_180DAY_VOL|MISC-IN_90DAY_AMT_vs_MISC-IN_90DAY_AMT|IN_90DAY_AMT_vs_CASHEQ-IN_90DAY_AMT|IN_30DAY_AMT_vs_TAXIN_30DAY_AMT|CHQ-IN_90DAY_AMT_vs_CHQ-OUT_90DAY_AMT|IN_180DAY_VOL_vs_TAXIN_180DAY_VOL|  ACCT_NUM|ACCOUNT_STATUS|ACCT_CLASSIFICATION_CD|ACCT_CURR_STATED_ACCT_VALUE|ACCT_OPEN_DATE|ACCT_TYPE_CD|SEGMENT_CODE|CHANNEL_OF_ACCOUNT_OPENING|COUNTRY_CD|IS_ACTIVE|IS_ANONYMOUS_ACCT|IS_FOREIGN_FINANCIAL_ORG|IS_NON_PHYSICAL_ADDRESS|IS_NON_RESIDENT|IS_PEP|IS_SUSPECT|MAIL_CODE|PRIMARY_PARTY_KEY|RISK_LEVEL|ROW_UPDATE_DATE|SECTOR_CD|ACCT_CURRENCY_CD|ACCT_CLOSE_DATE|ACCT_CURRENCY_CREDIT_LIMIT|ACCT_CURR_STATED_ACCT_ACTIVITY|ACCT_FIRST_NAME|ACCT_LAST_NAME|ACCT_MAIDEN_NAME|ACCT_MIDDLE_NAME|ACCT_OTHER_NAME|BRANCH_KEY|HOUSEHOLD_ID|IS_ONLINE_ACCOUNT|LAST_REVIEW_DATE|OPTION_APPROVAL_LEVEL_CD|PRIMARY_REPRESENTATIVE_KEY|ACCT_CATEGORY_CD|POPULATION|DATE_DATA_LOADED|CUSTOM_FIELD_1|FIG_IND|     clu_risk_score|clu_risk_score_norm|\n",
      "+-------------+------------+------------+-------------+-----------------+------------+------------+-------------+-------------+-------------+--------------+--------------+--------------+---------------+---------------+---------------+----------------+------------+------------+-------------+------------+------------+-------------+-------------+-------------+--------------+--------------+--------------+---------------+---------------+---------------+----------------+------------+------------+-------------+-------------+-------------+--------------+--------------+--------------+---------------+---------------+---------------+----------------+-------------------+-------------------+-------------------+--------------------+--------------------+--------------------+-----------------+-----------------+-----------------+----------------+----------------+----------------+-----------------+-----------------+-----------------+----------------+----------------+----------------+------------------+------------------+------------------+-------------------+-------------------+-------------------+------------------+------------------+------------------+-------------------+-------------------+-------------------+-----------------+-----------------+-----------------+------------------+------------------+------------------+-----------------------+-----------------------+-----------------------+------------------------+------------------------+------------------------+---------------+---------------+----------------+----------------+----------------+-----------------+---------------+---------------+----------------+----------------+----------------+-----------------+---------------+---------------+----------------+----------------+----------------+-----------------+---------------------------------+------------------------------------+------------------------------------+-------------------------------------+---------------------------------+-----------------------------------------+-------------------------------------------+---------------------------------+----------------------------------------+----------------------------------+--------------------------------------------------+------------------------------+------------------------------+-------------------------------+--------------------------------+---------------------------------+---------------------------------+-----------------------------------+-----------------------------------+--------------------------------------+-----------------------------------+-------------------------------+-------------------------------------+---------------------------------+----------+--------------+----------------------+---------------------------+--------------+------------+------------+--------------------------+----------+---------+-----------------+------------------------+-----------------------+---------------+------+----------+---------+-----------------+----------+---------------+---------+----------------+---------------+--------------------------+------------------------------+---------------+--------------+----------------+----------------+---------------+----------+------------+-----------------+----------------+------------------------+--------------------------+----------------+----------+----------------+--------------+-------+-------------------+-------------------+\n",
      "|        SG-CM|           0|           1|1019091606USD|              241|   432.41904|    652334.3|     749951.9|    2374183.2|    4544186.0|     9152287.0|     432.41904|      652334.3|       749951.9|      2374183.2|      4544186.0|       9152287.0|   216.59956|   651901.94|    651901.94|   432.41904|    652334.3|     749951.9|    231013.64|     448366.3|      448366.3|     216.59956|     651901.94|      651901.94|      231013.64|       448366.3|        448366.3|         2.0|         3.0|          5.0|         28.0|         42.0|          81.0|           2.0|           3.0|            5.0|           28.0|           42.0|            81.0|                0.0|                0.0|                0.0|                 0.0|                 0.0|                 0.0|              0.0|              0.0|              0.0|             0.0|             0.0|             0.0|              0.0|              0.0|              0.0|             0.0|             0.0|             0.0|          652334.3|               3.0|         651901.94|          4544186.0|               42.0|           448366.3|               0.0|               0.0|               0.0|                0.0|                0.0|                0.0|              0.0|              0.0|              0.0|               0.0|               0.0|               0.0|               652334.3|                    3.0|              651901.94|               4544186.0|                    42.0|                448366.3|      432.41904|       652334.3|        749951.9|       2374183.2|       4544186.0|        9152287.0|            2.0|            3.0|             5.0|            28.0|            42.0|             81.0|      216.59956|      651901.94|       651901.94|       231013.64|        448366.3|         448366.3|               0.9999995788026982|                  0.3158777062058263|                 0.16503543428120365|                  0.08194146370830988|               144.13967895507812|                      0.14355358010134706|                                        0.0|                    163083.578125|                                     0.0|                12.203816139780782|                                0.9999984670460408|            0.3158777062058263|           0.16503543428120365|            0.08194146370830988|              0.9999986665828836|               0.9999986665828836|               0.9999997799386336|                 0.9878048780487805|                 124991.97916666667|                                   0.0|                        652334.3125|             0.9976927640113996|                                  0.0|               0.8333333333333334|1019091606|             1|                     C|                       null|     31-Jan-00|           D|           C|                      null|      null|        1|             null|                    null|                      0|              0|     0|      null|        N|        400005929|  Low Risk|      10-Nov-17|  C406011|             USD|           null|                      null|                          null|         Albion|          null|            null|            null|           null|       101|        null|             null|            null|                    null|                      3901|            null|        C2|       14-Nov-17|    42.12.2042|   null|0.22062480416249075|0.22062480416249075|\n",
      "|        SG-CM|           0|           1|1019091606USD|              -57|    814860.0|   1086480.0|    3111887.8|    1277063.5|    4270798.0|    1.318973E7|      814860.0|     1086480.0|      3111887.8|      1277063.5|      4270798.0|      1.318973E7|    272110.0|    272110.0|     680275.0|    814860.0|   1086480.0|    3111887.8|     272110.0|     272110.0|      408165.0|      272110.0|      272110.0|       680275.0|       272110.0|       272110.0|        408165.0|         4.0|         6.0|         11.0|         14.0|         50.0|         115.0|           4.0|           6.0|           11.0|           14.0|           50.0|           115.0|                0.0|                0.0|                0.0|                 0.0|                 0.0|                 0.0|              0.0|              0.0|              0.0|             0.0|             0.0|             0.0|              0.0|              0.0|              0.0|             0.0|             0.0|             0.0|         1086480.0|               6.0|          272110.0|          4270798.0|               50.0|           272110.0|               0.0|               0.0|               0.0|                0.0|                0.0|                0.0|              0.0|              0.0|              0.0|               0.0|               0.0|               0.0|              1086480.0|                    6.0|               272110.0|               4270798.0|                    50.0|                272110.0|       814860.0|      1086480.0|       3111887.8|       1277063.5|       4270798.0|       1.318973E7|            4.0|            6.0|            11.0|            14.0|            50.0|            115.0|       272110.0|       272110.0|        680275.0|        272110.0|        272110.0|         408165.0|               0.9999992169541946|                  2.4367506496343765|                  0.7286429892860797|                  0.23593261682137415|                         162972.0|                       0.2543973621797701|                                        0.0|               155211.42857142858|                                     0.0|                 4.238496636488049|                                0.9999990795973422|            2.4367506496343765|            0.7286429892860797|            0.23593261682137415|              0.9999996786517513|               0.9999996786517513|               0.9999997658517762|                 0.9913793103448276|                 259323.97916666666|                                   0.0|                          1086480.0|             0.9999987727968328|                                  0.0|               0.9166666666666666|1019091606|             1|                     C|                       null|     31-Jan-00|           D|           C|                      null|      null|        1|             null|                    null|                      0|              0|     0|      null|        N|        400005929|  Low Risk|      10-Nov-17|  C406011|             USD|           null|                      null|                          null|         Albion|          null|            null|            null|           null|       101|        null|             null|            null|                    null|                      3901|            null|        C2|       14-Nov-17|    42.12.2042|   null|0.22062480416249075|0.22062480416249075|\n",
      "|        SG-CM|           0|           0|1019091606USD|               40|         0.0|         0.0|    1629720.0|    3266441.5|    9236059.0|    1.362755E7|           0.0|           0.0|      1629720.0|      3266441.5|      9236059.0|      1.362755E7|         0.0|         0.0|     408165.0|         0.0|         0.0|    1629720.0|    354987.94|     408165.0|      408165.0|           0.0|           0.0|       408165.0|      354987.94|       408165.0|        408165.0|         0.0|         0.0|          6.0|         32.0|         80.0|         132.0|           0.0|           0.0|            6.0|           32.0|           80.0|           132.0|                0.0|                0.0|                0.0|                 0.0|                 0.0|                 0.0|              0.0|              0.0|              0.0|             0.0|             0.0|             0.0|              0.0|              0.0|              0.0|             0.0|             0.0|             0.0|               0.0|               0.0|               0.0|          9236059.0|               80.0|           408165.0|               0.0|               0.0|               0.0|                0.0|                0.0|                0.0|              0.0|              0.0|              0.0|               0.0|               0.0|               0.0|                    0.0|                    0.0|                    0.0|               9236059.0|                    80.0|                408165.0|            0.0|            0.0|       1629720.0|       3266441.5|       9236059.0|       1.362755E7|            0.0|            0.0|             6.0|            32.0|            80.0|            132.0|            0.0|            0.0|        408165.0|       354987.94|        408165.0|         408165.0|               0.9999996938565427|                 0.49892811522015157|                 0.17645186367347115|                  0.11959008628916523|                              0.0|                                      0.0|                                        0.0|                              0.0|                                     0.0|                  8.36189139122586|                                               0.0|           0.49892811522015157|           0.17645186367347115|            0.11959008628916523|              0.9999993863980399|               0.9999993863980399|               0.9999998917287242|                 0.9924812030075187|                 232817.14285714287|                                   0.0|                                0.0|                            0.0|                                  0.0|               0.8571428571428571|1019091606|             1|                     C|                       null|     31-Jan-00|           D|           C|                      null|      null|        1|             null|                    null|                      0|              0|     0|      null|        N|        400005929|  Low Risk|      10-Nov-17|  C406011|             USD|           null|                      null|                          null|         Albion|          null|            null|            null|           null|       101|        null|             null|            null|                    null|                      3901|            null|        C2|       14-Nov-17|    42.12.2042|   null| 0.2059149374528213| 0.2059149374528213|\n",
      "|        SG-CM|           0|           1|1019091606USD|             -198|    122741.8|   256173.48|    5043187.0|    3245280.5|    6993739.5|   1.3052293E7|      122741.8|     256173.48|      5043187.0|      3245280.5|      6993739.5|     1.3052293E7|    122741.8|   133431.67|     589113.7|    122741.8|   256173.48|    5043187.0|     400245.0|     400245.0|      667075.0|      122741.8|     133431.67|       589113.7|       400245.0|       400245.0|        667075.0|         1.0|         2.0|         13.0|         22.0|         43.0|          76.0|           1.0|           2.0|           13.0|           22.0|           43.0|            76.0|                0.0|                0.0|                0.0|                 0.0|                 0.0|                 0.0|              0.0|              0.0|              0.0|             0.0|             0.0|             0.0|              0.0|              0.0|              0.0|             0.0|             0.0|             0.0|         256173.48|               2.0|         133431.67|          6993739.5|               43.0|           400245.0|               0.0|               0.0|               0.0|                0.0|                0.0|                0.0|              0.0|              0.0|              0.0|               0.0|               0.0|               0.0|              256173.48|                    2.0|              133431.67|               6993739.5|                    43.0|                400245.0|       122741.8|      256173.48|       5043187.0|       3245280.5|       6993739.5|      1.3052293E7|            1.0|            2.0|            13.0|            22.0|            43.0|             76.0|       122741.8|      133431.67|        589113.7|        400245.0|        400245.0|         667075.0|               0.9999996918603209|                  1.5540060238225868|                  0.7211001037284698|                    0.386383190571711|                    61370.8984375|                        0.036628966198417|                                        0.0|                85391.16145833333|                                     0.0|                 2.588103596375943|                                0.9999960964106068|            1.5540060238225868|            0.7211001037284698|              0.386383190571711|              0.9999998017127262|               0.9999998017127262|               0.9999998570149979|                  0.987012987012987|                 360227.64285714284|                                   0.0|                      256173.484375|             0.9999918528824057|                                  0.0|               0.9285714285714286|1019091606|             1|                     C|                       null|     31-Jan-00|           D|           C|                      null|      null|        1|             null|                    null|                      0|              0|     0|      null|        N|        400005929|  Low Risk|      10-Nov-17|  C406011|             USD|           null|                      null|                          null|         Albion|          null|            null|            null|           null|       101|        null|             null|            null|                    null|                      3901|            null|        C2|       14-Nov-17|    42.12.2042|   null|0.22062480416249075|0.22062480416249075|\n",
      "|        SG-CM|           0|           0|1019091606USD|               82|    97617.56|    97617.56|    1727337.6|    2318603.8|    7549017.0|   1.4638396E7|      97617.56|      97617.56|      1727337.6|      2318603.8|      7549017.0|     1.4638396E7|   48896.832|   48896.832|     408165.0|    97617.56|    97617.56|    1727337.6|     190477.0|    354987.94|      408165.0|     48896.832|     48896.832|       408165.0|       190477.0|      354987.94|        408165.0|         2.0|         2.0|          8.0|         24.0|         74.0|         138.0|           2.0|           2.0|            8.0|           24.0|           74.0|           138.0|                0.0|                0.0|                0.0|                 0.0|                 0.0|                 0.0|              0.0|              0.0|              0.0|             0.0|             0.0|             0.0|              0.0|              0.0|              0.0|             0.0|             0.0|             0.0|          97617.56|               2.0|         48896.832|          7549017.0|               74.0|          354987.94|               0.0|               0.0|               0.0|                0.0|                0.0|                0.0|              0.0|              0.0|              0.0|               0.0|               0.0|               0.0|               97617.56|                    2.0|              48896.832|               7549017.0|                    74.0|               354987.94|       97617.56|       97617.56|       1727337.6|       2318603.8|       7549017.0|      1.4638396E7|            2.0|            2.0|             8.0|            24.0|            74.0|            138.0|      48896.832|      48896.832|        408165.0|        190477.0|       354987.94|         408165.0|               0.9999995687061367|                  0.7449901174402407|                 0.22881620165695724|                   0.1180004630971547|                       32539.1875|                     0.012931160384039355|                                        0.0|                       32539.1875|                                     0.0|                 8.474537527347888|                                0.9999897560466535|            0.7449901174402407|           0.22881620165695724|             0.1180004630971547|              0.9999994210747183|               0.9999994210747183|               0.9999998675324393|                 0.9928057553956835|                 191926.40277777778|                                   0.0|                         97617.5625|             0.9999897560466535|                                  0.0|               0.8888888888888888|1019091606|             1|                     C|                       null|     31-Jan-00|           D|           C|                      null|      null|        1|             null|                    null|                      0|              0|     0|      null|        N|        400005929|  Low Risk|      10-Nov-17|  C406011|             USD|           null|                      null|                          null|         Albion|          null|            null|            null|           null|       101|        null|             null|            null|                    null|                      3901|            null|        C2|       14-Nov-17|    42.12.2042|   null| 0.2059149374528213| 0.2059149374528213|\n",
      "|        SG-CM|           0|           1|1019091606USD|              231|   432.41904|    652334.3|     749951.9|    1948123.1|    4024908.8|     9458144.0|     432.41904|      652334.3|       749951.9|      1948123.1|      4024908.8|       9458144.0|   216.59956|   651901.94|    651901.94|   432.41904|    652334.3|     749951.9|    231013.64|     448366.3|      448366.3|     216.59956|     651901.94|      651901.94|      231013.64|       448366.3|        448366.3|         2.0|         3.0|          5.0|         19.0|         32.0|          81.0|           2.0|           3.0|            5.0|           19.0|           32.0|            81.0|                0.0|                0.0|                0.0|                 0.0|                 0.0|                 0.0|              0.0|              0.0|              0.0|             0.0|             0.0|             0.0|              0.0|              0.0|              0.0|             0.0|             0.0|             0.0|          652334.3|               3.0|         651901.94|          4024908.8|               32.0|           448366.3|               0.0|               0.0|               0.0|                0.0|                0.0|                0.0|              0.0|              0.0|              0.0|               0.0|               0.0|               0.0|               652334.3|                    3.0|              651901.94|               4024908.8|                    32.0|                448366.3|      432.41904|       652334.3|        749951.9|       1948123.1|       4024908.8|        9458144.0|            2.0|            3.0|             5.0|            19.0|            32.0|             81.0|      216.59956|      651901.94|       651901.94|       231013.64|        448366.3|         448366.3|               0.9999994866856854|                  0.3849610327062707|                  0.1863276251101034|                  0.07929164492614567|               144.13967895507812|                      0.16207427073364813|                                        0.0|                    163083.578125|                                     0.0|                12.611651098744037|                                0.9999984670460408|            0.3849610327062707|            0.1863276251101034|            0.07929164492614567|              0.9999986665828836|               0.9999986665828836|               0.9999997515472241|                 0.9878048780487805|                 124991.97916666667|                                   0.0|                        652334.3125|             0.9976927640113996|                                  0.0|               0.8333333333333334|1019091606|             1|                     C|                       null|     31-Jan-00|           D|           C|                      null|      null|        1|             null|                    null|                      0|              0|     0|      null|        N|        400005929|  Low Risk|      10-Nov-17|  C406011|             USD|           null|                      null|                          null|         Albion|          null|            null|            null|           null|       101|        null|             null|            null|                    null|                      3901|            null|        C2|       14-Nov-17|    42.12.2042|   null|0.22062480416249075|0.22062480416249075|\n",
      "|        SG-CM|           0|           0|1019091606USD|               20|         0.0|   1629720.0|    1901340.0|    4032515.2|    9080398.0|   1.3252171E7|           0.0|     1629720.0|      1901340.0|      4032515.2|      9080398.0|     1.3252171E7|         0.0|    408165.0|     408165.0|         0.0|   1629720.0|    1901340.0|     408165.0|     408165.0|      408165.0|           0.0|      408165.0|       408165.0|       408165.0|       408165.0|        408165.0|         0.0|         6.0|          8.0|         32.0|         78.0|         126.0|           0.0|           6.0|            8.0|           32.0|           78.0|           126.0|                0.0|                0.0|                0.0|                 0.0|                 0.0|                 0.0|              0.0|              0.0|              0.0|             0.0|             0.0|             0.0|              0.0|              0.0|              0.0|             0.0|             0.0|             0.0|         1629720.0|               6.0|          408165.0|          9080398.0|               78.0|           408165.0|               0.0|               0.0|               0.0|                0.0|                0.0|                0.0|              0.0|              0.0|              0.0|               0.0|               0.0|               0.0|              1629720.0|                    6.0|               408165.0|               9080398.0|                    78.0|                408165.0|            0.0|      1629720.0|       1901340.0|       4032515.2|       9080398.0|      1.3252171E7|            0.0|            6.0|             8.0|            32.0|            78.0|            126.0|            0.0|       408165.0|        408165.0|        408165.0|        408165.0|         408165.0|               0.9999997520158784|                  0.4715021297186341|                 0.20938947726856497|                  0.14347383960908447|                              0.0|                      0.17947669480162712|                                        0.0|               232817.14285714287|                                     0.0|                6.9699075547205895|                                0.9999993863980399|            0.4715021297186341|           0.20938947726856497|            0.14347383960908447|              0.9999994740554167|               0.9999994740554167|               0.9999998898726807|                 0.9921259842519685|                           211260.0|                                   0.0|                          1629720.0|                            0.0|                                  0.0|               0.8888888888888888|1019091606|             1|                     C|                       null|     31-Jan-00|           D|           C|                      null|      null|        1|             null|                    null|                      0|              0|     0|      null|        N|        400005929|  Low Risk|      10-Nov-17|  C406011|             USD|           null|                      null|                          null|         Albion|          null|            null|            null|           null|       101|        null|             null|            null|                    null|                      3901|            null|        C2|       14-Nov-17|    42.12.2042|   null| 0.2059149374528213| 0.2059149374528213|\n",
      "|        SG-CM|           0|           1|1019091606USD|             -242|   133431.67|   133431.67|    4920445.0|    1920985.5|    6837343.5|     9075626.0|     133431.67|     133431.67|      4920445.0|      1920985.5|      6837343.5|       9075626.0|   133431.67|   133431.67|     589113.7|   133431.67|   133431.67|    4920445.0|    365036.38|     667075.0|      667075.0|     133431.67|     133431.67|       589113.7|      365036.38|       667075.0|        667075.0|         1.0|         1.0|         12.0|         11.0|         35.0|          49.0|           1.0|           1.0|           12.0|           11.0|           35.0|            49.0|                0.0|                0.0|                0.0|                 0.0|                 0.0|                 0.0|              0.0|              0.0|              0.0|             0.0|             0.0|             0.0|              0.0|              0.0|              0.0|             0.0|             0.0|             0.0|         133431.67|               1.0|         133431.67|          6837343.5|               35.0|           667075.0|               0.0|               0.0|               0.0|                0.0|                0.0|                0.0|              0.0|              0.0|              0.0|               0.0|               0.0|               0.0|              133431.67|                    1.0|              133431.67|               6837343.5|                    35.0|                667075.0|      133431.67|      133431.67|       4920445.0|       1920985.5|       6837343.5|        9075626.0|            1.0|            1.0|            12.0|            11.0|            35.0|             49.0|      133431.67|      133431.67|        589113.7|       365036.38|        667075.0|         667075.0|               0.9999994794341345|                  2.5614157101051984|                  0.7196426916911968|                   0.5421603377926396|                    66715.8359375|                       0.0195151307463007|                                        0.0|                    66715.8359375|                                     0.0|                1.8444722287369886|                                 0.999992505583633|            2.5614157101051984|            0.7196426916911968|             0.5421603377926396|              0.9999997967663907|               0.9999997967663907|               0.9999998537443886|                               0.98|                 378495.76923076925|                                   0.0|                      133431.671875|              0.999992505583633|                                  0.0|               0.9230769230769231|1019091606|             1|                     C|                       null|     31-Jan-00|           D|           C|                      null|      null|        1|             null|                    null|                      0|              0|     0|      null|        N|        400005929|  Low Risk|      10-Nov-17|  C406011|             USD|           null|                      null|                          null|         Albion|          null|            null|            null|           null|       101|        null|             null|            null|                    null|                      3901|            null|        C2|       14-Nov-17|    42.12.2042|   null|0.22062480416249075|0.22062480416249075|\n",
      "|        SG-CM|           0|           0|1019091606USD|             -169|         0.0|   256173.48|    256173.48|    3319293.5|    8158199.5|   1.4302442E7|           0.0|     256173.48|      256173.48|      3319293.5|      8158199.5|     1.4302442E7|         0.0|   133431.67|    133431.67|         0.0|   256173.48|    256173.48|    276352.03|     400245.0|      667075.0|           0.0|     133431.67|      133431.67|      276352.03|       400245.0|        667075.0|         0.0|         2.0|          2.0|         25.0|         57.0|          89.0|           0.0|           2.0|            2.0|           25.0|           57.0|            89.0|                0.0|                0.0|                0.0|                 0.0|                 0.0|                 0.0|              0.0|              0.0|              0.0|             0.0|             0.0|             0.0|              0.0|              0.0|              0.0|             0.0|             0.0|             0.0|         256173.48|               2.0|         133431.67|          8158199.5|               57.0|           400245.0|               0.0|               0.0|               0.0|                0.0|                0.0|                0.0|              0.0|              0.0|              0.0|               0.0|               0.0|               0.0|              256173.48|                    2.0|              133431.67|               8158199.5|                    57.0|                400245.0|            0.0|      256173.48|       256173.48|       3319293.5|       8158199.5|      1.4302442E7|            0.0|            2.0|             2.0|            25.0|            57.0|             89.0|            0.0|      133431.67|       133431.67|       276352.03|        400245.0|         667075.0|               0.9999996987311611|                 0.07717708819600069|                 0.03140073406813181|                  0.01791116974736414|                              0.0|                      0.03140073406813181|                                        0.0|                85391.16145833333|                                     0.0|                 55.83086088723586|                                0.9999960964106068|           0.07717708819600069|           0.03140073406813181|            0.01791116974736414|              0.9999960964106068|               0.9999960964106068|                0.999999877423949|                 0.9888888888888889|                  85391.16145833333|                                   0.0|                      256173.484375|                            0.0|                                  0.0|               0.6666666666666666|1019091606|             1|                     C|                       null|     31-Jan-00|           D|           C|                      null|      null|        1|             null|                    null|                      0|              0|     0|      null|        N|        400005929|  Low Risk|      10-Nov-17|  C406011|             USD|           null|                      null|                          null|         Albion|          null|            null|            null|           null|       101|        null|             null|            null|                    null|                      3901|            null|        C2|       14-Nov-17|    42.12.2042|   null| 0.2059149374528213| 0.2059149374528213|\n",
      "|        SG-CM|           0|           1|1019091606USD|             -211|    122741.8|   256173.48|    5043187.0|    2629804.5|    6927140.0|   1.1705431E7|      122741.8|     256173.48|      5043187.0|      2629804.5|      6927140.0|     1.1705431E7|    122741.8|   133431.67|     589113.7|    122741.8|   256173.48|    5043187.0|     400245.0|    481903.34|      667075.0|      122741.8|     133431.67|       589113.7|       400245.0|      481903.34|        667075.0|         1.0|         2.0|         13.0|         18.0|         41.0|          67.0|           1.0|           2.0|           13.0|           18.0|           41.0|            67.0|                0.0|                0.0|                0.0|                 0.0|                 0.0|                 0.0|              0.0|              0.0|              0.0|             0.0|             0.0|             0.0|              0.0|              0.0|              0.0|             0.0|             0.0|             0.0|         256173.48|               2.0|         133431.67|          6927140.0|               41.0|          481903.34|               0.0|               0.0|               0.0|                0.0|                0.0|                0.0|              0.0|              0.0|              0.0|               0.0|               0.0|               0.0|              256173.48|                    2.0|              133431.67|               6927140.0|                    41.0|               481903.34|       122741.8|      256173.48|       5043187.0|       2629804.5|       6927140.0|      1.1705431E7|            1.0|            2.0|            13.0|            18.0|            41.0|             67.0|       122741.8|      133431.67|        589113.7|        400245.0|       481903.34|         667075.0|               0.9999996197437415|                  1.9177034195114429|                  0.7280329648263258|                   0.4308415955942506|                    61370.8984375|                     0.036981127477410954|                                        0.0|                85391.16145833333|                                     0.0|                2.3210380021526067|                                0.9999960964106068|            1.9177034195114429|            0.7280329648263258|             0.4308415955942506|              0.9999998017127262|               0.9999998017127262|               0.9999998556402995|                 0.9852941176470589|                 360227.64285714284|                                   0.0|                      256173.484375|             0.9999918528824057|                                  0.0|               0.9285714285714286|1019091606|             1|                     C|                       null|     31-Jan-00|           D|           C|                      null|      null|        1|             null|                    null|                      0|              0|     0|      null|        N|        400005929|  Low Risk|      10-Nov-17|  C406011|             USD|           null|                      null|                          null|         Albion|          null|            null|            null|           null|       101|        null|             null|            null|                    null|                      3901|            null|        C2|       14-Nov-17|    42.12.2042|   null|0.22062480416249075|0.22062480416249075|\n",
      "|        SG-CM|           0|           1|1019091606USD|              -58|    814860.0|   1086480.0|    3111887.8|    1176114.6|    4320435.5|   1.3088781E7|      814860.0|     1086480.0|      3111887.8|      1176114.6|      4320435.5|     1.3088781E7|    272110.0|    272110.0|     680275.0|    814860.0|   1086480.0|    3111887.8|     272110.0|     272110.0|      408165.0|      272110.0|      272110.0|       680275.0|       272110.0|       272110.0|        408165.0|         4.0|         6.0|         11.0|         12.0|         50.0|         113.0|           4.0|           6.0|           11.0|           12.0|           50.0|           113.0|                0.0|                0.0|                0.0|                 0.0|                 0.0|                 0.0|              0.0|              0.0|              0.0|             0.0|             0.0|             0.0|              0.0|              0.0|              0.0|             0.0|             0.0|             0.0|         1086480.0|               6.0|          272110.0|          4320435.5|               50.0|           272110.0|               0.0|               0.0|               0.0|                0.0|                0.0|                0.0|              0.0|              0.0|              0.0|               0.0|               0.0|               0.0|              1086480.0|                    6.0|               272110.0|               4320435.5|                    50.0|                272110.0|       814860.0|      1086480.0|       3111887.8|       1176114.6|       4320435.5|      1.3088781E7|            4.0|            6.0|            11.0|            12.0|            50.0|            113.0|       272110.0|       272110.0|        680275.0|        272110.0|        272110.0|         408165.0|               0.9999991497434617|                   2.645902906017425|                  0.7202716091302349|                  0.23775227901266902|                         162972.0|                       0.2514745905882426|                                        0.0|               155211.42857142858|                                     0.0|                 4.206056852128792|                                0.9999990795973422|             2.645902906017425|            0.7202716091302349|            0.23775227901266902|              0.9999996786517513|               0.9999996786517513|               0.9999997685419054|                 0.9912280701754386|                 259323.97916666666|                                   0.0|                          1086480.0|             0.9999987727968328|                                  0.0|               0.9166666666666666|1019091606|             1|                     C|                       null|     31-Jan-00|           D|           C|                      null|      null|        1|             null|                    null|                      0|              0|     0|      null|        N|        400005929|  Low Risk|      10-Nov-17|  C406011|             USD|           null|                      null|                          null|         Albion|          null|            null|            null|           null|       101|        null|             null|            null|                    null|                      3901|            null|        C2|       14-Nov-17|    42.12.2042|   null|0.22062480416249075|0.22062480416249075|\n",
      "|        SG-CM|           0|           1|1019091606USD|             -254|         0.0|         0.0|    4787013.5|    2332687.8|    6942877.5|     8520654.0|           0.0|           0.0|      4787013.5|      2332687.8|      6942877.5|       8520654.0|         0.0|         0.0|     589113.7|         0.0|         0.0|    4787013.5|    365036.38|     667075.0|      667075.0|           0.0|           0.0|       589113.7|      365036.38|       667075.0|        667075.0|         0.0|         0.0|         11.0|         11.0|         35.0|          45.0|           0.0|           0.0|           11.0|           11.0|           35.0|            45.0|                0.0|                0.0|                0.0|                 0.0|                 0.0|                 0.0|              0.0|              0.0|              0.0|             0.0|             0.0|             0.0|              0.0|              0.0|              0.0|             0.0|             0.0|             0.0|               0.0|               0.0|               0.0|          6942877.5|               35.0|           667075.0|               0.0|               0.0|               0.0|                0.0|                0.0|                0.0|              0.0|              0.0|              0.0|               0.0|               0.0|               0.0|                    0.0|                    0.0|                    0.0|               6942877.5|                    35.0|                667075.0|            0.0|            0.0|       4787013.5|       2332687.8|       6942877.5|        8520654.0|            0.0|            0.0|            11.0|            11.0|            35.0|             45.0|            0.0|            0.0|        589113.7|       365036.38|        667075.0|         667075.0|               0.9999995713101458|                   2.052144119098615|                  0.6894854202043144|                   0.5618128535893074|                              0.0|                                      0.0|                                        0.0|                              0.0|                                     0.0|                1.7799515752459074|                                               0.0|             2.052144119098615|            0.6894854202043144|             0.5618128535893074|               0.999999791101531|                0.999999791101531|               0.9999998559675213|                 0.9782608695652174|                  398917.7916666667|                                   0.0|                                0.0|                            0.0|                                  0.0|               0.9166666666666666|1019091606|             1|                     C|                       null|     31-Jan-00|           D|           C|                      null|      null|        1|             null|                    null|                      0|              0|     0|      null|        N|        400005929|  Low Risk|      10-Nov-17|  C406011|             USD|           null|                      null|                          null|         Albion|          null|            null|            null|           null|       101|        null|             null|            null|                    null|                      3901|            null|        C2|       14-Nov-17|    42.12.2042|   null|0.22062480416249075|0.22062480416249075|\n",
      "|        SG-CM|           0|           1|1019091606USD|              166|         0.0|         0.0|     97617.56|    1681436.0|    5028318.5|   1.3580451E7|           0.0|           0.0|       97617.56|      1681436.0|      5028318.5|     1.3580451E7|         0.0|         0.0|    48896.832|         0.0|         0.0|     97617.56|     448366.3|     448366.3|      448366.3|           0.0|           0.0|      48896.832|       448366.3|       448366.3|        448366.3|         0.0|         0.0|          2.0|          9.0|         37.0|         115.0|           0.0|           0.0|            2.0|            9.0|           37.0|           115.0|                0.0|                0.0|                0.0|                 0.0|                 0.0|                 0.0|              0.0|              0.0|              0.0|             0.0|             0.0|             0.0|              0.0|              0.0|              0.0|             0.0|             0.0|             0.0|               0.0|               0.0|               0.0|          5028318.5|               37.0|           448366.3|               0.0|               0.0|               0.0|                0.0|                0.0|                0.0|              0.0|              0.0|              0.0|               0.0|               0.0|               0.0|                    0.0|                    0.0|                    0.0|               5028318.5|                    37.0|                448366.3|            0.0|            0.0|        97617.56|       1681436.0|       5028318.5|      1.3580451E7|            0.0|            0.0|             2.0|             9.0|            37.0|            115.0|            0.0|            0.0|       48896.832|        448366.3|        448366.3|         448366.3|               0.9999994052706108|                 0.05805603332149822|                0.019413556059832714|                 0.007188093776260172|                              0.0|                                      0.0|                                        0.0|                              0.0|                                     0.0|                139.11750646809617|                                               0.0|           0.05805603332149822|          0.019413556059832714|           0.007188093776260172|              0.9999897560466535|               0.9999897560466535|               0.9999998011264002|                 0.9913793103448276|                         32539.1875|                                   0.0|                                0.0|                            0.0|                                  0.0|               0.6666666666666666|1019091606|             1|                     C|                       null|     31-Jan-00|           D|           C|                      null|      null|        1|             null|                    null|                      0|              0|     0|      null|        N|        400005929|  Low Risk|      10-Nov-17|  C406011|             USD|           null|                      null|                          null|         Albion|          null|            null|            null|           null|       101|        null|             null|            null|                    null|                      3901|            null|        C2|       14-Nov-17|    42.12.2042|   null|0.22062480416249075|0.22062480416249075|\n",
      "|        SG-CM|           0|           1|1019091606USD|              181|   651901.94|   651901.94|     749519.5|    1153805.9|    4174042.5|    1.207009E7|     651901.94|     651901.94|       749519.5|      1153805.9|      4174042.5|      1.207009E7|   651901.94|   651901.94|    651901.94|   651901.94|   651901.94|     749519.5|     448366.3|     448366.3|      448366.3|     651901.94|     651901.94|      651901.94|       448366.3|       448366.3|        448366.3|         1.0|         1.0|          3.0|          8.0|         33.0|         107.0|           1.0|           1.0|            3.0|            8.0|           33.0|           107.0|                0.0|                0.0|                0.0|                 0.0|                 0.0|                 0.0|              0.0|              0.0|              0.0|             0.0|             0.0|             0.0|              0.0|              0.0|              0.0|             0.0|             0.0|             0.0|         651901.94|               1.0|         651901.94|          4174042.5|               33.0|           448366.3|               0.0|               0.0|               0.0|                0.0|                0.0|                0.0|              0.0|              0.0|              0.0|               0.0|               0.0|               0.0|              651901.94|                    1.0|              651901.94|               4174042.5|                    33.0|                448366.3|      651901.94|      651901.94|        749519.5|       1153805.9|       4174042.5|       1.207009E7|            1.0|            1.0|             3.0|             8.0|            33.0|            107.0|      651901.94|      651901.94|       651901.94|        448366.3|        448366.3|         448366.3|               0.9999991333038295|                  0.6496056803267011|                 0.17956676781159564|                  0.06209725345069892|                     325950.96875|                      0.15617995775559118|                                        0.0|                     325950.96875|                                     0.0|                 16.10374899685866|                                0.9999984660293082|            0.6496056803267011|           0.17956676781159564|            0.06209725345069892|              0.9999986658136769|               0.9999986658136769|               0.9999997604241546|                 0.9907407407407407|                         187379.875|                                   0.0|                        651901.9375|             0.9999984660293082|                                  0.0|                             0.75|1019091606|             1|                     C|                       null|     31-Jan-00|           D|           C|                      null|      null|        1|             null|                    null|                      0|              0|     0|      null|        N|        400005929|  Low Risk|      10-Nov-17|  C406011|             USD|           null|                      null|                          null|         Albion|          null|            null|            null|           null|       101|        null|             null|            null|                    null|                      3901|            null|        C2|       14-Nov-17|    42.12.2042|   null|0.22062480416249075|0.22062480416249075|\n",
      "|        SG-CM|           0|           0|1019091606USD|              -10|         0.0|   1629720.0|    3804006.0|    3983389.2|    6817758.5|   1.4792684E7|           0.0|     1629720.0|      3804006.0|      3983389.2|      6817758.5|     1.4792684E7|         0.0|    408165.0|     680275.0|         0.0|   1629720.0|    3804006.0|     408165.0|     408165.0|      408165.0|           0.0|      408165.0|       680275.0|       408165.0|       408165.0|        408165.0|         0.0|         6.0|         12.0|         32.0|         62.0|         132.0|           0.0|           6.0|           12.0|           32.0|           62.0|           132.0|                0.0|                0.0|                0.0|                 0.0|                 0.0|                 0.0|              0.0|              0.0|              0.0|             0.0|             0.0|             0.0|              0.0|              0.0|              0.0|             0.0|             0.0|             0.0|         1629720.0|               6.0|          408165.0|          6817758.5|               62.0|           408165.0|               0.0|               0.0|               0.0|                0.0|                0.0|                0.0|              0.0|              0.0|              0.0|               0.0|               0.0|               0.0|              1629720.0|                    6.0|               408165.0|               6817758.5|                    62.0|                408165.0|            0.0|      1629720.0|       3804006.0|       3983389.2|       6817758.5|      1.4792684E7|            0.0|            6.0|            12.0|            32.0|            62.0|            132.0|            0.0|       408165.0|        680275.0|        408165.0|        408165.0|         408165.0|               0.9999997489575619|                  0.9549669405351384|                  0.5579554397599388|                   0.2571545327977984|                              0.0|                      0.23904040616275773|                                        0.0|               232817.14285714287|                                     0.0|                  3.88871103549494|                                0.9999993863980399|            0.9549669405351384|            0.5579554397599388|             0.2571545327977984|               0.999999737119306|                0.999999737119306|               0.9999998533242482|                 0.9924812030075187|                  292615.8461538461|                                   0.0|                          1629720.0|                            0.0|                                  0.0|               0.9230769230769231|1019091606|             1|                     C|                       null|     31-Jan-00|           D|           C|                      null|      null|        1|             null|                    null|                      0|              0|     0|      null|        N|        400005929|  Low Risk|      10-Nov-17|  C406011|             USD|           null|                      null|                          null|         Albion|          null|            null|            null|           null|       101|        null|             null|            null|                    null|                      3901|            null|        C2|       14-Nov-17|    42.12.2042|   null| 0.2059149374528213| 0.2059149374528213|\n",
      "|        SG-CM|           0|           0|1019091606USD|             -171|         0.0|   256173.48|    256173.48|    3183483.5|    8022389.5|   1.4166632E7|           0.0|     256173.48|      256173.48|      3183483.5|      8022389.5|     1.4166632E7|         0.0|   133431.67|    133431.67|         0.0|   256173.48|    256173.48|    276352.03|     400245.0|      667075.0|           0.0|     133431.67|      133431.67|      276352.03|       400245.0|        667075.0|         0.0|         2.0|          2.0|         23.0|         55.0|          87.0|           0.0|           2.0|            2.0|           23.0|           55.0|            87.0|                0.0|                0.0|                0.0|                 0.0|                 0.0|                 0.0|              0.0|              0.0|              0.0|             0.0|             0.0|             0.0|              0.0|              0.0|              0.0|             0.0|             0.0|             0.0|         256173.48|               2.0|         133431.67|          8022389.5|               55.0|           400245.0|               0.0|               0.0|               0.0|                0.0|                0.0|                0.0|              0.0|              0.0|              0.0|               0.0|               0.0|               0.0|              256173.48|                    2.0|              133431.67|               8022389.5|                    55.0|                400245.0|            0.0|      256173.48|       256173.48|       3183483.5|       8022389.5|      1.4166632E7|            0.0|            2.0|             2.0|            23.0|            55.0|             87.0|            0.0|      133431.67|       133431.67|       276352.03|        400245.0|         667075.0|                0.999999685878791|                 0.08046952462780955|                 0.03193231299012433|                 0.018082877164602204|                              0.0|                      0.03193231299012433|                                        0.0|                85391.16145833333|                                     0.0|                 55.30071441175317|                                0.9999960964106068|           0.08046952462780955|           0.03193231299012433|           0.018082877164602204|              0.9999960964106068|               0.9999960964106068|               0.9999998753488751|                 0.9886363636363636|                  85391.16145833333|                                   0.0|                      256173.484375|                            0.0|                                  0.0|               0.6666666666666666|1019091606|             1|                     C|                       null|     31-Jan-00|           D|           C|                      null|      null|        1|             null|                    null|                      0|              0|     0|      null|        N|        400005929|  Low Risk|      10-Nov-17|  C406011|             USD|           null|                      null|                          null|         Albion|          null|            null|            null|           null|       101|        null|             null|            null|                    null|                      3901|            null|        C2|       14-Nov-17|    42.12.2042|   null| 0.2059149374528213| 0.2059149374528213|\n",
      "|        SG-CM|           0|           0|1019091606USD|              118|         0.0|    97617.56|    1727337.6|    1480632.5|    6268175.0|   1.5370072E7|           0.0|      97617.56|      1727337.6|      1480632.5|      6268175.0|     1.5370072E7|         0.0|   48896.832|     408165.0|         0.0|    97617.56|    1727337.6|    323563.56|    323563.56|      408165.0|           0.0|     48896.832|       408165.0|      323563.56|      323563.56|        408165.0|         0.0|         2.0|          8.0|         14.0|         60.0|         140.0|           0.0|           2.0|            8.0|           14.0|           60.0|           140.0|                0.0|                0.0|                0.0|                 0.0|                 0.0|                 0.0|              0.0|              0.0|              0.0|             0.0|             0.0|             0.0|              0.0|              0.0|              0.0|             0.0|             0.0|             0.0|          97617.56|               2.0|         48896.832|          6268175.0|               60.0|          323563.56|               0.0|               0.0|               0.0|                0.0|                0.0|                0.0|              0.0|              0.0|              0.0|               0.0|               0.0|               0.0|               97617.56|                    2.0|              48896.832|               6268175.0|                    60.0|               323563.56|            0.0|       97617.56|       1727337.6|       1480632.5|       6268175.0|      1.5370072E7|            0.0|            2.0|             8.0|            14.0|            60.0|            140.0|            0.0|      48896.832|        408165.0|       323563.56|       323563.56|         408165.0|               0.9999993246134171|                  1.1666206559557109|                 0.27557261075630296|                  0.11238317638439323|                              0.0|                       0.0155735197129117|                                        0.0|                       32539.1875|                                     0.0|                 8.898123261731614|                                0.9999897560466535|            1.1666206559557109|           0.27557261075630296|            0.11238317638439323|              0.9999994210747183|               0.9999994210747183|               0.9999998404639563|                 0.9929078014184397|                 191926.40277777778|                                   0.0|                         97617.5625|                            0.0|                                  0.0|               0.8888888888888888|1019091606|             1|                     C|                       null|     31-Jan-00|           D|           C|                      null|      null|        1|             null|                    null|                      0|              0|     0|      null|        N|        400005929|  Low Risk|      10-Nov-17|  C406011|             USD|           null|                      null|                          null|         Albion|          null|            null|            null|           null|       101|        null|             null|            null|                    null|                      3901|            null|        C2|       14-Nov-17|    42.12.2042|   null| 0.2059149374528213| 0.2059149374528213|\n",
      "|        SG-CM|           0|           0|1019091606USD|              -98|         0.0|   2174286.0|    2430459.5|    1511874.2|    8044189.0|   1.4563095E7|           0.0|     2174286.0|      2430459.5|      1511874.2|      8044189.0|     1.4563095E7|         0.0|    680275.0|     680275.0|         0.0|   2174286.0|    2430459.5|     266667.8|     408165.0|      408165.0|           0.0|      680275.0|       680275.0|       266667.8|       408165.0|        408165.0|         0.0|         6.0|          8.0|         16.0|         72.0|         113.0|           0.0|           6.0|            8.0|           16.0|           72.0|           113.0|                0.0|                0.0|                0.0|                 0.0|                 0.0|                 0.0|              0.0|              0.0|              0.0|             0.0|             0.0|             0.0|              0.0|              0.0|              0.0|             0.0|             0.0|             0.0|         2174286.0|               6.0|          680275.0|          8044189.0|               72.0|           408165.0|               0.0|               0.0|               0.0|                0.0|                0.0|                0.0|              0.0|              0.0|              0.0|               0.0|               0.0|               0.0|              2174286.0|                    6.0|               680275.0|               8044189.0|                    72.0|                408165.0|            0.0|      2174286.0|       2430459.5|       1511874.2|       8044189.0|      1.4563095E7|            0.0|            6.0|             8.0|            16.0|            72.0|            113.0|            0.0|       680275.0|        680275.0|        266667.8|        408165.0|         408165.0|               0.9999993385697663|                  1.6075793951915014|                  0.3021384999608413|                  0.16689167605569585|                              0.0|                       0.2702927205846704|                                        0.0|               310612.28571428574|                                     0.0|                5.9919077063790995|                                0.9999995400791156|            1.6075793951915014|            0.3021384999608413|            0.16689167605569585|              0.9999995885553375|               0.9999995885553375|               0.9999998756866757|                 0.9912280701754386|                 270051.05555555556|                                   0.0|                          2174286.0|                            0.0|                                  0.0|               0.8888888888888888|1019091606|             1|                     C|                       null|     31-Jan-00|           D|           C|                      null|      null|        1|             null|                    null|                      0|              0|     0|      null|        N|        400005929|  Low Risk|      10-Nov-17|  C406011|             USD|           null|                      null|                          null|         Albion|          null|            null|            null|           null|       101|        null|             null|            null|                    null|                      3901|            null|        C2|       14-Nov-17|    42.12.2042|   null| 0.2059149374528213| 0.2059149374528213|\n",
      "|        SG-CM|           0|           1|1019091606USD|             -282|         0.0|   4787013.5|    4787013.5|    2304497.0|    6666802.5|     6666802.5|           0.0|     4787013.5|      4787013.5|      2304497.0|      6666802.5|       6666802.5|         0.0|    589113.7|     589113.7|         0.0|   4787013.5|    4787013.5|    481903.34|     667075.0|      667075.0|           0.0|      589113.7|       589113.7|      481903.34|       667075.0|        667075.0|         0.0|        11.0|         11.0|         13.0|         36.0|          36.0|           0.0|          11.0|           11.0|           13.0|           36.0|            36.0|                0.0|                0.0|                0.0|                 0.0|                 0.0|                 0.0|              0.0|              0.0|              0.0|             0.0|             0.0|             0.0|              0.0|              0.0|              0.0|             0.0|             0.0|             0.0|         4787013.5|              11.0|          589113.7|          6666802.5|               36.0|           667075.0|               0.0|               0.0|               0.0|                0.0|                0.0|                0.0|              0.0|              0.0|              0.0|               0.0|               0.0|               0.0|              4787013.5|                   11.0|               589113.7|               6666802.5|                    36.0|                667075.0|            0.0|      4787013.5|       4787013.5|       2304497.0|       6666802.5|        6666802.5|            0.0|           11.0|            11.0|            13.0|            36.0|             36.0|            0.0|       589113.7|        589113.7|       481903.34|        667075.0|         667075.0|               0.9999995660660153|                  2.0772478431311288|                  0.7180372872846785|                   0.7180372872846785|                              0.0|                       0.7180372872846785|                                        0.0|                398917.7916666667|                                     0.0|                1.3926848351932086|                                 0.999999791101531|            2.0772478431311288|            0.7180372872846785|             0.7180372872846785|               0.999999791101531|                0.999999791101531|               0.9999998500030787|                  0.972972972972973|                  398917.7916666667|                                   0.0|                          4787013.5|                            0.0|                                  0.0|               0.9166666666666666|1019091606|             1|                     C|                       null|     31-Jan-00|           D|           C|                      null|      null|        1|             null|                    null|                      0|              0|     0|      null|        N|        400005929|  Low Risk|      10-Nov-17|  C406011|             USD|           null|                      null|                          null|         Albion|          null|            null|            null|           null|       101|        null|             null|            null|                    null|                      3901|            null|        C2|       14-Nov-17|    42.12.2042|   null|0.22062480416249075|0.22062480416249075|\n",
      "|        SG-CM|           0|           0|1019091606USD|              119|         0.0|    97617.56|    1727337.6|    1683980.0|    6393296.0|   1.5573419E7|           0.0|      97617.56|      1727337.6|      1683980.0|      6393296.0|     1.5573419E7|         0.0|   48896.832|     408165.0|         0.0|    97617.56|    1727337.6|    323563.56|    323563.56|      408165.0|           0.0|     48896.832|       408165.0|      323563.56|      323563.56|        408165.0|         0.0|         2.0|          8.0|         16.0|         60.0|         142.0|           0.0|           2.0|            8.0|           16.0|           60.0|           142.0|                0.0|                0.0|                0.0|                 0.0|                 0.0|                 0.0|              0.0|              0.0|              0.0|             0.0|             0.0|             0.0|              0.0|              0.0|              0.0|             0.0|             0.0|             0.0|          97617.56|               2.0|         48896.832|          6393296.0|               60.0|          323563.56|               0.0|               0.0|               0.0|                0.0|                0.0|                0.0|              0.0|              0.0|              0.0|               0.0|               0.0|               0.0|               97617.56|                    2.0|              48896.832|               6393296.0|                    60.0|               323563.56|            0.0|       97617.56|       1727337.6|       1683980.0|       6393296.0|      1.5573419E7|            0.0|            2.0|             8.0|            16.0|            60.0|            142.0|            0.0|      48896.832|        408165.0|       323563.56|       323563.56|         408165.0|                0.999999406169072|                  1.0257465048596155|                 0.27017947469044534|                  0.11091575421455274|                              0.0|                     0.015268735755589017|                                        0.0|                       32539.1875|                                     0.0|                 9.015845980981291|                                0.9999897560466535|            1.0257465048596155|           0.27017947469044534|            0.11091575421455274|              0.9999994210747183|               0.9999994210747183|                0.999999843586181|                  0.993006993006993|                 191926.40277777778|                                   0.0|                         97617.5625|                            0.0|                                  0.0|               0.8888888888888888|1019091606|             1|                     C|                       null|     31-Jan-00|           D|           C|                      null|      null|        1|             null|                    null|                      0|              0|     0|      null|        N|        400005929|  Low Risk|      10-Nov-17|  C406011|             USD|           null|                      null|                          null|         Albion|          null|            null|            null|           null|       101|        null|             null|            null|                    null|                      3901|            null|        C2|       14-Nov-17|    42.12.2042|   null| 0.2059149374528213| 0.2059149374528213|\n",
      "+-------------+------------+------------+-------------+-----------------+------------+------------+-------------+-------------+-------------+--------------+--------------+--------------+---------------+---------------+---------------+----------------+------------+------------+-------------+------------+------------+-------------+-------------+-------------+--------------+--------------+--------------+---------------+---------------+---------------+----------------+------------+------------+-------------+-------------+-------------+--------------+--------------+--------------+---------------+---------------+---------------+----------------+-------------------+-------------------+-------------------+--------------------+--------------------+--------------------+-----------------+-----------------+-----------------+----------------+----------------+----------------+-----------------+-----------------+-----------------+----------------+----------------+----------------+------------------+------------------+------------------+-------------------+-------------------+-------------------+------------------+------------------+------------------+-------------------+-------------------+-------------------+-----------------+-----------------+-----------------+------------------+------------------+------------------+-----------------------+-----------------------+-----------------------+------------------------+------------------------+------------------------+---------------+---------------+----------------+----------------+----------------+-----------------+---------------+---------------+----------------+----------------+----------------+-----------------+---------------+---------------+----------------+----------------+----------------+-----------------+---------------------------------+------------------------------------+------------------------------------+-------------------------------------+---------------------------------+-----------------------------------------+-------------------------------------------+---------------------------------+----------------------------------------+----------------------------------+--------------------------------------------------+------------------------------+------------------------------+-------------------------------+--------------------------------+---------------------------------+---------------------------------+-----------------------------------+-----------------------------------+--------------------------------------+-----------------------------------+-------------------------------+-------------------------------------+---------------------------------+----------+--------------+----------------------+---------------------------+--------------+------------+------------+--------------------------+----------+---------+-----------------+------------------------+-----------------------+---------------+------+----------+---------+-----------------+----------+---------------+---------+----------------+---------------+--------------------------+------------------------------+---------------+--------------+----------------+----------------+---------------+----------+------------+-----------------+----------------+------------------------+--------------------------+----------------+----------+----------------+--------------+-------+-------------------+-------------------+\n",
      "only showing top 20 rows\n",
      "\n"
     ]
    }
   ],
   "source": [
    "df_final.show()"
   ]
  },
  {
   "cell_type": "code",
   "execution_count": 56,
   "metadata": {},
   "outputs": [],
   "source": [
    "def create_unique_label(*args):\n",
    "    unique_label = ''\n",
    "    for a in args:\n",
    "        unique_label = unique_label + str(a) + '_'\n",
    "\n",
    "    return unique_label\n",
    "create_unique_label_udf = udf(create_unique_label, StringType())"
   ]
  },
  {
   "cell_type": "code",
   "execution_count": 57,
   "metadata": {},
   "outputs": [],
   "source": [
    "unique_cluster_label = 'unique_cluster_label'"
   ]
  },
  {
   "cell_type": "code",
   "execution_count": 58,
   "metadata": {},
   "outputs": [],
   "source": [
    "df_final = df_final.withColumn(unique_cluster_label,\n",
    "                                       create_unique_label_udf(BUSINESS_UNIT, clu_level0_label, clu_level1_label))\n"
   ]
  },
  {
   "cell_type": "code",
   "execution_count": 59,
   "metadata": {},
   "outputs": [
    {
     "name": "stdout",
     "output_type": "stream",
     "text": [
      "+--------------------+\n",
      "|unique_cluster_label|\n",
      "+--------------------+\n",
      "|          SG-CM_0_1_|\n",
      "|          SG-CM_0_1_|\n",
      "|          SG-CM_0_0_|\n",
      "|          SG-CM_0_1_|\n",
      "|          SG-CM_0_0_|\n",
      "|          SG-CM_0_1_|\n",
      "|          SG-CM_0_0_|\n",
      "|          SG-CM_0_1_|\n",
      "|          SG-CM_0_0_|\n",
      "|          SG-CM_0_1_|\n",
      "|          SG-CM_0_1_|\n",
      "|          SG-CM_0_1_|\n",
      "|          SG-CM_0_1_|\n",
      "|          SG-CM_0_1_|\n",
      "|          SG-CM_0_0_|\n",
      "|          SG-CM_0_0_|\n",
      "|          SG-CM_0_0_|\n",
      "|          SG-CM_0_0_|\n",
      "|          SG-CM_0_1_|\n",
      "|          SG-CM_0_0_|\n",
      "+--------------------+\n",
      "only showing top 20 rows\n",
      "\n"
     ]
    }
   ],
   "source": [
    "df_final.select('unique_cluster_label').show()"
   ]
  },
  {
   "cell_type": "code",
   "execution_count": 60,
   "metadata": {},
   "outputs": [],
   "source": [
    "df_final = (reduce(lambda temp_df, col_name: temp_df.withColumn(col_name + '_norm', pysp_func.log(\n",
    "            temp_df[col_name] + 1.01) / np.log(10)), ano_features, df_final))\n"
   ]
  },
  {
   "cell_type": "code",
   "execution_count": 61,
   "metadata": {},
   "outputs": [
    {
     "data": {
      "text/plain": [
       "[Row(BUSINESS_UNIT=u'SG-CM', prediction_1=u'0', prediction_2=u'1', ACCOUNT_KEY=u'1019091606USD', daysSinceStartDay=u'241', IN_30DAY_AMT=u'432.41904', IN_90DAY_AMT=u'652334.3', IN_180DAY_AMT=u'749951.9', OUT_30DAY_AMT=u'2374183.2', OUT_90DAY_AMT=u'4544186.0', OUT_180DAY_AMT=u'9152287.0', HRIN_30DAY_AMT=u'432.41904', HRIN_90DAY_AMT=u'652334.3', HRIN_180DAY_AMT=u'749951.9', HROUT_30DAY_AMT=u'2374183.2', HROUT_90DAY_AMT=u'4544186.0', HROUT_180DAY_AMT=u'9152287.0', IN_30DAY_MAX=u'216.59956', IN_90DAY_MAX=u'651901.94', IN_180DAY_MAX=u'651901.94', IN_30DAY_MIN=u'432.41904', IN_90DAY_MIN=u'652334.3', IN_180DAY_MIN=u'749951.9', OUT_30DAY_MAX=u'231013.64', OUT_90DAY_MAX=u'448366.3', OUT_180DAY_MAX=u'448366.3', HRIN_30DAY_MAX=u'216.59956', HRIN_90DAY_MAX=u'651901.94', HRIN_180DAY_MAX=u'651901.94', HROUT_30DAY_MAX=u'231013.64', HROUT_90DAY_MAX=u'448366.3', HROUT_180DAY_MAX=u'448366.3', IN_30DAY_VOL=u'2.0', IN_90DAY_VOL=u'3.0', IN_180DAY_VOL=u'5.0', OUT_30DAY_VOL=u'28.0', OUT_90DAY_VOL=u'42.0', OUT_180DAY_VOL=u'81.0', HRIN_30DAY_VOL=u'2.0', HRIN_90DAY_VOL=u'3.0', HRIN_180DAY_VOL=u'5.0', HROUT_30DAY_VOL=u'28.0', HROUT_90DAY_VOL=u'42.0', HROUT_180DAY_VOL=u'81.0', CASHEQ-IN_90DAY_AMT=u'0.0', CASHEQ-IN_90DAY_VOL=u'0.0', CASHEQ-IN_90DAY_MAX=u'0.0', CASHEQ-OUT_90DAY_AMT=u'0.0', CASHEQ-OUT_90DAY_VOL=u'0.0', CASHEQ-OUT_90DAY_MAX=u'0.0', ATM-OUT_90DAY_AMT=u'0.0', ATM-OUT_90DAY_VOL=u'0.0', ATM-OUT_90DAY_MAX=u'0.0', CHQ-IN_90DAY_AMT=u'0.0', CHQ-IN_90DAY_VOL=u'0.0', CHQ-IN_90DAY_MAX=u'0.0', CHQ-OUT_90DAY_AMT=u'0.0', CHQ-OUT_90DAY_VOL=u'0.0', CHQ-OUT_90DAY_MAX=u'0.0', CDM-IN_90DAY_AMT=u'0.0', CDM-IN_90DAY_VOL=u'0.0', CDM-IN_90DAY_MAX=u'0.0', EXTFT-IN_90DAY_AMT=u'652334.3', EXTFT-IN_90DAY_VOL=u'3.0', EXTFT-IN_90DAY_MAX=u'651901.94', EXTFT-OUT_90DAY_AMT=u'4544186.0', EXTFT-OUT_90DAY_VOL=u'42.0', EXTFT-OUT_90DAY_MAX=u'448366.3', LOCFT-IN_90DAY_AMT=u'0.0', LOCFT-IN_90DAY_VOL=u'0.0', LOCFT-IN_90DAY_MAX=u'0.0', LOCFT-OUT_90DAY_AMT=u'0.0', LOCFT-OUT_90DAY_VOL=u'0.0', LOCFT-OUT_90DAY_MAX=u'0.0', MISC-IN_90DAY_AMT=u'0.0', MISC-IN_90DAY_VOL=u'0.0', MISC-IN_90DAY_MAX=u'0.0', MISC-OUT_90DAY_AMT=u'0.0', MISC-OUT_90DAY_VOL=u'0.0', MISC-OUT_90DAY_MAX=u'0.0', REMITTANCE-IN_90DAY_AMT=u'652334.3', REMITTANCE-IN_90DAY_VOL=u'3.0', REMITTANCE-IN_90DAY_MAX=u'651901.94', REMITTANCE-OUT_90DAY_AMT=u'4544186.0', REMITTANCE-OUT_90DAY_VOL=u'42.0', REMITTANCE-OUT_90DAY_MAX=u'448366.3', TAXIN_30DAY_AMT=u'432.41904', TAXIN_90DAY_AMT=u'652334.3', TAXIN_180DAY_AMT=u'749951.9', TAXOUT_30DAY_AMT=u'2374183.2', TAXOUT_90DAY_AMT=u'4544186.0', TAXOUT_180DAY_AMT=u'9152287.0', TAXIN_30DAY_VOL=u'2.0', TAXIN_90DAY_VOL=u'3.0', TAXIN_180DAY_VOL=u'5.0', TAXOUT_30DAY_VOL=u'28.0', TAXOUT_90DAY_VOL=u'42.0', TAXOUT_180DAY_VOL=u'81.0', TAXIN_30DAY_MAX=u'216.59956', TAXIN_90DAY_MAX=u'651901.94', TAXIN_180DAY_MAX=u'651901.94', TAXOUT_30DAY_MAX=u'231013.64', TAXOUT_90DAY_MAX=u'448366.3', TAXOUT_180DAY_MAX=u'448366.3', OUT_30DAY_AMT_vs_TAXOUT_30DAY_AMT=u'0.9999995788026982', TAXIN_180DAY_AMT_vs_TAXOUT_30DAY_AMT=u'0.3158777062058263', TAXIN_180DAY_AMT_vs_TAXOUT_90DAY_AMT=u'0.16503543428120365', TAXIN_180DAY_AMT_vs_TAXOUT_180DAY_AMT=u'0.08194146370830988', HRIN_30DAY_AMT_vs_TAXIN_30DAY_VOL=u'144.13967895507812', EXTFT-IN_90DAY_AMT_vs_EXTFT-OUT_90DAY_AMT=u'0.14355358010134706', CASHEQ-IN_90DAY_AMT_vs_CASHEQ-OUT_90DAY_AMT=u'0.0', HRIN_90DAY_AMT_vs_TAXIN_90DAY_VOL=u'163083.578125', LOCFT-IN_90DAY_AMT_vs_LOCFT-IN_90DAY_AMT=u'0.0', OUT_180DAY_AMT_vs_TAXIN_180DAY_AMT=u'12.203816139780782', REMITTANCE-IN_90DAY_AMT_vs_REMITTANCE-IN_90DAY_AMT=u'0.9999984670460408', IN_180DAY_AMT_vs_OUT_30DAY_AMT=u'0.3158777062058263', IN_180DAY_AMT_vs_OUT_90DAY_AMT=u'0.16503543428120365', IN_180DAY_AMT_vs_OUT_180DAY_AMT=u'0.08194146370830988', IN_180DAY_AMT_vs_HRIN_180DAY_AMT=u'0.9999986665828836', IN_180DAY_AMT_vs_TAXIN_180DAY_AMT=u'0.9999986665828836', OUT_90DAY_AMT_vs_TAXOUT_90DAY_AMT=u'0.9999997799386336', OUT_180DAY_VOL_vs_TAXOUT_180DAY_VOL=u'0.9878048780487805', HRIN_180DAY_AMT_vs_TAXIN_180DAY_VOL=u'124991.97916666667', MISC-IN_90DAY_AMT_vs_MISC-IN_90DAY_AMT=u'0.0', IN_90DAY_AMT_vs_CASHEQ-IN_90DAY_AMT=u'652334.3125', IN_30DAY_AMT_vs_TAXIN_30DAY_AMT=u'0.9976927640113996', CHQ-IN_90DAY_AMT_vs_CHQ-OUT_90DAY_AMT=u'0.0', IN_180DAY_VOL_vs_TAXIN_180DAY_VOL=u'0.8333333333333334', ACCT_NUM=u'1019091606', ACCOUNT_STATUS=u'1', ACCT_CLASSIFICATION_CD=u'C', ACCT_CURR_STATED_ACCT_VALUE=None, ACCT_OPEN_DATE=u'31-Jan-00', ACCT_TYPE_CD=u'D', SEGMENT_CODE=u'C', CHANNEL_OF_ACCOUNT_OPENING=None, COUNTRY_CD=None, IS_ACTIVE=u'1', IS_ANONYMOUS_ACCT=None, IS_FOREIGN_FINANCIAL_ORG=None, IS_NON_PHYSICAL_ADDRESS=u'0', IS_NON_RESIDENT=u'0', IS_PEP=u'0', IS_SUSPECT=None, MAIL_CODE=u'N', PRIMARY_PARTY_KEY=u'400005929', RISK_LEVEL=u'Low Risk', ROW_UPDATE_DATE=u'10-Nov-17', SECTOR_CD=u'C406011', ACCT_CURRENCY_CD=u'USD', ACCT_CLOSE_DATE=None, ACCT_CURRENCY_CREDIT_LIMIT=None, ACCT_CURR_STATED_ACCT_ACTIVITY=None, ACCT_FIRST_NAME=u'Albion', ACCT_LAST_NAME=None, ACCT_MAIDEN_NAME=None, ACCT_MIDDLE_NAME=None, ACCT_OTHER_NAME=None, BRANCH_KEY=u'101', HOUSEHOLD_ID=None, IS_ONLINE_ACCOUNT=None, LAST_REVIEW_DATE=None, OPTION_APPROVAL_LEVEL_CD=None, PRIMARY_REPRESENTATIVE_KEY=u'3901', ACCT_CATEGORY_CD=None, POPULATION=u'C2', DATE_DATA_LOADED=u'14-Nov-17', CUSTOM_FIELD_1=u'42.12.2042', FIG_IND=None, clu_risk_score=0.22062480416249075, clu_risk_score_norm=0.22062480416249075, unique_cluster_label=u'SG-CM_0_1_', TAXIN_30DAY_AMT_norm=2.6369180059437487, HRIN_30DAY_AMT_norm=2.6369180059437487),\n",
       " Row(BUSINESS_UNIT=u'SG-CM', prediction_1=u'0', prediction_2=u'1', ACCOUNT_KEY=u'1019091606USD', daysSinceStartDay=u'-57', IN_30DAY_AMT=u'814860.0', IN_90DAY_AMT=u'1086480.0', IN_180DAY_AMT=u'3111887.8', OUT_30DAY_AMT=u'1277063.5', OUT_90DAY_AMT=u'4270798.0', OUT_180DAY_AMT=u'1.318973E7', HRIN_30DAY_AMT=u'814860.0', HRIN_90DAY_AMT=u'1086480.0', HRIN_180DAY_AMT=u'3111887.8', HROUT_30DAY_AMT=u'1277063.5', HROUT_90DAY_AMT=u'4270798.0', HROUT_180DAY_AMT=u'1.318973E7', IN_30DAY_MAX=u'272110.0', IN_90DAY_MAX=u'272110.0', IN_180DAY_MAX=u'680275.0', IN_30DAY_MIN=u'814860.0', IN_90DAY_MIN=u'1086480.0', IN_180DAY_MIN=u'3111887.8', OUT_30DAY_MAX=u'272110.0', OUT_90DAY_MAX=u'272110.0', OUT_180DAY_MAX=u'408165.0', HRIN_30DAY_MAX=u'272110.0', HRIN_90DAY_MAX=u'272110.0', HRIN_180DAY_MAX=u'680275.0', HROUT_30DAY_MAX=u'272110.0', HROUT_90DAY_MAX=u'272110.0', HROUT_180DAY_MAX=u'408165.0', IN_30DAY_VOL=u'4.0', IN_90DAY_VOL=u'6.0', IN_180DAY_VOL=u'11.0', OUT_30DAY_VOL=u'14.0', OUT_90DAY_VOL=u'50.0', OUT_180DAY_VOL=u'115.0', HRIN_30DAY_VOL=u'4.0', HRIN_90DAY_VOL=u'6.0', HRIN_180DAY_VOL=u'11.0', HROUT_30DAY_VOL=u'14.0', HROUT_90DAY_VOL=u'50.0', HROUT_180DAY_VOL=u'115.0', CASHEQ-IN_90DAY_AMT=u'0.0', CASHEQ-IN_90DAY_VOL=u'0.0', CASHEQ-IN_90DAY_MAX=u'0.0', CASHEQ-OUT_90DAY_AMT=u'0.0', CASHEQ-OUT_90DAY_VOL=u'0.0', CASHEQ-OUT_90DAY_MAX=u'0.0', ATM-OUT_90DAY_AMT=u'0.0', ATM-OUT_90DAY_VOL=u'0.0', ATM-OUT_90DAY_MAX=u'0.0', CHQ-IN_90DAY_AMT=u'0.0', CHQ-IN_90DAY_VOL=u'0.0', CHQ-IN_90DAY_MAX=u'0.0', CHQ-OUT_90DAY_AMT=u'0.0', CHQ-OUT_90DAY_VOL=u'0.0', CHQ-OUT_90DAY_MAX=u'0.0', CDM-IN_90DAY_AMT=u'0.0', CDM-IN_90DAY_VOL=u'0.0', CDM-IN_90DAY_MAX=u'0.0', EXTFT-IN_90DAY_AMT=u'1086480.0', EXTFT-IN_90DAY_VOL=u'6.0', EXTFT-IN_90DAY_MAX=u'272110.0', EXTFT-OUT_90DAY_AMT=u'4270798.0', EXTFT-OUT_90DAY_VOL=u'50.0', EXTFT-OUT_90DAY_MAX=u'272110.0', LOCFT-IN_90DAY_AMT=u'0.0', LOCFT-IN_90DAY_VOL=u'0.0', LOCFT-IN_90DAY_MAX=u'0.0', LOCFT-OUT_90DAY_AMT=u'0.0', LOCFT-OUT_90DAY_VOL=u'0.0', LOCFT-OUT_90DAY_MAX=u'0.0', MISC-IN_90DAY_AMT=u'0.0', MISC-IN_90DAY_VOL=u'0.0', MISC-IN_90DAY_MAX=u'0.0', MISC-OUT_90DAY_AMT=u'0.0', MISC-OUT_90DAY_VOL=u'0.0', MISC-OUT_90DAY_MAX=u'0.0', REMITTANCE-IN_90DAY_AMT=u'1086480.0', REMITTANCE-IN_90DAY_VOL=u'6.0', REMITTANCE-IN_90DAY_MAX=u'272110.0', REMITTANCE-OUT_90DAY_AMT=u'4270798.0', REMITTANCE-OUT_90DAY_VOL=u'50.0', REMITTANCE-OUT_90DAY_MAX=u'272110.0', TAXIN_30DAY_AMT=u'814860.0', TAXIN_90DAY_AMT=u'1086480.0', TAXIN_180DAY_AMT=u'3111887.8', TAXOUT_30DAY_AMT=u'1277063.5', TAXOUT_90DAY_AMT=u'4270798.0', TAXOUT_180DAY_AMT=u'1.318973E7', TAXIN_30DAY_VOL=u'4.0', TAXIN_90DAY_VOL=u'6.0', TAXIN_180DAY_VOL=u'11.0', TAXOUT_30DAY_VOL=u'14.0', TAXOUT_90DAY_VOL=u'50.0', TAXOUT_180DAY_VOL=u'115.0', TAXIN_30DAY_MAX=u'272110.0', TAXIN_90DAY_MAX=u'272110.0', TAXIN_180DAY_MAX=u'680275.0', TAXOUT_30DAY_MAX=u'272110.0', TAXOUT_90DAY_MAX=u'272110.0', TAXOUT_180DAY_MAX=u'408165.0', OUT_30DAY_AMT_vs_TAXOUT_30DAY_AMT=u'0.9999992169541946', TAXIN_180DAY_AMT_vs_TAXOUT_30DAY_AMT=u'2.4367506496343765', TAXIN_180DAY_AMT_vs_TAXOUT_90DAY_AMT=u'0.7286429892860797', TAXIN_180DAY_AMT_vs_TAXOUT_180DAY_AMT=u'0.23593261682137415', HRIN_30DAY_AMT_vs_TAXIN_30DAY_VOL=u'162972.0', EXTFT-IN_90DAY_AMT_vs_EXTFT-OUT_90DAY_AMT=u'0.2543973621797701', CASHEQ-IN_90DAY_AMT_vs_CASHEQ-OUT_90DAY_AMT=u'0.0', HRIN_90DAY_AMT_vs_TAXIN_90DAY_VOL=u'155211.42857142858', LOCFT-IN_90DAY_AMT_vs_LOCFT-IN_90DAY_AMT=u'0.0', OUT_180DAY_AMT_vs_TAXIN_180DAY_AMT=u'4.238496636488049', REMITTANCE-IN_90DAY_AMT_vs_REMITTANCE-IN_90DAY_AMT=u'0.9999990795973422', IN_180DAY_AMT_vs_OUT_30DAY_AMT=u'2.4367506496343765', IN_180DAY_AMT_vs_OUT_90DAY_AMT=u'0.7286429892860797', IN_180DAY_AMT_vs_OUT_180DAY_AMT=u'0.23593261682137415', IN_180DAY_AMT_vs_HRIN_180DAY_AMT=u'0.9999996786517513', IN_180DAY_AMT_vs_TAXIN_180DAY_AMT=u'0.9999996786517513', OUT_90DAY_AMT_vs_TAXOUT_90DAY_AMT=u'0.9999997658517762', OUT_180DAY_VOL_vs_TAXOUT_180DAY_VOL=u'0.9913793103448276', HRIN_180DAY_AMT_vs_TAXIN_180DAY_VOL=u'259323.97916666666', MISC-IN_90DAY_AMT_vs_MISC-IN_90DAY_AMT=u'0.0', IN_90DAY_AMT_vs_CASHEQ-IN_90DAY_AMT=u'1086480.0', IN_30DAY_AMT_vs_TAXIN_30DAY_AMT=u'0.9999987727968328', CHQ-IN_90DAY_AMT_vs_CHQ-OUT_90DAY_AMT=u'0.0', IN_180DAY_VOL_vs_TAXIN_180DAY_VOL=u'0.9166666666666666', ACCT_NUM=u'1019091606', ACCOUNT_STATUS=u'1', ACCT_CLASSIFICATION_CD=u'C', ACCT_CURR_STATED_ACCT_VALUE=None, ACCT_OPEN_DATE=u'31-Jan-00', ACCT_TYPE_CD=u'D', SEGMENT_CODE=u'C', CHANNEL_OF_ACCOUNT_OPENING=None, COUNTRY_CD=None, IS_ACTIVE=u'1', IS_ANONYMOUS_ACCT=None, IS_FOREIGN_FINANCIAL_ORG=None, IS_NON_PHYSICAL_ADDRESS=u'0', IS_NON_RESIDENT=u'0', IS_PEP=u'0', IS_SUSPECT=None, MAIL_CODE=u'N', PRIMARY_PARTY_KEY=u'400005929', RISK_LEVEL=u'Low Risk', ROW_UPDATE_DATE=u'10-Nov-17', SECTOR_CD=u'C406011', ACCT_CURRENCY_CD=u'USD', ACCT_CLOSE_DATE=None, ACCT_CURRENCY_CREDIT_LIMIT=None, ACCT_CURR_STATED_ACCT_ACTIVITY=None, ACCT_FIRST_NAME=u'Albion', ACCT_LAST_NAME=None, ACCT_MAIDEN_NAME=None, ACCT_MIDDLE_NAME=None, ACCT_OTHER_NAME=None, BRANCH_KEY=u'101', HOUSEHOLD_ID=None, IS_ONLINE_ACCOUNT=None, LAST_REVIEW_DATE=None, OPTION_APPROVAL_LEVEL_CD=None, PRIMARY_REPRESENTATIVE_KEY=u'3901', ACCT_CATEGORY_CD=None, POPULATION=u'C2', DATE_DATA_LOADED=u'14-Nov-17', CUSTOM_FIELD_1=u'42.12.2042', FIG_IND=None, clu_risk_score=0.22062480416249075, clu_risk_score_norm=0.22062480416249075, unique_cluster_label=u'SG-CM_0_1_', TAXIN_30DAY_AMT_norm=5.911083537896124, HRIN_30DAY_AMT_norm=5.911083537896124)]"
      ]
     },
     "execution_count": 61,
     "metadata": {},
     "output_type": "execute_result"
    }
   ],
   "source": [
    "df_final.take(2)"
   ]
  },
  {
   "cell_type": "code",
   "execution_count": 62,
   "metadata": {},
   "outputs": [],
   "source": [
    "ano_features_norm = [a + '_norm' for a in ano_features]"
   ]
  },
  {
   "cell_type": "code",
   "execution_count": 63,
   "metadata": {},
   "outputs": [
    {
     "data": {
      "text/plain": [
       "['TAXIN_30DAY_AMT_norm', 'HRIN_30DAY_AMT_norm']"
      ]
     },
     "execution_count": 63,
     "metadata": {},
     "output_type": "execute_result"
    }
   ],
   "source": [
    "ano_features_norm"
   ]
  },
  {
   "cell_type": "code",
   "execution_count": 64,
   "metadata": {},
   "outputs": [],
   "source": [
    "funs = [pysp_func.mean, pysp_func.stddev]"
   ]
  },
  {
   "cell_type": "code",
   "execution_count": 65,
   "metadata": {},
   "outputs": [],
   "source": [
    "exprs = [f(col(c)) for f in funs for c in ano_features_norm]"
   ]
  },
  {
   "cell_type": "code",
   "execution_count": 66,
   "metadata": {},
   "outputs": [
    {
     "data": {
      "text/plain": [
       "[Column<avg(TAXIN_30DAY_AMT_norm)>,\n",
       " Column<avg(HRIN_30DAY_AMT_norm)>,\n",
       " Column<stddev_samp(TAXIN_30DAY_AMT_norm)>,\n",
       " Column<stddev_samp(HRIN_30DAY_AMT_norm)>]"
      ]
     },
     "execution_count": 66,
     "metadata": {},
     "output_type": "execute_result"
    }
   ],
   "source": [
    "exprs "
   ]
  },
  {
   "cell_type": "code",
   "execution_count": 67,
   "metadata": {},
   "outputs": [],
   "source": [
    "df_unique_label_mean_std = df_final.groupBy(unique_cluster_label).agg(*exprs)"
   ]
  },
  {
   "cell_type": "code",
   "execution_count": 68,
   "metadata": {},
   "outputs": [
    {
     "name": "stdout",
     "output_type": "stream",
     "text": [
      "+--------------------+-------------------------+------------------------+---------------------------------+--------------------------------+\n",
      "|unique_cluster_label|avg(TAXIN_30DAY_AMT_norm)|avg(HRIN_30DAY_AMT_norm)|stddev_samp(TAXIN_30DAY_AMT_norm)|stddev_samp(HRIN_30DAY_AMT_norm)|\n",
      "+--------------------+-------------------------+------------------------+---------------------------------+--------------------------------+\n",
      "|         SG-CMM_0_0_|        6.169703523008295|       6.169703523008295|                0.132516041555883|               0.132516041555883|\n",
      "|         SG-CMM_0_1_|        3.856607720975076|       3.856607720975076|               2.6063824114752108|              2.6063824114752108|\n",
      "|          SG-PV_0_1_|        5.637164909602961|       5.637164909602961|               0.3274576514026908|              0.3274576514026908|\n",
      "|          SG-CM_0_1_|        2.957086005713657|       2.957086005713657|               2.6473176211433675|              2.6473176211433675|\n",
      "|          SG-CM_0_0_|       2.0299449050818166|      2.0299449050818166|               2.6977989375545315|              2.6977989375545315|\n",
      "|          SG-PV_0_0_|        2.675920514627005|       2.675920514627005|                2.772446133792956|               2.772446133792956|\n",
      "|          SG-CM_1_1_|       2.6864403993680868|      2.6864403993680868|                3.301714312713089|               3.301714312713089|\n",
      "|          SG-CM_1_0_|       1.4956737580264328|      1.4956737580264328|               2.2543965638595225|              2.2543965638595225|\n",
      "+--------------------+-------------------------+------------------------+---------------------------------+--------------------------------+\n",
      "\n"
     ]
    }
   ],
   "source": [
    "df_unique_label_mean_std.show()"
   ]
  },
  {
   "cell_type": "code",
   "execution_count": 69,
   "metadata": {},
   "outputs": [],
   "source": [
    "df_final = df_final.join(broadcast(df_unique_label_mean_std), on=unique_cluster_label)"
   ]
  },
  {
   "cell_type": "code",
   "execution_count": 70,
   "metadata": {},
   "outputs": [
    {
     "data": {
      "text/plain": [
       "[Row(unique_cluster_label=u'SG-CM_0_1_', BUSINESS_UNIT=u'SG-CM', prediction_1=u'0', prediction_2=u'1', ACCOUNT_KEY=u'1019091606USD', daysSinceStartDay=u'241', IN_30DAY_AMT=u'432.41904', IN_90DAY_AMT=u'652334.3', IN_180DAY_AMT=u'749951.9', OUT_30DAY_AMT=u'2374183.2', OUT_90DAY_AMT=u'4544186.0', OUT_180DAY_AMT=u'9152287.0', HRIN_30DAY_AMT=u'432.41904', HRIN_90DAY_AMT=u'652334.3', HRIN_180DAY_AMT=u'749951.9', HROUT_30DAY_AMT=u'2374183.2', HROUT_90DAY_AMT=u'4544186.0', HROUT_180DAY_AMT=u'9152287.0', IN_30DAY_MAX=u'216.59956', IN_90DAY_MAX=u'651901.94', IN_180DAY_MAX=u'651901.94', IN_30DAY_MIN=u'432.41904', IN_90DAY_MIN=u'652334.3', IN_180DAY_MIN=u'749951.9', OUT_30DAY_MAX=u'231013.64', OUT_90DAY_MAX=u'448366.3', OUT_180DAY_MAX=u'448366.3', HRIN_30DAY_MAX=u'216.59956', HRIN_90DAY_MAX=u'651901.94', HRIN_180DAY_MAX=u'651901.94', HROUT_30DAY_MAX=u'231013.64', HROUT_90DAY_MAX=u'448366.3', HROUT_180DAY_MAX=u'448366.3', IN_30DAY_VOL=u'2.0', IN_90DAY_VOL=u'3.0', IN_180DAY_VOL=u'5.0', OUT_30DAY_VOL=u'28.0', OUT_90DAY_VOL=u'42.0', OUT_180DAY_VOL=u'81.0', HRIN_30DAY_VOL=u'2.0', HRIN_90DAY_VOL=u'3.0', HRIN_180DAY_VOL=u'5.0', HROUT_30DAY_VOL=u'28.0', HROUT_90DAY_VOL=u'42.0', HROUT_180DAY_VOL=u'81.0', CASHEQ-IN_90DAY_AMT=u'0.0', CASHEQ-IN_90DAY_VOL=u'0.0', CASHEQ-IN_90DAY_MAX=u'0.0', CASHEQ-OUT_90DAY_AMT=u'0.0', CASHEQ-OUT_90DAY_VOL=u'0.0', CASHEQ-OUT_90DAY_MAX=u'0.0', ATM-OUT_90DAY_AMT=u'0.0', ATM-OUT_90DAY_VOL=u'0.0', ATM-OUT_90DAY_MAX=u'0.0', CHQ-IN_90DAY_AMT=u'0.0', CHQ-IN_90DAY_VOL=u'0.0', CHQ-IN_90DAY_MAX=u'0.0', CHQ-OUT_90DAY_AMT=u'0.0', CHQ-OUT_90DAY_VOL=u'0.0', CHQ-OUT_90DAY_MAX=u'0.0', CDM-IN_90DAY_AMT=u'0.0', CDM-IN_90DAY_VOL=u'0.0', CDM-IN_90DAY_MAX=u'0.0', EXTFT-IN_90DAY_AMT=u'652334.3', EXTFT-IN_90DAY_VOL=u'3.0', EXTFT-IN_90DAY_MAX=u'651901.94', EXTFT-OUT_90DAY_AMT=u'4544186.0', EXTFT-OUT_90DAY_VOL=u'42.0', EXTFT-OUT_90DAY_MAX=u'448366.3', LOCFT-IN_90DAY_AMT=u'0.0', LOCFT-IN_90DAY_VOL=u'0.0', LOCFT-IN_90DAY_MAX=u'0.0', LOCFT-OUT_90DAY_AMT=u'0.0', LOCFT-OUT_90DAY_VOL=u'0.0', LOCFT-OUT_90DAY_MAX=u'0.0', MISC-IN_90DAY_AMT=u'0.0', MISC-IN_90DAY_VOL=u'0.0', MISC-IN_90DAY_MAX=u'0.0', MISC-OUT_90DAY_AMT=u'0.0', MISC-OUT_90DAY_VOL=u'0.0', MISC-OUT_90DAY_MAX=u'0.0', REMITTANCE-IN_90DAY_AMT=u'652334.3', REMITTANCE-IN_90DAY_VOL=u'3.0', REMITTANCE-IN_90DAY_MAX=u'651901.94', REMITTANCE-OUT_90DAY_AMT=u'4544186.0', REMITTANCE-OUT_90DAY_VOL=u'42.0', REMITTANCE-OUT_90DAY_MAX=u'448366.3', TAXIN_30DAY_AMT=u'432.41904', TAXIN_90DAY_AMT=u'652334.3', TAXIN_180DAY_AMT=u'749951.9', TAXOUT_30DAY_AMT=u'2374183.2', TAXOUT_90DAY_AMT=u'4544186.0', TAXOUT_180DAY_AMT=u'9152287.0', TAXIN_30DAY_VOL=u'2.0', TAXIN_90DAY_VOL=u'3.0', TAXIN_180DAY_VOL=u'5.0', TAXOUT_30DAY_VOL=u'28.0', TAXOUT_90DAY_VOL=u'42.0', TAXOUT_180DAY_VOL=u'81.0', TAXIN_30DAY_MAX=u'216.59956', TAXIN_90DAY_MAX=u'651901.94', TAXIN_180DAY_MAX=u'651901.94', TAXOUT_30DAY_MAX=u'231013.64', TAXOUT_90DAY_MAX=u'448366.3', TAXOUT_180DAY_MAX=u'448366.3', OUT_30DAY_AMT_vs_TAXOUT_30DAY_AMT=u'0.9999995788026982', TAXIN_180DAY_AMT_vs_TAXOUT_30DAY_AMT=u'0.3158777062058263', TAXIN_180DAY_AMT_vs_TAXOUT_90DAY_AMT=u'0.16503543428120365', TAXIN_180DAY_AMT_vs_TAXOUT_180DAY_AMT=u'0.08194146370830988', HRIN_30DAY_AMT_vs_TAXIN_30DAY_VOL=u'144.13967895507812', EXTFT-IN_90DAY_AMT_vs_EXTFT-OUT_90DAY_AMT=u'0.14355358010134706', CASHEQ-IN_90DAY_AMT_vs_CASHEQ-OUT_90DAY_AMT=u'0.0', HRIN_90DAY_AMT_vs_TAXIN_90DAY_VOL=u'163083.578125', LOCFT-IN_90DAY_AMT_vs_LOCFT-IN_90DAY_AMT=u'0.0', OUT_180DAY_AMT_vs_TAXIN_180DAY_AMT=u'12.203816139780782', REMITTANCE-IN_90DAY_AMT_vs_REMITTANCE-IN_90DAY_AMT=u'0.9999984670460408', IN_180DAY_AMT_vs_OUT_30DAY_AMT=u'0.3158777062058263', IN_180DAY_AMT_vs_OUT_90DAY_AMT=u'0.16503543428120365', IN_180DAY_AMT_vs_OUT_180DAY_AMT=u'0.08194146370830988', IN_180DAY_AMT_vs_HRIN_180DAY_AMT=u'0.9999986665828836', IN_180DAY_AMT_vs_TAXIN_180DAY_AMT=u'0.9999986665828836', OUT_90DAY_AMT_vs_TAXOUT_90DAY_AMT=u'0.9999997799386336', OUT_180DAY_VOL_vs_TAXOUT_180DAY_VOL=u'0.9878048780487805', HRIN_180DAY_AMT_vs_TAXIN_180DAY_VOL=u'124991.97916666667', MISC-IN_90DAY_AMT_vs_MISC-IN_90DAY_AMT=u'0.0', IN_90DAY_AMT_vs_CASHEQ-IN_90DAY_AMT=u'652334.3125', IN_30DAY_AMT_vs_TAXIN_30DAY_AMT=u'0.9976927640113996', CHQ-IN_90DAY_AMT_vs_CHQ-OUT_90DAY_AMT=u'0.0', IN_180DAY_VOL_vs_TAXIN_180DAY_VOL=u'0.8333333333333334', ACCT_NUM=u'1019091606', ACCOUNT_STATUS=u'1', ACCT_CLASSIFICATION_CD=u'C', ACCT_CURR_STATED_ACCT_VALUE=None, ACCT_OPEN_DATE=u'31-Jan-00', ACCT_TYPE_CD=u'D', SEGMENT_CODE=u'C', CHANNEL_OF_ACCOUNT_OPENING=None, COUNTRY_CD=None, IS_ACTIVE=u'1', IS_ANONYMOUS_ACCT=None, IS_FOREIGN_FINANCIAL_ORG=None, IS_NON_PHYSICAL_ADDRESS=u'0', IS_NON_RESIDENT=u'0', IS_PEP=u'0', IS_SUSPECT=None, MAIL_CODE=u'N', PRIMARY_PARTY_KEY=u'400005929', RISK_LEVEL=u'Low Risk', ROW_UPDATE_DATE=u'10-Nov-17', SECTOR_CD=u'C406011', ACCT_CURRENCY_CD=u'USD', ACCT_CLOSE_DATE=None, ACCT_CURRENCY_CREDIT_LIMIT=None, ACCT_CURR_STATED_ACCT_ACTIVITY=None, ACCT_FIRST_NAME=u'Albion', ACCT_LAST_NAME=None, ACCT_MAIDEN_NAME=None, ACCT_MIDDLE_NAME=None, ACCT_OTHER_NAME=None, BRANCH_KEY=u'101', HOUSEHOLD_ID=None, IS_ONLINE_ACCOUNT=None, LAST_REVIEW_DATE=None, OPTION_APPROVAL_LEVEL_CD=None, PRIMARY_REPRESENTATIVE_KEY=u'3901', ACCT_CATEGORY_CD=None, POPULATION=u'C2', DATE_DATA_LOADED=u'14-Nov-17', CUSTOM_FIELD_1=u'42.12.2042', FIG_IND=None, clu_risk_score=0.22062480416249075, clu_risk_score_norm=0.22062480416249075, TAXIN_30DAY_AMT_norm=2.6369180059437487, HRIN_30DAY_AMT_norm=2.6369180059437487, avg(TAXIN_30DAY_AMT_norm)=2.957086005713657, avg(HRIN_30DAY_AMT_norm)=2.957086005713657, stddev_samp(TAXIN_30DAY_AMT_norm)=2.6473176211433675, stddev_samp(HRIN_30DAY_AMT_norm)=2.6473176211433675)]"
      ]
     },
     "execution_count": 70,
     "metadata": {},
     "output_type": "execute_result"
    }
   ],
   "source": [
    "df_final.take(1)"
   ]
  },
  {
   "cell_type": "code",
   "execution_count": 71,
   "metadata": {},
   "outputs": [],
   "source": [
    "ano_features_norm_avg_dict = {a: 'avg(' + a + ')' for a in ano_features_norm}\n",
    "ano_features_norm_std_dict = {a: 'stddev_samp(' + a + ')' for a in ano_features_norm}"
   ]
  },
  {
   "cell_type": "code",
   "execution_count": 72,
   "metadata": {},
   "outputs": [
    {
     "data": {
      "text/plain": [
       "{'HRIN_30DAY_AMT_norm': 'avg(HRIN_30DAY_AMT_norm)',\n",
       " 'TAXIN_30DAY_AMT_norm': 'avg(TAXIN_30DAY_AMT_norm)'}"
      ]
     },
     "execution_count": 72,
     "metadata": {},
     "output_type": "execute_result"
    }
   ],
   "source": [
    "ano_features_norm_avg_dict"
   ]
  },
  {
   "cell_type": "code",
   "execution_count": 73,
   "metadata": {},
   "outputs": [
    {
     "data": {
      "text/plain": [
       "{'HRIN_30DAY_AMT_norm': 'stddev_samp(HRIN_30DAY_AMT_norm)',\n",
       " 'TAXIN_30DAY_AMT_norm': 'stddev_samp(TAXIN_30DAY_AMT_norm)'}"
      ]
     },
     "execution_count": 73,
     "metadata": {},
     "output_type": "execute_result"
    }
   ],
   "source": [
    "ano_features_norm_std_dict"
   ]
  },
  {
   "cell_type": "code",
   "execution_count": 74,
   "metadata": {},
   "outputs": [],
   "source": [
    "df_final = (reduce(lambda temp_df, col_name: temp_df.withColumn(col_name \n",
    "                                                                + '_score',\n",
    "singleFeatureScore_udf(col_name,ano_features_norm_avg_dict[\n",
    "col_name],\n",
    "ano_features_norm_std_dict[col_name]).cast('double')),ano_features_norm,df_final))\n"
   ]
  },
  {
   "cell_type": "code",
   "execution_count": 75,
   "metadata": {},
   "outputs": [
    {
     "data": {
      "text/plain": [
       "[Row(unique_cluster_label=u'SG-CM_0_1_', BUSINESS_UNIT=u'SG-CM', prediction_1=u'0', prediction_2=u'1', ACCOUNT_KEY=u'1019091606USD', daysSinceStartDay=u'241', IN_30DAY_AMT=u'432.41904', IN_90DAY_AMT=u'652334.3', IN_180DAY_AMT=u'749951.9', OUT_30DAY_AMT=u'2374183.2', OUT_90DAY_AMT=u'4544186.0', OUT_180DAY_AMT=u'9152287.0', HRIN_30DAY_AMT=u'432.41904', HRIN_90DAY_AMT=u'652334.3', HRIN_180DAY_AMT=u'749951.9', HROUT_30DAY_AMT=u'2374183.2', HROUT_90DAY_AMT=u'4544186.0', HROUT_180DAY_AMT=u'9152287.0', IN_30DAY_MAX=u'216.59956', IN_90DAY_MAX=u'651901.94', IN_180DAY_MAX=u'651901.94', IN_30DAY_MIN=u'432.41904', IN_90DAY_MIN=u'652334.3', IN_180DAY_MIN=u'749951.9', OUT_30DAY_MAX=u'231013.64', OUT_90DAY_MAX=u'448366.3', OUT_180DAY_MAX=u'448366.3', HRIN_30DAY_MAX=u'216.59956', HRIN_90DAY_MAX=u'651901.94', HRIN_180DAY_MAX=u'651901.94', HROUT_30DAY_MAX=u'231013.64', HROUT_90DAY_MAX=u'448366.3', HROUT_180DAY_MAX=u'448366.3', IN_30DAY_VOL=u'2.0', IN_90DAY_VOL=u'3.0', IN_180DAY_VOL=u'5.0', OUT_30DAY_VOL=u'28.0', OUT_90DAY_VOL=u'42.0', OUT_180DAY_VOL=u'81.0', HRIN_30DAY_VOL=u'2.0', HRIN_90DAY_VOL=u'3.0', HRIN_180DAY_VOL=u'5.0', HROUT_30DAY_VOL=u'28.0', HROUT_90DAY_VOL=u'42.0', HROUT_180DAY_VOL=u'81.0', CASHEQ-IN_90DAY_AMT=u'0.0', CASHEQ-IN_90DAY_VOL=u'0.0', CASHEQ-IN_90DAY_MAX=u'0.0', CASHEQ-OUT_90DAY_AMT=u'0.0', CASHEQ-OUT_90DAY_VOL=u'0.0', CASHEQ-OUT_90DAY_MAX=u'0.0', ATM-OUT_90DAY_AMT=u'0.0', ATM-OUT_90DAY_VOL=u'0.0', ATM-OUT_90DAY_MAX=u'0.0', CHQ-IN_90DAY_AMT=u'0.0', CHQ-IN_90DAY_VOL=u'0.0', CHQ-IN_90DAY_MAX=u'0.0', CHQ-OUT_90DAY_AMT=u'0.0', CHQ-OUT_90DAY_VOL=u'0.0', CHQ-OUT_90DAY_MAX=u'0.0', CDM-IN_90DAY_AMT=u'0.0', CDM-IN_90DAY_VOL=u'0.0', CDM-IN_90DAY_MAX=u'0.0', EXTFT-IN_90DAY_AMT=u'652334.3', EXTFT-IN_90DAY_VOL=u'3.0', EXTFT-IN_90DAY_MAX=u'651901.94', EXTFT-OUT_90DAY_AMT=u'4544186.0', EXTFT-OUT_90DAY_VOL=u'42.0', EXTFT-OUT_90DAY_MAX=u'448366.3', LOCFT-IN_90DAY_AMT=u'0.0', LOCFT-IN_90DAY_VOL=u'0.0', LOCFT-IN_90DAY_MAX=u'0.0', LOCFT-OUT_90DAY_AMT=u'0.0', LOCFT-OUT_90DAY_VOL=u'0.0', LOCFT-OUT_90DAY_MAX=u'0.0', MISC-IN_90DAY_AMT=u'0.0', MISC-IN_90DAY_VOL=u'0.0', MISC-IN_90DAY_MAX=u'0.0', MISC-OUT_90DAY_AMT=u'0.0', MISC-OUT_90DAY_VOL=u'0.0', MISC-OUT_90DAY_MAX=u'0.0', REMITTANCE-IN_90DAY_AMT=u'652334.3', REMITTANCE-IN_90DAY_VOL=u'3.0', REMITTANCE-IN_90DAY_MAX=u'651901.94', REMITTANCE-OUT_90DAY_AMT=u'4544186.0', REMITTANCE-OUT_90DAY_VOL=u'42.0', REMITTANCE-OUT_90DAY_MAX=u'448366.3', TAXIN_30DAY_AMT=u'432.41904', TAXIN_90DAY_AMT=u'652334.3', TAXIN_180DAY_AMT=u'749951.9', TAXOUT_30DAY_AMT=u'2374183.2', TAXOUT_90DAY_AMT=u'4544186.0', TAXOUT_180DAY_AMT=u'9152287.0', TAXIN_30DAY_VOL=u'2.0', TAXIN_90DAY_VOL=u'3.0', TAXIN_180DAY_VOL=u'5.0', TAXOUT_30DAY_VOL=u'28.0', TAXOUT_90DAY_VOL=u'42.0', TAXOUT_180DAY_VOL=u'81.0', TAXIN_30DAY_MAX=u'216.59956', TAXIN_90DAY_MAX=u'651901.94', TAXIN_180DAY_MAX=u'651901.94', TAXOUT_30DAY_MAX=u'231013.64', TAXOUT_90DAY_MAX=u'448366.3', TAXOUT_180DAY_MAX=u'448366.3', OUT_30DAY_AMT_vs_TAXOUT_30DAY_AMT=u'0.9999995788026982', TAXIN_180DAY_AMT_vs_TAXOUT_30DAY_AMT=u'0.3158777062058263', TAXIN_180DAY_AMT_vs_TAXOUT_90DAY_AMT=u'0.16503543428120365', TAXIN_180DAY_AMT_vs_TAXOUT_180DAY_AMT=u'0.08194146370830988', HRIN_30DAY_AMT_vs_TAXIN_30DAY_VOL=u'144.13967895507812', EXTFT-IN_90DAY_AMT_vs_EXTFT-OUT_90DAY_AMT=u'0.14355358010134706', CASHEQ-IN_90DAY_AMT_vs_CASHEQ-OUT_90DAY_AMT=u'0.0', HRIN_90DAY_AMT_vs_TAXIN_90DAY_VOL=u'163083.578125', LOCFT-IN_90DAY_AMT_vs_LOCFT-IN_90DAY_AMT=u'0.0', OUT_180DAY_AMT_vs_TAXIN_180DAY_AMT=u'12.203816139780782', REMITTANCE-IN_90DAY_AMT_vs_REMITTANCE-IN_90DAY_AMT=u'0.9999984670460408', IN_180DAY_AMT_vs_OUT_30DAY_AMT=u'0.3158777062058263', IN_180DAY_AMT_vs_OUT_90DAY_AMT=u'0.16503543428120365', IN_180DAY_AMT_vs_OUT_180DAY_AMT=u'0.08194146370830988', IN_180DAY_AMT_vs_HRIN_180DAY_AMT=u'0.9999986665828836', IN_180DAY_AMT_vs_TAXIN_180DAY_AMT=u'0.9999986665828836', OUT_90DAY_AMT_vs_TAXOUT_90DAY_AMT=u'0.9999997799386336', OUT_180DAY_VOL_vs_TAXOUT_180DAY_VOL=u'0.9878048780487805', HRIN_180DAY_AMT_vs_TAXIN_180DAY_VOL=u'124991.97916666667', MISC-IN_90DAY_AMT_vs_MISC-IN_90DAY_AMT=u'0.0', IN_90DAY_AMT_vs_CASHEQ-IN_90DAY_AMT=u'652334.3125', IN_30DAY_AMT_vs_TAXIN_30DAY_AMT=u'0.9976927640113996', CHQ-IN_90DAY_AMT_vs_CHQ-OUT_90DAY_AMT=u'0.0', IN_180DAY_VOL_vs_TAXIN_180DAY_VOL=u'0.8333333333333334', ACCT_NUM=u'1019091606', ACCOUNT_STATUS=u'1', ACCT_CLASSIFICATION_CD=u'C', ACCT_CURR_STATED_ACCT_VALUE=None, ACCT_OPEN_DATE=u'31-Jan-00', ACCT_TYPE_CD=u'D', SEGMENT_CODE=u'C', CHANNEL_OF_ACCOUNT_OPENING=None, COUNTRY_CD=None, IS_ACTIVE=u'1', IS_ANONYMOUS_ACCT=None, IS_FOREIGN_FINANCIAL_ORG=None, IS_NON_PHYSICAL_ADDRESS=u'0', IS_NON_RESIDENT=u'0', IS_PEP=u'0', IS_SUSPECT=None, MAIL_CODE=u'N', PRIMARY_PARTY_KEY=u'400005929', RISK_LEVEL=u'Low Risk', ROW_UPDATE_DATE=u'10-Nov-17', SECTOR_CD=u'C406011', ACCT_CURRENCY_CD=u'USD', ACCT_CLOSE_DATE=None, ACCT_CURRENCY_CREDIT_LIMIT=None, ACCT_CURR_STATED_ACCT_ACTIVITY=None, ACCT_FIRST_NAME=u'Albion', ACCT_LAST_NAME=None, ACCT_MAIDEN_NAME=None, ACCT_MIDDLE_NAME=None, ACCT_OTHER_NAME=None, BRANCH_KEY=u'101', HOUSEHOLD_ID=None, IS_ONLINE_ACCOUNT=None, LAST_REVIEW_DATE=None, OPTION_APPROVAL_LEVEL_CD=None, PRIMARY_REPRESENTATIVE_KEY=u'3901', ACCT_CATEGORY_CD=None, POPULATION=u'C2', DATE_DATA_LOADED=u'14-Nov-17', CUSTOM_FIELD_1=u'42.12.2042', FIG_IND=None, clu_risk_score=0.22062480416249075, clu_risk_score_norm=0.22062480416249075, TAXIN_30DAY_AMT_norm=2.6369180059437487, HRIN_30DAY_AMT_norm=2.6369180059437487, avg(TAXIN_30DAY_AMT_norm)=2.957086005713657, avg(HRIN_30DAY_AMT_norm)=2.957086005713657, stddev_samp(TAXIN_30DAY_AMT_norm)=2.6473176211433675, stddev_samp(HRIN_30DAY_AMT_norm)=2.6473176211433675, TAXIN_30DAY_AMT_norm_score=0.8860866523975164, HRIN_30DAY_AMT_norm_score=0.8860866523975164)]"
      ]
     },
     "execution_count": 75,
     "metadata": {},
     "output_type": "execute_result"
    }
   ],
   "source": [
    "df_final.take(1)"
   ]
  },
  {
   "cell_type": "code",
   "execution_count": 76,
   "metadata": {},
   "outputs": [],
   "source": [
    "ano_features_score = [a + '_score' for a in ano_features_norm]"
   ]
  },
  {
   "cell_type": "code",
   "execution_count": 77,
   "metadata": {},
   "outputs": [
    {
     "data": {
      "text/plain": [
       "['TAXIN_30DAY_AMT_norm_score', 'HRIN_30DAY_AMT_norm_score']"
      ]
     },
     "execution_count": 77,
     "metadata": {},
     "output_type": "execute_result"
    }
   ],
   "source": [
    "ano_features_score"
   ]
  },
  {
   "cell_type": "code",
   "execution_count": 78,
   "metadata": {},
   "outputs": [],
   "source": [
    "funs = [pysp_func.max]\n",
    "features_to_agg = ano_features_score\n",
    "exprs = [f(col(c)) for f in funs for c in features_to_agg]  # column name: max\n",
    "df_unique_label_score_max = df_final.groupBy(unique_cluster_label).agg(*exprs)\n",
    "df_final = df_final.join(broadcast(df_unique_label_score_max), on=unique_cluster_label)\n"
   ]
  },
  {
   "cell_type": "code",
   "execution_count": 79,
   "metadata": {},
   "outputs": [
    {
     "data": {
      "text/plain": [
       "DataFrame[unique_cluster_label: string, max(TAXIN_30DAY_AMT_norm_score): double, max(HRIN_30DAY_AMT_norm_score): double]"
      ]
     },
     "execution_count": 79,
     "metadata": {},
     "output_type": "execute_result"
    }
   ],
   "source": [
    "df_unique_label_score_max "
   ]
  },
  {
   "cell_type": "code",
   "execution_count": 80,
   "metadata": {},
   "outputs": [],
   "source": [
    "def normalize_by_max(value, max_value):\n",
    "    try:\n",
    "        return float(value) / float(max_value)\n",
    "    except ValueError:\n",
    "        print ('value or max_value is ill defined')\n",
    "normalize_by_max_udf = udf(normalize_by_max)\n",
    "df_final = (reduce(lambda temp_df, col_name: temp_df.withColumn(col_name, normalize_by_max_udf(col_name,'max(' + col_name + ')').cast('double')),ano_features_score, df_final))"
   ]
  },
  {
   "cell_type": "code",
   "execution_count": 81,
   "metadata": {},
   "outputs": [],
   "source": [
    "drop_cols = ['max(' + c + ')' for c in ano_features_score]\n",
    "df_final = df_final.drop(*drop_cols)"
   ]
  },
  {
   "cell_type": "code",
   "execution_count": 82,
   "metadata": {},
   "outputs": [],
   "source": [
    "df_final = df_final.withColumn(\"anomaly_score\", pysp_func.lit(1.0))"
   ]
  },
  {
   "cell_type": "code",
   "execution_count": 83,
   "metadata": {},
   "outputs": [],
   "source": [
    "df_final = (reduce(lambda temp_df, col_name: temp_df.withColumn(col_name, (\n",
    "                temp_df[col_name] ** (1. / len(ano_features))).cast('double')), ano_features_score, df_final))\n"
   ]
  },
  {
   "cell_type": "code",
   "execution_count": 84,
   "metadata": {},
   "outputs": [],
   "source": [
    "df_final = (reduce(lambda temp_df, col_name: temp_df.withColumn(\"anomaly_score\", (\n",
    "                temp_df['anomaly_score'] * temp_df[col_name]).cast('double')), ano_features_score, df_final))\n"
   ]
  },
  {
   "cell_type": "code",
   "execution_count": 85,
   "metadata": {},
   "outputs": [
    {
     "data": {
      "text/plain": [
       "[Row(unique_cluster_label=u'SG-CM_0_1_', BUSINESS_UNIT=u'SG-CM', prediction_1=u'0', prediction_2=u'1', ACCOUNT_KEY=u'1019091606USD', daysSinceStartDay=u'241', IN_30DAY_AMT=u'432.41904', IN_90DAY_AMT=u'652334.3', IN_180DAY_AMT=u'749951.9', OUT_30DAY_AMT=u'2374183.2', OUT_90DAY_AMT=u'4544186.0', OUT_180DAY_AMT=u'9152287.0', HRIN_30DAY_AMT=u'432.41904', HRIN_90DAY_AMT=u'652334.3', HRIN_180DAY_AMT=u'749951.9', HROUT_30DAY_AMT=u'2374183.2', HROUT_90DAY_AMT=u'4544186.0', HROUT_180DAY_AMT=u'9152287.0', IN_30DAY_MAX=u'216.59956', IN_90DAY_MAX=u'651901.94', IN_180DAY_MAX=u'651901.94', IN_30DAY_MIN=u'432.41904', IN_90DAY_MIN=u'652334.3', IN_180DAY_MIN=u'749951.9', OUT_30DAY_MAX=u'231013.64', OUT_90DAY_MAX=u'448366.3', OUT_180DAY_MAX=u'448366.3', HRIN_30DAY_MAX=u'216.59956', HRIN_90DAY_MAX=u'651901.94', HRIN_180DAY_MAX=u'651901.94', HROUT_30DAY_MAX=u'231013.64', HROUT_90DAY_MAX=u'448366.3', HROUT_180DAY_MAX=u'448366.3', IN_30DAY_VOL=u'2.0', IN_90DAY_VOL=u'3.0', IN_180DAY_VOL=u'5.0', OUT_30DAY_VOL=u'28.0', OUT_90DAY_VOL=u'42.0', OUT_180DAY_VOL=u'81.0', HRIN_30DAY_VOL=u'2.0', HRIN_90DAY_VOL=u'3.0', HRIN_180DAY_VOL=u'5.0', HROUT_30DAY_VOL=u'28.0', HROUT_90DAY_VOL=u'42.0', HROUT_180DAY_VOL=u'81.0', CASHEQ-IN_90DAY_AMT=u'0.0', CASHEQ-IN_90DAY_VOL=u'0.0', CASHEQ-IN_90DAY_MAX=u'0.0', CASHEQ-OUT_90DAY_AMT=u'0.0', CASHEQ-OUT_90DAY_VOL=u'0.0', CASHEQ-OUT_90DAY_MAX=u'0.0', ATM-OUT_90DAY_AMT=u'0.0', ATM-OUT_90DAY_VOL=u'0.0', ATM-OUT_90DAY_MAX=u'0.0', CHQ-IN_90DAY_AMT=u'0.0', CHQ-IN_90DAY_VOL=u'0.0', CHQ-IN_90DAY_MAX=u'0.0', CHQ-OUT_90DAY_AMT=u'0.0', CHQ-OUT_90DAY_VOL=u'0.0', CHQ-OUT_90DAY_MAX=u'0.0', CDM-IN_90DAY_AMT=u'0.0', CDM-IN_90DAY_VOL=u'0.0', CDM-IN_90DAY_MAX=u'0.0', EXTFT-IN_90DAY_AMT=u'652334.3', EXTFT-IN_90DAY_VOL=u'3.0', EXTFT-IN_90DAY_MAX=u'651901.94', EXTFT-OUT_90DAY_AMT=u'4544186.0', EXTFT-OUT_90DAY_VOL=u'42.0', EXTFT-OUT_90DAY_MAX=u'448366.3', LOCFT-IN_90DAY_AMT=u'0.0', LOCFT-IN_90DAY_VOL=u'0.0', LOCFT-IN_90DAY_MAX=u'0.0', LOCFT-OUT_90DAY_AMT=u'0.0', LOCFT-OUT_90DAY_VOL=u'0.0', LOCFT-OUT_90DAY_MAX=u'0.0', MISC-IN_90DAY_AMT=u'0.0', MISC-IN_90DAY_VOL=u'0.0', MISC-IN_90DAY_MAX=u'0.0', MISC-OUT_90DAY_AMT=u'0.0', MISC-OUT_90DAY_VOL=u'0.0', MISC-OUT_90DAY_MAX=u'0.0', REMITTANCE-IN_90DAY_AMT=u'652334.3', REMITTANCE-IN_90DAY_VOL=u'3.0', REMITTANCE-IN_90DAY_MAX=u'651901.94', REMITTANCE-OUT_90DAY_AMT=u'4544186.0', REMITTANCE-OUT_90DAY_VOL=u'42.0', REMITTANCE-OUT_90DAY_MAX=u'448366.3', TAXIN_30DAY_AMT=u'432.41904', TAXIN_90DAY_AMT=u'652334.3', TAXIN_180DAY_AMT=u'749951.9', TAXOUT_30DAY_AMT=u'2374183.2', TAXOUT_90DAY_AMT=u'4544186.0', TAXOUT_180DAY_AMT=u'9152287.0', TAXIN_30DAY_VOL=u'2.0', TAXIN_90DAY_VOL=u'3.0', TAXIN_180DAY_VOL=u'5.0', TAXOUT_30DAY_VOL=u'28.0', TAXOUT_90DAY_VOL=u'42.0', TAXOUT_180DAY_VOL=u'81.0', TAXIN_30DAY_MAX=u'216.59956', TAXIN_90DAY_MAX=u'651901.94', TAXIN_180DAY_MAX=u'651901.94', TAXOUT_30DAY_MAX=u'231013.64', TAXOUT_90DAY_MAX=u'448366.3', TAXOUT_180DAY_MAX=u'448366.3', OUT_30DAY_AMT_vs_TAXOUT_30DAY_AMT=u'0.9999995788026982', TAXIN_180DAY_AMT_vs_TAXOUT_30DAY_AMT=u'0.3158777062058263', TAXIN_180DAY_AMT_vs_TAXOUT_90DAY_AMT=u'0.16503543428120365', TAXIN_180DAY_AMT_vs_TAXOUT_180DAY_AMT=u'0.08194146370830988', HRIN_30DAY_AMT_vs_TAXIN_30DAY_VOL=u'144.13967895507812', EXTFT-IN_90DAY_AMT_vs_EXTFT-OUT_90DAY_AMT=u'0.14355358010134706', CASHEQ-IN_90DAY_AMT_vs_CASHEQ-OUT_90DAY_AMT=u'0.0', HRIN_90DAY_AMT_vs_TAXIN_90DAY_VOL=u'163083.578125', LOCFT-IN_90DAY_AMT_vs_LOCFT-IN_90DAY_AMT=u'0.0', OUT_180DAY_AMT_vs_TAXIN_180DAY_AMT=u'12.203816139780782', REMITTANCE-IN_90DAY_AMT_vs_REMITTANCE-IN_90DAY_AMT=u'0.9999984670460408', IN_180DAY_AMT_vs_OUT_30DAY_AMT=u'0.3158777062058263', IN_180DAY_AMT_vs_OUT_90DAY_AMT=u'0.16503543428120365', IN_180DAY_AMT_vs_OUT_180DAY_AMT=u'0.08194146370830988', IN_180DAY_AMT_vs_HRIN_180DAY_AMT=u'0.9999986665828836', IN_180DAY_AMT_vs_TAXIN_180DAY_AMT=u'0.9999986665828836', OUT_90DAY_AMT_vs_TAXOUT_90DAY_AMT=u'0.9999997799386336', OUT_180DAY_VOL_vs_TAXOUT_180DAY_VOL=u'0.9878048780487805', HRIN_180DAY_AMT_vs_TAXIN_180DAY_VOL=u'124991.97916666667', MISC-IN_90DAY_AMT_vs_MISC-IN_90DAY_AMT=u'0.0', IN_90DAY_AMT_vs_CASHEQ-IN_90DAY_AMT=u'652334.3125', IN_30DAY_AMT_vs_TAXIN_30DAY_AMT=u'0.9976927640113996', CHQ-IN_90DAY_AMT_vs_CHQ-OUT_90DAY_AMT=u'0.0', IN_180DAY_VOL_vs_TAXIN_180DAY_VOL=u'0.8333333333333334', ACCT_NUM=u'1019091606', ACCOUNT_STATUS=u'1', ACCT_CLASSIFICATION_CD=u'C', ACCT_CURR_STATED_ACCT_VALUE=None, ACCT_OPEN_DATE=u'31-Jan-00', ACCT_TYPE_CD=u'D', SEGMENT_CODE=u'C', CHANNEL_OF_ACCOUNT_OPENING=None, COUNTRY_CD=None, IS_ACTIVE=u'1', IS_ANONYMOUS_ACCT=None, IS_FOREIGN_FINANCIAL_ORG=None, IS_NON_PHYSICAL_ADDRESS=u'0', IS_NON_RESIDENT=u'0', IS_PEP=u'0', IS_SUSPECT=None, MAIL_CODE=u'N', PRIMARY_PARTY_KEY=u'400005929', RISK_LEVEL=u'Low Risk', ROW_UPDATE_DATE=u'10-Nov-17', SECTOR_CD=u'C406011', ACCT_CURRENCY_CD=u'USD', ACCT_CLOSE_DATE=None, ACCT_CURRENCY_CREDIT_LIMIT=None, ACCT_CURR_STATED_ACCT_ACTIVITY=None, ACCT_FIRST_NAME=u'Albion', ACCT_LAST_NAME=None, ACCT_MAIDEN_NAME=None, ACCT_MIDDLE_NAME=None, ACCT_OTHER_NAME=None, BRANCH_KEY=u'101', HOUSEHOLD_ID=None, IS_ONLINE_ACCOUNT=None, LAST_REVIEW_DATE=None, OPTION_APPROVAL_LEVEL_CD=None, PRIMARY_REPRESENTATIVE_KEY=u'3901', ACCT_CATEGORY_CD=None, POPULATION=u'C2', DATE_DATA_LOADED=u'14-Nov-17', CUSTOM_FIELD_1=u'42.12.2042', FIG_IND=None, clu_risk_score=0.22062480416249075, clu_risk_score_norm=0.22062480416249075, TAXIN_30DAY_AMT_norm=2.6369180059437487, HRIN_30DAY_AMT_norm=2.6369180059437487, avg(TAXIN_30DAY_AMT_norm)=2.957086005713657, avg(HRIN_30DAY_AMT_norm)=2.957086005713657, stddev_samp(TAXIN_30DAY_AMT_norm)=2.6473176211433675, stddev_samp(HRIN_30DAY_AMT_norm)=2.6473176211433675, TAXIN_30DAY_AMT_norm_score=0.5090298385561813, HRIN_30DAY_AMT_norm_score=0.5090298385561813, anomaly_score=0.259111376540532)]"
      ]
     },
     "execution_count": 85,
     "metadata": {},
     "output_type": "execute_result"
    }
   ],
   "source": [
    "df_final.take(1)"
   ]
  },
  {
   "cell_type": "code",
   "execution_count": 86,
   "metadata": {},
   "outputs": [],
   "source": [
    "WEIGHT_FEATURES_FOR_ANOMALY_SCORING = ['clu_risk_score_norm']"
   ]
  },
  {
   "cell_type": "code",
   "execution_count": 87,
   "metadata": {},
   "outputs": [],
   "source": [
    "def weight_score(ano_score, *weight_values):\n",
    "    for w_v in weight_values:\n",
    "        ano_score = float(ano_score) * float(w_v)\n",
    "    return ano_score\n",
    "weight_score_udf = udf(weight_score)"
   ]
  },
  {
   "cell_type": "code",
   "execution_count": 88,
   "metadata": {},
   "outputs": [],
   "source": [
    "weight_feature = WEIGHT_FEATURES_FOR_ANOMALY_SCORING\n",
    "df_final = df_final.withColumn(\"anomaly_score\", weight_score_udf('anomaly_score', *weight_feature))\n"
   ]
  },
  {
   "cell_type": "code",
   "execution_count": 89,
   "metadata": {},
   "outputs": [],
   "source": [
    "funs = [pysp_func.max]\n",
    "features_to_agg = ['anomaly_score']\n",
    "exprs = [f(col(c)) for f in funs for c in features_to_agg]  # column name: max\n",
    "df_business_score_max = df_final.groupBy(BUSINESS_UNIT).agg(*exprs)\n",
    "df_final = df_final.join(broadcast(df_business_score_max), on=BUSINESS_UNIT)"
   ]
  },
  {
   "cell_type": "code",
   "execution_count": 90,
   "metadata": {},
   "outputs": [],
   "source": [
    "df_final = df_final.withColumn('anomaly_score_norm',\n",
    "                                       normalize_by_max_udf('anomaly_score', 'max(anomaly_score)'))\n"
   ]
  },
  {
   "cell_type": "code",
   "execution_count": 91,
   "metadata": {},
   "outputs": [],
   "source": [
    "uniq_label = [BUSINESS_UNIT, clu_level0_label, clu_level1_label]\n",
    "df_cluster_features = df_final.select(anomaly_features + [BUSINESS_UNIT, clu_level0_label, clu_level1_label])\n"
   ]
  },
  {
   "cell_type": "code",
   "execution_count": 92,
   "metadata": {},
   "outputs": [],
   "source": [
    "funs = [pysp_func.mean]\n",
    "features_to_agg = anomaly_features\n",
    "exprs = [f(col(c)) for f in funs for c in features_to_agg]  # column name: mena\n",
    "df_clu_mean = df_final.groupBy(uniq_label).agg(*exprs)"
   ]
  },
  {
   "cell_type": "code",
   "execution_count": 93,
   "metadata": {},
   "outputs": [
    {
     "name": "stdout",
     "output_type": "stream",
     "text": [
      "+-------------+------------+------------+--------------------+-------------------+\n",
      "|BUSINESS_UNIT|prediction_1|prediction_2|avg(TAXIN_30DAY_AMT)|avg(HRIN_30DAY_AMT)|\n",
      "+-------------+------------+------------+--------------------+-------------------+\n",
      "|        SG-PV|           0|           0|   167092.0522222222|  167092.0522222222|\n",
      "|        SG-CM|           1|           0|  106212.69760289158| 106212.69760289158|\n",
      "|        SG-CM|           0|           1|   289676.2589040001|  289676.2589040001|\n",
      "|        SG-PV|           0|           1|   535637.8583333333|  535637.8583333333|\n",
      "|        SG-CM|           0|           0|   267944.9911764706|  267944.9911764706|\n",
      "|       SG-CMM|           0|           0|  1542844.9790000007| 1542844.9790000007|\n",
      "|       SG-CMM|           0|           1|  472137.28186666657| 472137.28186666657|\n",
      "|        SG-CM|           1|           1|  1598433.0772727274| 1598433.0772727274|\n",
      "+-------------+------------+------------+--------------------+-------------------+\n",
      "\n"
     ]
    }
   ],
   "source": [
    "df_clu_mean.show()"
   ]
  },
  {
   "cell_type": "code",
   "execution_count": 94,
   "metadata": {},
   "outputs": [],
   "source": [
    "funs = [pysp_func.max]\n",
    "features_to_agg = anomaly_features\n",
    "exprs = [f(col(c)) for f in funs for c in features_to_agg]  # column name: max\n",
    "df_clu_max = df_final.groupBy(uniq_label).agg(*exprs)"
   ]
  },
  {
   "cell_type": "code",
   "execution_count": 95,
   "metadata": {},
   "outputs": [],
   "source": [
    "exprs_std = {x: \"stddev\" for x in anomaly_features}"
   ]
  },
  {
   "cell_type": "code",
   "execution_count": 96,
   "metadata": {},
   "outputs": [
    {
     "data": {
      "text/plain": [
       "{'HRIN_30DAY_AMT': 'stddev', 'TAXIN_30DAY_AMT': 'stddev'}"
      ]
     },
     "execution_count": 96,
     "metadata": {},
     "output_type": "execute_result"
    }
   ],
   "source": [
    "exprs_std"
   ]
  },
  {
   "cell_type": "code",
   "execution_count": 97,
   "metadata": {},
   "outputs": [],
   "source": [
    "df_clu_std = df_cluster_features.groupby(uniq_label).agg(exprs_std)"
   ]
  },
  {
   "cell_type": "code",
   "execution_count": 98,
   "metadata": {},
   "outputs": [
    {
     "name": "stdout",
     "output_type": "stream",
     "text": [
      "+-------------+------------+------------+----------------------+-----------------------+\n",
      "|BUSINESS_UNIT|prediction_1|prediction_2|stddev(HRIN_30DAY_AMT)|stddev(TAXIN_30DAY_AMT)|\n",
      "+-------------+------------+------------+----------------------+-----------------------+\n",
      "|        SG-PV|           0|           0|      224372.738288979|       224372.738288979|\n",
      "|        SG-CM|           1|           0|    394300.87291558454|     394300.87291558454|\n",
      "|        SG-CM|           0|           1|    521482.95848102105|     521482.95848102105|\n",
      "|        SG-PV|           0|           1|      311756.857718097|       311756.857718097|\n",
      "|        SG-CM|           0|           0|     625079.5865926811|      625079.5865926811|\n",
      "|       SG-CMM|           0|           0|     431273.5035776384|      431273.5035776384|\n",
      "|       SG-CMM|           0|           1|     565302.5621889584|      565302.5621889584|\n",
      "|        SG-CM|           1|           1|    2101248.1341488604|     2101248.1341488604|\n",
      "+-------------+------------+------------+----------------------+-----------------------+\n",
      "\n"
     ]
    }
   ],
   "source": [
    "df_clu_std.show()"
   ]
  },
  {
   "cell_type": "code",
   "execution_count": 103,
   "metadata": {},
   "outputs": [],
   "source": [
    "top_length = int(df_length * top_percentage)"
   ]
  },
  {
   "cell_type": "code",
   "execution_count": 104,
   "metadata": {},
   "outputs": [],
   "source": [
    "top_percentage=0.04"
   ]
  },
  {
   "cell_type": "code",
   "execution_count": 105,
   "metadata": {},
   "outputs": [],
   "source": [
    "df_length= df_final.count()"
   ]
  },
  {
   "cell_type": "code",
   "execution_count": 106,
   "metadata": {},
   "outputs": [],
   "source": [
    "df_final = df_final.sort(\"anomaly_score_norm\", ascending=False)"
   ]
  },
  {
   "cell_type": "code",
   "execution_count": 107,
   "metadata": {},
   "outputs": [],
   "source": [
    "anomaly_rows = df_final.limit(top_length)"
   ]
  },
  {
   "cell_type": "code",
   "execution_count": 108,
   "metadata": {},
   "outputs": [],
   "source": [
    "anomaly_rows = anomaly_rows.withColumn('ANOMALY', lit(1))"
   ]
  },
  {
   "cell_type": "code",
   "execution_count": 109,
   "metadata": {},
   "outputs": [],
   "source": [
    "score_threshold= anomaly_rows.groupby('ANOMALY').agg(pysp_func.min(anomaly_rows['anomaly_score_norm']).alias('score_threshold'))"
   ]
  },
  {
   "cell_type": "code",
   "execution_count": 110,
   "metadata": {},
   "outputs": [
    {
     "name": "stdout",
     "output_type": "stream",
     "text": [
      "+-------+-----------------+\n",
      "|ANOMALY|  score_threshold|\n",
      "+-------+-----------------+\n",
      "|      1|0.826144355226805|\n",
      "+-------+-----------------+\n",
      "\n"
     ]
    }
   ],
   "source": [
    "score_threshold.show()"
   ]
  },
  {
   "cell_type": "code",
   "execution_count": 111,
   "metadata": {},
   "outputs": [],
   "source": [
    "anomalyFeatures=anomaly_features\n"
   ]
  },
  {
   "cell_type": "code",
   "execution_count": null,
   "metadata": {},
   "outputs": [],
   "source": []
  },
  {
   "cell_type": "code",
   "execution_count": 116,
   "metadata": {},
   "outputs": [],
   "source": [
    "avg_anomalyFeatures = ['avg(' + str(i) + ')' for i in anomalyFeatures]\n",
    "max_anomalyFeatures = ['max(' + str(i) + ')' for i in anomalyFeatures]\n",
    "std_anomalyFeatures = ['stddev(' + str(i) + ')' for i in anomalyFeatures]\n",
    "BUSINESS_UNIT = \"BUSINESS_UNIT\"\n",
    "cluLevel0Label = \"prediction_1\" # \"clu_level_1\"\n",
    "cluLevel1Label = \"prediction_2\" # \"clu_level_2\"\n",
    "uniqLabelCols = [BUSINESS_UNIT, cluLevel0Label, cluLevel1Label]\n",
    "uniqueLabel = 'uniqueLabel'\n",
    "cluster_features = anomalyFeatures + [BUSINESS_UNIT, cluLevel0Label, cluLevel1Label]\n",
    "\n"
   ]
  },
  {
   "cell_type": "code",
   "execution_count": 121,
   "metadata": {},
   "outputs": [
    {
     "name": "stdout",
     "output_type": "stream",
     "text": [
      "BUSINESS_UNIT object\n",
      "unique_cluster_label object\n",
      "prediction_1 object\n",
      "prediction_2 object\n",
      "ACCOUNT_KEY object\n",
      "daysSinceStartDay object\n",
      "IN_30DAY_AMT object\n",
      "IN_90DAY_AMT object\n",
      "IN_180DAY_AMT object\n",
      "OUT_30DAY_AMT object\n",
      "OUT_90DAY_AMT object\n",
      "OUT_180DAY_AMT object\n",
      "HRIN_30DAY_AMT object\n",
      "HRIN_90DAY_AMT object\n",
      "HRIN_180DAY_AMT object\n",
      "HROUT_30DAY_AMT object\n",
      "HROUT_90DAY_AMT object\n",
      "HROUT_180DAY_AMT object\n",
      "IN_30DAY_MAX object\n",
      "IN_90DAY_MAX object\n",
      "IN_180DAY_MAX object\n",
      "IN_30DAY_MIN object\n",
      "IN_90DAY_MIN object\n",
      "IN_180DAY_MIN object\n",
      "OUT_30DAY_MAX object\n",
      "OUT_90DAY_MAX object\n",
      "OUT_180DAY_MAX object\n",
      "HRIN_30DAY_MAX object\n",
      "HRIN_90DAY_MAX object\n",
      "HRIN_180DAY_MAX object\n",
      "HROUT_30DAY_MAX object\n",
      "HROUT_90DAY_MAX object\n",
      "HROUT_180DAY_MAX object\n",
      "IN_30DAY_VOL object\n",
      "IN_90DAY_VOL object\n",
      "IN_180DAY_VOL object\n",
      "OUT_30DAY_VOL object\n",
      "OUT_90DAY_VOL object\n",
      "OUT_180DAY_VOL object\n",
      "HRIN_30DAY_VOL object\n",
      "HRIN_90DAY_VOL object\n",
      "HRIN_180DAY_VOL object\n",
      "HROUT_30DAY_VOL object\n",
      "HROUT_90DAY_VOL object\n",
      "HROUT_180DAY_VOL object\n",
      "CASHEQ-IN_90DAY_AMT object\n",
      "CASHEQ-IN_90DAY_VOL object\n",
      "CASHEQ-IN_90DAY_MAX object\n",
      "CASHEQ-OUT_90DAY_AMT object\n",
      "CASHEQ-OUT_90DAY_VOL object\n",
      "CASHEQ-OUT_90DAY_MAX object\n",
      "ATM-OUT_90DAY_AMT object\n",
      "ATM-OUT_90DAY_VOL object\n",
      "ATM-OUT_90DAY_MAX object\n",
      "CHQ-IN_90DAY_AMT object\n",
      "CHQ-IN_90DAY_VOL object\n",
      "CHQ-IN_90DAY_MAX object\n",
      "CHQ-OUT_90DAY_AMT object\n",
      "CHQ-OUT_90DAY_VOL object\n",
      "CHQ-OUT_90DAY_MAX object\n",
      "CDM-IN_90DAY_AMT object\n",
      "CDM-IN_90DAY_VOL object\n",
      "CDM-IN_90DAY_MAX object\n",
      "EXTFT-IN_90DAY_AMT object\n",
      "EXTFT-IN_90DAY_VOL object\n",
      "EXTFT-IN_90DAY_MAX object\n",
      "EXTFT-OUT_90DAY_AMT object\n",
      "EXTFT-OUT_90DAY_VOL object\n",
      "EXTFT-OUT_90DAY_MAX object\n",
      "LOCFT-IN_90DAY_AMT object\n",
      "LOCFT-IN_90DAY_VOL object\n",
      "LOCFT-IN_90DAY_MAX object\n",
      "LOCFT-OUT_90DAY_AMT object\n",
      "LOCFT-OUT_90DAY_VOL object\n",
      "LOCFT-OUT_90DAY_MAX object\n",
      "MISC-IN_90DAY_AMT object\n",
      "MISC-IN_90DAY_VOL object\n",
      "MISC-IN_90DAY_MAX object\n",
      "MISC-OUT_90DAY_AMT object\n",
      "MISC-OUT_90DAY_VOL object\n",
      "MISC-OUT_90DAY_MAX object\n",
      "REMITTANCE-IN_90DAY_AMT object\n",
      "REMITTANCE-IN_90DAY_VOL object\n",
      "REMITTANCE-IN_90DAY_MAX object\n",
      "REMITTANCE-OUT_90DAY_AMT object\n",
      "REMITTANCE-OUT_90DAY_VOL object\n",
      "REMITTANCE-OUT_90DAY_MAX object\n",
      "TAXIN_30DAY_AMT object\n",
      "TAXIN_90DAY_AMT object\n",
      "TAXIN_180DAY_AMT object\n",
      "TAXOUT_30DAY_AMT object\n",
      "TAXOUT_90DAY_AMT object\n",
      "TAXOUT_180DAY_AMT object\n",
      "TAXIN_30DAY_VOL object\n",
      "TAXIN_90DAY_VOL object\n",
      "TAXIN_180DAY_VOL object\n",
      "TAXOUT_30DAY_VOL object\n",
      "TAXOUT_90DAY_VOL object\n",
      "TAXOUT_180DAY_VOL object\n",
      "TAXIN_30DAY_MAX object\n",
      "TAXIN_90DAY_MAX object\n",
      "TAXIN_180DAY_MAX object\n",
      "TAXOUT_30DAY_MAX object\n",
      "TAXOUT_90DAY_MAX object\n",
      "TAXOUT_180DAY_MAX object\n",
      "OUT_30DAY_AMT_vs_TAXOUT_30DAY_AMT object\n",
      "TAXIN_180DAY_AMT_vs_TAXOUT_30DAY_AMT object\n",
      "TAXIN_180DAY_AMT_vs_TAXOUT_90DAY_AMT object\n",
      "TAXIN_180DAY_AMT_vs_TAXOUT_180DAY_AMT object\n",
      "HRIN_30DAY_AMT_vs_TAXIN_30DAY_VOL object\n",
      "EXTFT-IN_90DAY_AMT_vs_EXTFT-OUT_90DAY_AMT object\n",
      "CASHEQ-IN_90DAY_AMT_vs_CASHEQ-OUT_90DAY_AMT object\n",
      "HRIN_90DAY_AMT_vs_TAXIN_90DAY_VOL object\n",
      "LOCFT-IN_90DAY_AMT_vs_LOCFT-IN_90DAY_AMT object\n",
      "OUT_180DAY_AMT_vs_TAXIN_180DAY_AMT object\n",
      "REMITTANCE-IN_90DAY_AMT_vs_REMITTANCE-IN_90DAY_AMT object\n",
      "IN_180DAY_AMT_vs_OUT_30DAY_AMT object\n",
      "IN_180DAY_AMT_vs_OUT_90DAY_AMT object\n",
      "IN_180DAY_AMT_vs_OUT_180DAY_AMT object\n",
      "IN_180DAY_AMT_vs_HRIN_180DAY_AMT object\n",
      "IN_180DAY_AMT_vs_TAXIN_180DAY_AMT object\n",
      "OUT_90DAY_AMT_vs_TAXOUT_90DAY_AMT object\n",
      "OUT_180DAY_VOL_vs_TAXOUT_180DAY_VOL object\n",
      "HRIN_180DAY_AMT_vs_TAXIN_180DAY_VOL object\n",
      "MISC-IN_90DAY_AMT_vs_MISC-IN_90DAY_AMT object\n",
      "IN_90DAY_AMT_vs_CASHEQ-IN_90DAY_AMT object\n",
      "IN_30DAY_AMT_vs_TAXIN_30DAY_AMT object\n",
      "CHQ-IN_90DAY_AMT_vs_CHQ-OUT_90DAY_AMT object\n",
      "IN_180DAY_VOL_vs_TAXIN_180DAY_VOL object\n",
      "ACCT_NUM object\n",
      "ACCOUNT_STATUS object\n",
      "ACCT_CLASSIFICATION_CD object\n",
      "ACCT_CURR_STATED_ACCT_VALUE object\n",
      "ACCT_OPEN_DATE object\n",
      "ACCT_TYPE_CD object\n",
      "SEGMENT_CODE object\n",
      "CHANNEL_OF_ACCOUNT_OPENING object\n",
      "COUNTRY_CD object\n",
      "IS_ACTIVE object\n",
      "IS_ANONYMOUS_ACCT object\n",
      "IS_FOREIGN_FINANCIAL_ORG object\n",
      "IS_NON_PHYSICAL_ADDRESS object\n",
      "IS_NON_RESIDENT object\n",
      "IS_PEP object\n",
      "IS_SUSPECT object\n",
      "MAIL_CODE object\n",
      "PRIMARY_PARTY_KEY object\n",
      "RISK_LEVEL object\n",
      "ROW_UPDATE_DATE object\n",
      "SECTOR_CD object\n",
      "ACCT_CURRENCY_CD object\n",
      "ACCT_CLOSE_DATE object\n",
      "ACCT_CURRENCY_CREDIT_LIMIT object\n",
      "ACCT_CURR_STATED_ACCT_ACTIVITY object\n",
      "ACCT_FIRST_NAME object\n",
      "ACCT_LAST_NAME object\n",
      "ACCT_MAIDEN_NAME object\n",
      "ACCT_MIDDLE_NAME object\n",
      "ACCT_OTHER_NAME object\n",
      "BRANCH_KEY object\n",
      "HOUSEHOLD_ID object\n",
      "IS_ONLINE_ACCOUNT object\n",
      "LAST_REVIEW_DATE object\n",
      "OPTION_APPROVAL_LEVEL_CD object\n",
      "PRIMARY_REPRESENTATIVE_KEY object\n",
      "ACCT_CATEGORY_CD object\n",
      "POPULATION object\n",
      "DATE_DATA_LOADED object\n",
      "CUSTOM_FIELD_1 object\n",
      "FIG_IND object\n",
      "clu_risk_score float64\n",
      "clu_risk_score_norm float64\n",
      "TAXIN_30DAY_AMT_norm float64\n",
      "HRIN_30DAY_AMT_norm float64\n",
      "avg(TAXIN_30DAY_AMT_norm) float64\n",
      "avg(HRIN_30DAY_AMT_norm) float64\n",
      "stddev_samp(TAXIN_30DAY_AMT_norm) float64\n",
      "stddev_samp(HRIN_30DAY_AMT_norm) float64\n",
      "TAXIN_30DAY_AMT_norm_score float64\n",
      "HRIN_30DAY_AMT_norm_score float64\n",
      "anomaly_score object\n",
      "max(anomaly_score) object\n",
      "anomaly_score_norm object\n",
      "ANOMALY int32\n"
     ]
    }
   ],
   "source": [
    "StructType_list = []\n",
    "for i, k in zip(anomaly_rows.columns, anomaly_rows.dtypes):\n",
    "    k = str(k)\n",
    "    print i, k\n",
    "\n",
    "    if k.startswith('obj'):\n",
    "        type_item = StructField(i, StringType(), True)\n",
    "    elif k.startswith('int'):\n",
    "        type_item = StructField(i, LongType(), True)\n",
    "    elif k.startswith('date'):\n",
    "        type_item = StructField(i, TimestampType(), True)\n",
    "    elif k.startswith('float'):\n",
    "        type_item = StructField(i, DoubleType(), True)\n",
    "    elif k.startswith('bool'):\n",
    "        type_item = StructField(i, BooleanType(), True)\n",
    "    else:\n",
    "        print k\n",
    "    StructType_list.append(type_item)\n",
    "\n",
    "customSchema = StructType(StructType_list)"
   ]
  },
  {
   "cell_type": "code",
   "execution_count": 122,
   "metadata": {},
   "outputs": [],
   "source": [
    "anomaly_rows_DF = spark.createDataFrame(anomaly_rows, schema=customSchema)"
   ]
  },
  {
   "cell_type": "code",
   "execution_count": 115,
   "metadata": {},
   "outputs": [
    {
     "ename": "AttributeError",
     "evalue": "'DataFrame' object has no attribute 'toPandas'",
     "output_type": "error",
     "traceback": [
      "\u001b[0;31m---------------------------------------------------------------------------\u001b[0m",
      "\u001b[0;31mAttributeError\u001b[0m                            Traceback (most recent call last)",
      "\u001b[0;32m<ipython-input-115-3b7b1c6d3773>\u001b[0m in \u001b[0;36m<module>\u001b[0;34m()\u001b[0m\n\u001b[1;32m      2\u001b[0m \u001b[0mdf_clu_max_df\u001b[0m \u001b[0;34m=\u001b[0m \u001b[0mdf_clu_max\u001b[0m\u001b[0;34m.\u001b[0m\u001b[0mtoPandas\u001b[0m\u001b[0;34m(\u001b[0m\u001b[0;34m)\u001b[0m\u001b[0;34m\u001b[0m\u001b[0m\n\u001b[1;32m      3\u001b[0m \u001b[0mdf_clu_std_df\u001b[0m \u001b[0;34m=\u001b[0m \u001b[0mdf_clu_std\u001b[0m\u001b[0;34m.\u001b[0m\u001b[0mtoPandas\u001b[0m\u001b[0;34m(\u001b[0m\u001b[0;34m)\u001b[0m\u001b[0;34m\u001b[0m\u001b[0m\n\u001b[0;32m----> 4\u001b[0;31m \u001b[0manomaly_rows\u001b[0m \u001b[0;34m=\u001b[0m \u001b[0manomaly_rows\u001b[0m\u001b[0;34m.\u001b[0m\u001b[0mtoPandas\u001b[0m\u001b[0;34m(\u001b[0m\u001b[0;34m)\u001b[0m\u001b[0;34m\u001b[0m\u001b[0m\n\u001b[0m",
      "\u001b[0;32m/Users/prapuldasari/anaconda3/envs/py2/lib/python2.7/site-packages/pandas/core/generic.pyc\u001b[0m in \u001b[0;36m__getattr__\u001b[0;34m(self, name)\u001b[0m\n\u001b[1;32m   5055\u001b[0m             \u001b[0;32mif\u001b[0m \u001b[0mself\u001b[0m\u001b[0;34m.\u001b[0m\u001b[0m_info_axis\u001b[0m\u001b[0;34m.\u001b[0m\u001b[0m_can_hold_identifiers_and_holds_name\u001b[0m\u001b[0;34m(\u001b[0m\u001b[0mname\u001b[0m\u001b[0;34m)\u001b[0m\u001b[0;34m:\u001b[0m\u001b[0;34m\u001b[0m\u001b[0m\n\u001b[1;32m   5056\u001b[0m                 \u001b[0;32mreturn\u001b[0m \u001b[0mself\u001b[0m\u001b[0;34m[\u001b[0m\u001b[0mname\u001b[0m\u001b[0;34m]\u001b[0m\u001b[0;34m\u001b[0m\u001b[0m\n\u001b[0;32m-> 5057\u001b[0;31m             \u001b[0;32mreturn\u001b[0m \u001b[0mobject\u001b[0m\u001b[0;34m.\u001b[0m\u001b[0m__getattribute__\u001b[0m\u001b[0;34m(\u001b[0m\u001b[0mself\u001b[0m\u001b[0;34m,\u001b[0m \u001b[0mname\u001b[0m\u001b[0;34m)\u001b[0m\u001b[0;34m\u001b[0m\u001b[0m\n\u001b[0m\u001b[1;32m   5058\u001b[0m \u001b[0;34m\u001b[0m\u001b[0m\n\u001b[1;32m   5059\u001b[0m     \u001b[0;32mdef\u001b[0m \u001b[0m__setattr__\u001b[0m\u001b[0;34m(\u001b[0m\u001b[0mself\u001b[0m\u001b[0;34m,\u001b[0m \u001b[0mname\u001b[0m\u001b[0;34m,\u001b[0m \u001b[0mvalue\u001b[0m\u001b[0;34m)\u001b[0m\u001b[0;34m:\u001b[0m\u001b[0;34m\u001b[0m\u001b[0m\n",
      "\u001b[0;31mAttributeError\u001b[0m: 'DataFrame' object has no attribute 'toPandas'"
     ]
    }
   ],
   "source": [
    "df_clu_mean_df = df_clu_mean.toPandas()\n",
    "df_clu_max_df = df_clu_max.toPandas()\n",
    "df_clu_std_df = df_clu_std.toPandas()\n",
    "anomaly_rows = anomaly_rows.toPandas()"
   ]
  },
  {
   "cell_type": "code",
   "execution_count": 114,
   "metadata": {},
   "outputs": [
    {
     "ename": "AttributeError",
     "evalue": "'DataFrame' object has no attribute 'toPandas'",
     "output_type": "error",
     "traceback": [
      "\u001b[0;31m---------------------------------------------------------------------------\u001b[0m",
      "\u001b[0;31mAttributeError\u001b[0m                            Traceback (most recent call last)",
      "\u001b[0;32m<ipython-input-114-e35e2b90fc6f>\u001b[0m in \u001b[0;36m<module>\u001b[0;34m()\u001b[0m\n\u001b[0;32m----> 1\u001b[0;31m \u001b[0manomaly_rows\u001b[0m \u001b[0;34m=\u001b[0m \u001b[0manomaly_rows\u001b[0m\u001b[0;34m.\u001b[0m\u001b[0mtoPandas\u001b[0m\u001b[0;34m(\u001b[0m\u001b[0;34m)\u001b[0m\u001b[0;34m\u001b[0m\u001b[0m\n\u001b[0m",
      "\u001b[0;32m/Users/prapuldasari/anaconda3/envs/py2/lib/python2.7/site-packages/pandas/core/generic.pyc\u001b[0m in \u001b[0;36m__getattr__\u001b[0;34m(self, name)\u001b[0m\n\u001b[1;32m   5055\u001b[0m             \u001b[0;32mif\u001b[0m \u001b[0mself\u001b[0m\u001b[0;34m.\u001b[0m\u001b[0m_info_axis\u001b[0m\u001b[0;34m.\u001b[0m\u001b[0m_can_hold_identifiers_and_holds_name\u001b[0m\u001b[0;34m(\u001b[0m\u001b[0mname\u001b[0m\u001b[0;34m)\u001b[0m\u001b[0;34m:\u001b[0m\u001b[0;34m\u001b[0m\u001b[0m\n\u001b[1;32m   5056\u001b[0m                 \u001b[0;32mreturn\u001b[0m \u001b[0mself\u001b[0m\u001b[0;34m[\u001b[0m\u001b[0mname\u001b[0m\u001b[0;34m]\u001b[0m\u001b[0;34m\u001b[0m\u001b[0m\n\u001b[0;32m-> 5057\u001b[0;31m             \u001b[0;32mreturn\u001b[0m \u001b[0mobject\u001b[0m\u001b[0;34m.\u001b[0m\u001b[0m__getattribute__\u001b[0m\u001b[0;34m(\u001b[0m\u001b[0mself\u001b[0m\u001b[0;34m,\u001b[0m \u001b[0mname\u001b[0m\u001b[0;34m)\u001b[0m\u001b[0;34m\u001b[0m\u001b[0m\n\u001b[0m\u001b[1;32m   5058\u001b[0m \u001b[0;34m\u001b[0m\u001b[0m\n\u001b[1;32m   5059\u001b[0m     \u001b[0;32mdef\u001b[0m \u001b[0m__setattr__\u001b[0m\u001b[0;34m(\u001b[0m\u001b[0mself\u001b[0m\u001b[0;34m,\u001b[0m \u001b[0mname\u001b[0m\u001b[0;34m,\u001b[0m \u001b[0mvalue\u001b[0m\u001b[0;34m)\u001b[0m\u001b[0;34m:\u001b[0m\u001b[0;34m\u001b[0m\u001b[0m\n",
      "\u001b[0;31mAttributeError\u001b[0m: 'DataFrame' object has no attribute 'toPandas'"
     ]
    }
   ],
   "source": [
    "anomaly_rows = anomaly_rows.toPandas()"
   ]
  },
  {
   "cell_type": "code",
   "execution_count": 285,
   "metadata": {},
   "outputs": [],
   "source": [
    "df_clu_mean_df[uniqueLabel] = df_clu_mean_df[uniqLabelCols].apply(lambda row: str(row[0])+str(row[1])+str(row[2]), 1)\n",
    "df_clu_max_df[uniqueLabel] = df_clu_max_df[uniqLabelCols].apply(lambda row: str(row[0])+str(row[1])+str(row[2]), 1)\n",
    "df_clu_std_df[uniqueLabel] = df_clu_std_df[uniqLabelCols].apply(lambda row: str(row[0])+str(row[1])+str(row[2]), 1)\n",
    "anomaly_rows[uniqueLabel]=anomaly_rows[uniqueLabel] = anomaly_rows[uniqLabelCols].apply(lambda row: str(row[0])+str(row[1])+str(row[2]), 1)\n",
    "        "
   ]
  },
  {
   "cell_type": "code",
   "execution_count": 289,
   "metadata": {},
   "outputs": [
    {
     "data": {
      "text/html": [
       "<div>\n",
       "<style scoped>\n",
       "    .dataframe tbody tr th:only-of-type {\n",
       "        vertical-align: middle;\n",
       "    }\n",
       "\n",
       "    .dataframe tbody tr th {\n",
       "        vertical-align: top;\n",
       "    }\n",
       "\n",
       "    .dataframe thead th {\n",
       "        text-align: right;\n",
       "    }\n",
       "</style>\n",
       "<table border=\"1\" class=\"dataframe\">\n",
       "  <thead>\n",
       "    <tr style=\"text-align: right;\">\n",
       "      <th></th>\n",
       "      <th>BUSINESS_UNIT</th>\n",
       "      <th>prediction_1</th>\n",
       "      <th>prediction_2</th>\n",
       "      <th>avg(TAXIN_30DAY_AMT)</th>\n",
       "      <th>avg(HRIN_30DAY_AMT)</th>\n",
       "      <th>uniqueLabel</th>\n",
       "    </tr>\n",
       "  </thead>\n",
       "  <tbody>\n",
       "    <tr>\n",
       "      <th>0</th>\n",
       "      <td>SG-PV</td>\n",
       "      <td>0</td>\n",
       "      <td>0</td>\n",
       "      <td>1.670921e+05</td>\n",
       "      <td>1.670921e+05</td>\n",
       "      <td>SG-PV00</td>\n",
       "    </tr>\n",
       "    <tr>\n",
       "      <th>1</th>\n",
       "      <td>SG-CM</td>\n",
       "      <td>1</td>\n",
       "      <td>0</td>\n",
       "      <td>1.062127e+05</td>\n",
       "      <td>1.062127e+05</td>\n",
       "      <td>SG-CM10</td>\n",
       "    </tr>\n",
       "    <tr>\n",
       "      <th>2</th>\n",
       "      <td>SG-CM</td>\n",
       "      <td>0</td>\n",
       "      <td>1</td>\n",
       "      <td>2.896763e+05</td>\n",
       "      <td>2.896763e+05</td>\n",
       "      <td>SG-CM01</td>\n",
       "    </tr>\n",
       "    <tr>\n",
       "      <th>3</th>\n",
       "      <td>SG-PV</td>\n",
       "      <td>0</td>\n",
       "      <td>1</td>\n",
       "      <td>5.356379e+05</td>\n",
       "      <td>5.356379e+05</td>\n",
       "      <td>SG-PV01</td>\n",
       "    </tr>\n",
       "    <tr>\n",
       "      <th>4</th>\n",
       "      <td>SG-CM</td>\n",
       "      <td>0</td>\n",
       "      <td>0</td>\n",
       "      <td>2.679450e+05</td>\n",
       "      <td>2.679450e+05</td>\n",
       "      <td>SG-CM00</td>\n",
       "    </tr>\n",
       "    <tr>\n",
       "      <th>5</th>\n",
       "      <td>SG-CMM</td>\n",
       "      <td>0</td>\n",
       "      <td>0</td>\n",
       "      <td>1.542845e+06</td>\n",
       "      <td>1.542845e+06</td>\n",
       "      <td>SG-CMM00</td>\n",
       "    </tr>\n",
       "    <tr>\n",
       "      <th>6</th>\n",
       "      <td>SG-CMM</td>\n",
       "      <td>0</td>\n",
       "      <td>1</td>\n",
       "      <td>4.721373e+05</td>\n",
       "      <td>4.721373e+05</td>\n",
       "      <td>SG-CMM01</td>\n",
       "    </tr>\n",
       "    <tr>\n",
       "      <th>7</th>\n",
       "      <td>SG-CM</td>\n",
       "      <td>1</td>\n",
       "      <td>1</td>\n",
       "      <td>1.598433e+06</td>\n",
       "      <td>1.598433e+06</td>\n",
       "      <td>SG-CM11</td>\n",
       "    </tr>\n",
       "  </tbody>\n",
       "</table>\n",
       "</div>"
      ],
      "text/plain": [
       "  BUSINESS_UNIT prediction_1 prediction_2  avg(TAXIN_30DAY_AMT)  \\\n",
       "0         SG-PV            0            0          1.670921e+05   \n",
       "1         SG-CM            1            0          1.062127e+05   \n",
       "2         SG-CM            0            1          2.896763e+05   \n",
       "3         SG-PV            0            1          5.356379e+05   \n",
       "4         SG-CM            0            0          2.679450e+05   \n",
       "5        SG-CMM            0            0          1.542845e+06   \n",
       "6        SG-CMM            0            1          4.721373e+05   \n",
       "7         SG-CM            1            1          1.598433e+06   \n",
       "\n",
       "   avg(HRIN_30DAY_AMT) uniqueLabel  \n",
       "0         1.670921e+05     SG-PV00  \n",
       "1         1.062127e+05     SG-CM10  \n",
       "2         2.896763e+05     SG-CM01  \n",
       "3         5.356379e+05     SG-PV01  \n",
       "4         2.679450e+05     SG-CM00  \n",
       "5         1.542845e+06    SG-CMM00  \n",
       "6         4.721373e+05    SG-CMM01  \n",
       "7         1.598433e+06     SG-CM11  "
      ]
     },
     "execution_count": 289,
     "metadata": {},
     "output_type": "execute_result"
    }
   ],
   "source": [
    "df_clu_mean_df"
   ]
  },
  {
   "cell_type": "code",
   "execution_count": 290,
   "metadata": {},
   "outputs": [],
   "source": [
    "cluster_means_dictionary = dict(zip(df_clu_mean_df[uniqueLabel].values, df_clu_mean_df[avg_anomalyFeatures].values))"
   ]
  },
  {
   "cell_type": "code",
   "execution_count": 291,
   "metadata": {},
   "outputs": [
    {
     "data": {
      "text/plain": [
       "{'SG-CM00': array([267944.99117647, 267944.99117647]),\n",
       " 'SG-CM01': array([289676.258904, 289676.258904]),\n",
       " 'SG-CM10': array([106212.69760289, 106212.69760289]),\n",
       " 'SG-CM11': array([1598433.07727273, 1598433.07727273]),\n",
       " 'SG-CMM00': array([1542844.979, 1542844.979]),\n",
       " 'SG-CMM01': array([472137.28186667, 472137.28186667]),\n",
       " 'SG-PV00': array([167092.05222222, 167092.05222222]),\n",
       " 'SG-PV01': array([535637.85833333, 535637.85833333])}"
      ]
     },
     "execution_count": 291,
     "metadata": {},
     "output_type": "execute_result"
    }
   ],
   "source": [
    "cluster_means_dictionary"
   ]
  },
  {
   "cell_type": "code",
   "execution_count": 341,
   "metadata": {},
   "outputs": [],
   "source": [
    "cluster_maxes_dictionary = dict(zip(df_clu_max_df[uniqueLabel].values, df_clu_max_df[max_anomalyFeatures].values))"
   ]
  },
  {
   "cell_type": "code",
   "execution_count": 301,
   "metadata": {},
   "outputs": [],
   "source": [
    "cluster_stdes_dictionary = dict(zip(df_clu_std_df[uniqueLabel].values, df_clu_std_df[std_anomalyFeatures].values))"
   ]
  },
  {
   "cell_type": "code",
   "execution_count": 303,
   "metadata": {},
   "outputs": [
    {
     "data": {
      "text/plain": [
       "{'SG-CM00': array([625079.58659268, 625079.58659268]),\n",
       " 'SG-CM01': array([521482.95848102, 521482.95848102]),\n",
       " 'SG-CM10': array([394300.87291558, 394300.87291558]),\n",
       " 'SG-CM11': array([2101248.13414886, 2101248.13414886]),\n",
       " 'SG-CMM00': array([431273.50357764, 431273.50357764]),\n",
       " 'SG-CMM01': array([565302.56218896, 565302.56218896]),\n",
       " 'SG-PV00': array([224372.73828898, 224372.73828898]),\n",
       " 'SG-PV01': array([311756.8577181, 311756.8577181])}"
      ]
     },
     "execution_count": 303,
     "metadata": {},
     "output_type": "execute_result"
    }
   ],
   "source": [
    "cluster_stdes_dictionary"
   ]
  },
  {
   "cell_type": "code",
   "execution_count": 304,
   "metadata": {},
   "outputs": [
    {
     "data": {
      "text/html": [
       "<div>\n",
       "<style scoped>\n",
       "    .dataframe tbody tr th:only-of-type {\n",
       "        vertical-align: middle;\n",
       "    }\n",
       "\n",
       "    .dataframe tbody tr th {\n",
       "        vertical-align: top;\n",
       "    }\n",
       "\n",
       "    .dataframe thead th {\n",
       "        text-align: right;\n",
       "    }\n",
       "</style>\n",
       "<table border=\"1\" class=\"dataframe\">\n",
       "  <thead>\n",
       "    <tr style=\"text-align: right;\">\n",
       "      <th></th>\n",
       "      <th>BUSINESS_UNIT</th>\n",
       "      <th>unique_cluster_label</th>\n",
       "      <th>prediction_1</th>\n",
       "      <th>prediction_2</th>\n",
       "      <th>ACCOUNT_KEY</th>\n",
       "      <th>daysSinceStartDay</th>\n",
       "      <th>IN_30DAY_AMT</th>\n",
       "      <th>IN_90DAY_AMT</th>\n",
       "      <th>IN_180DAY_AMT</th>\n",
       "      <th>OUT_30DAY_AMT</th>\n",
       "      <th>...</th>\n",
       "      <th>stddev_samp(HRIN_30DAY_AMT_norm)</th>\n",
       "      <th>avg(TAXIN_30DAY_AMT_norm_score)</th>\n",
       "      <th>avg(HRIN_30DAY_AMT_norm_score)</th>\n",
       "      <th>stddev_samp(TAXIN_30DAY_AMT_norm_score)</th>\n",
       "      <th>stddev_samp(HRIN_30DAY_AMT_norm_score)</th>\n",
       "      <th>anomaly_score</th>\n",
       "      <th>max(anomaly_score)</th>\n",
       "      <th>anomaly_score_norm</th>\n",
       "      <th>ANOMALY</th>\n",
       "      <th>uniqueLabel</th>\n",
       "    </tr>\n",
       "  </thead>\n",
       "  <tbody>\n",
       "    <tr>\n",
       "      <th>0</th>\n",
       "      <td>SG-CM</td>\n",
       "      <td>SG-CM_1_1_</td>\n",
       "      <td>1</td>\n",
       "      <td>1</td>\n",
       "      <td>1019091606USD</td>\n",
       "      <td>-353</td>\n",
       "      <td>4787013.5</td>\n",
       "      <td>4787013.5</td>\n",
       "      <td>4787013.5</td>\n",
       "      <td>1577776.1</td>\n",
       "      <td>...</td>\n",
       "      <td>3.301714</td>\n",
       "      <td>1.586923</td>\n",
       "      <td>1.586923</td>\n",
       "      <td>1.410884</td>\n",
       "      <td>1.410884</td>\n",
       "      <td>1.0</td>\n",
       "      <td>1.0</td>\n",
       "      <td>1.0</td>\n",
       "      <td>1</td>\n",
       "      <td>SG-CM11</td>\n",
       "    </tr>\n",
       "    <tr>\n",
       "      <th>1</th>\n",
       "      <td>SG-CMM</td>\n",
       "      <td>SG-CMM_0_0_</td>\n",
       "      <td>0</td>\n",
       "      <td>0</td>\n",
       "      <td>3729026105USD</td>\n",
       "      <td>343</td>\n",
       "      <td>2420525.0</td>\n",
       "      <td>4610203.5</td>\n",
       "      <td>6950980.0</td>\n",
       "      <td>2505606.5</td>\n",
       "      <td>...</td>\n",
       "      <td>0.132516</td>\n",
       "      <td>1.482319</td>\n",
       "      <td>1.482319</td>\n",
       "      <td>1.202032</td>\n",
       "      <td>1.202032</td>\n",
       "      <td>1.0</td>\n",
       "      <td>1.0</td>\n",
       "      <td>1.0</td>\n",
       "      <td>1</td>\n",
       "      <td>SG-CMM00</td>\n",
       "    </tr>\n",
       "    <tr>\n",
       "      <th>2</th>\n",
       "      <td>SG-CM</td>\n",
       "      <td>SG-CM_1_1_</td>\n",
       "      <td>1</td>\n",
       "      <td>1</td>\n",
       "      <td>1019091606USD</td>\n",
       "      <td>-339</td>\n",
       "      <td>4787013.5</td>\n",
       "      <td>4787013.5</td>\n",
       "      <td>4787013.5</td>\n",
       "      <td>2238282.8</td>\n",
       "      <td>...</td>\n",
       "      <td>3.301714</td>\n",
       "      <td>1.586923</td>\n",
       "      <td>1.586923</td>\n",
       "      <td>1.410884</td>\n",
       "      <td>1.410884</td>\n",
       "      <td>1.0</td>\n",
       "      <td>1.0</td>\n",
       "      <td>1.0</td>\n",
       "      <td>1</td>\n",
       "      <td>SG-CM11</td>\n",
       "    </tr>\n",
       "    <tr>\n",
       "      <th>3</th>\n",
       "      <td>SG-CM</td>\n",
       "      <td>SG-CM_1_1_</td>\n",
       "      <td>1</td>\n",
       "      <td>1</td>\n",
       "      <td>1019091606USD</td>\n",
       "      <td>-344</td>\n",
       "      <td>4787013.5</td>\n",
       "      <td>4787013.5</td>\n",
       "      <td>4787013.5</td>\n",
       "      <td>1835156.0</td>\n",
       "      <td>...</td>\n",
       "      <td>3.301714</td>\n",
       "      <td>1.586923</td>\n",
       "      <td>1.586923</td>\n",
       "      <td>1.410884</td>\n",
       "      <td>1.410884</td>\n",
       "      <td>1.0</td>\n",
       "      <td>1.0</td>\n",
       "      <td>1.0</td>\n",
       "      <td>1</td>\n",
       "      <td>SG-CM11</td>\n",
       "    </tr>\n",
       "    <tr>\n",
       "      <th>4</th>\n",
       "      <td>SG-CM</td>\n",
       "      <td>SG-CM_1_1_</td>\n",
       "      <td>1</td>\n",
       "      <td>1</td>\n",
       "      <td>1019091606USD</td>\n",
       "      <td>-343</td>\n",
       "      <td>4787013.5</td>\n",
       "      <td>4787013.5</td>\n",
       "      <td>4787013.5</td>\n",
       "      <td>1971452.8</td>\n",
       "      <td>...</td>\n",
       "      <td>3.301714</td>\n",
       "      <td>1.586923</td>\n",
       "      <td>1.586923</td>\n",
       "      <td>1.410884</td>\n",
       "      <td>1.410884</td>\n",
       "      <td>1.0</td>\n",
       "      <td>1.0</td>\n",
       "      <td>1.0</td>\n",
       "      <td>1</td>\n",
       "      <td>SG-CM11</td>\n",
       "    </tr>\n",
       "    <tr>\n",
       "      <th>5</th>\n",
       "      <td>SG-PV</td>\n",
       "      <td>SG-PV_0_1_</td>\n",
       "      <td>0</td>\n",
       "      <td>1</td>\n",
       "      <td>3963043455SGD</td>\n",
       "      <td>311</td>\n",
       "      <td>1000000.0</td>\n",
       "      <td>1600000.0</td>\n",
       "      <td>1600000.0</td>\n",
       "      <td>0.0</td>\n",
       "      <td>...</td>\n",
       "      <td>0.327458</td>\n",
       "      <td>1.415030</td>\n",
       "      <td>1.415030</td>\n",
       "      <td>1.024546</td>\n",
       "      <td>1.024546</td>\n",
       "      <td>1.0</td>\n",
       "      <td>1.0</td>\n",
       "      <td>1.0</td>\n",
       "      <td>1</td>\n",
       "      <td>SG-PV01</td>\n",
       "    </tr>\n",
       "    <tr>\n",
       "      <th>6</th>\n",
       "      <td>SG-CM</td>\n",
       "      <td>SG-CM_1_1_</td>\n",
       "      <td>1</td>\n",
       "      <td>1</td>\n",
       "      <td>1019091606USD</td>\n",
       "      <td>-354</td>\n",
       "      <td>4253353.5</td>\n",
       "      <td>4253353.5</td>\n",
       "      <td>4253353.5</td>\n",
       "      <td>891026.25</td>\n",
       "      <td>...</td>\n",
       "      <td>3.301714</td>\n",
       "      <td>1.586923</td>\n",
       "      <td>1.586923</td>\n",
       "      <td>1.410884</td>\n",
       "      <td>1.410884</td>\n",
       "      <td>0.9845728104031927</td>\n",
       "      <td>1.0</td>\n",
       "      <td>0.9845728104031927</td>\n",
       "      <td>1</td>\n",
       "      <td>SG-CM11</td>\n",
       "    </tr>\n",
       "    <tr>\n",
       "      <th>7</th>\n",
       "      <td>SG-PV</td>\n",
       "      <td>SG-PV_0_1_</td>\n",
       "      <td>0</td>\n",
       "      <td>1</td>\n",
       "      <td>3639010048USD</td>\n",
       "      <td>334</td>\n",
       "      <td>976303.2</td>\n",
       "      <td>976303.2</td>\n",
       "      <td>976303.2</td>\n",
       "      <td>0.0</td>\n",
       "      <td>...</td>\n",
       "      <td>0.327458</td>\n",
       "      <td>1.415030</td>\n",
       "      <td>1.415030</td>\n",
       "      <td>1.024546</td>\n",
       "      <td>1.024546</td>\n",
       "      <td>0.9686940216874862</td>\n",
       "      <td>1.0</td>\n",
       "      <td>0.9686940216874862</td>\n",
       "      <td>1</td>\n",
       "      <td>SG-PV01</td>\n",
       "    </tr>\n",
       "    <tr>\n",
       "      <th>8</th>\n",
       "      <td>SG-CM</td>\n",
       "      <td>SG-CM_1_1_</td>\n",
       "      <td>1</td>\n",
       "      <td>1</td>\n",
       "      <td>1019091606USD</td>\n",
       "      <td>-331</td>\n",
       "      <td>3752133.2</td>\n",
       "      <td>4787013.5</td>\n",
       "      <td>4787013.5</td>\n",
       "      <td>2469063.2</td>\n",
       "      <td>...</td>\n",
       "      <td>3.301714</td>\n",
       "      <td>1.586923</td>\n",
       "      <td>1.586923</td>\n",
       "      <td>1.410884</td>\n",
       "      <td>1.410884</td>\n",
       "      <td>0.9684680030241806</td>\n",
       "      <td>1.0</td>\n",
       "      <td>0.9684680030241806</td>\n",
       "      <td>1</td>\n",
       "      <td>SG-CM11</td>\n",
       "    </tr>\n",
       "    <tr>\n",
       "      <th>9</th>\n",
       "      <td>SG-CM</td>\n",
       "      <td>SG-CM_1_1_</td>\n",
       "      <td>1</td>\n",
       "      <td>1</td>\n",
       "      <td>1019091606USD</td>\n",
       "      <td>-357</td>\n",
       "      <td>3666327.2</td>\n",
       "      <td>3666327.2</td>\n",
       "      <td>3666327.2</td>\n",
       "      <td>891026.25</td>\n",
       "      <td>...</td>\n",
       "      <td>3.301714</td>\n",
       "      <td>1.586923</td>\n",
       "      <td>1.586923</td>\n",
       "      <td>1.410884</td>\n",
       "      <td>1.410884</td>\n",
       "      <td>0.9655254614303472</td>\n",
       "      <td>1.0</td>\n",
       "      <td>0.9655254614303472</td>\n",
       "      <td>1</td>\n",
       "      <td>SG-CM11</td>\n",
       "    </tr>\n",
       "    <tr>\n",
       "      <th>10</th>\n",
       "      <td>SG-CM</td>\n",
       "      <td>SG-CM_1_1_</td>\n",
       "      <td>1</td>\n",
       "      <td>1</td>\n",
       "      <td>1019091606USD</td>\n",
       "      <td>-358</td>\n",
       "      <td>3224973.8</td>\n",
       "      <td>3224973.8</td>\n",
       "      <td>3224973.8</td>\n",
       "      <td>891026.25</td>\n",
       "      <td>...</td>\n",
       "      <td>3.301714</td>\n",
       "      <td>1.586923</td>\n",
       "      <td>1.586923</td>\n",
       "      <td>1.410884</td>\n",
       "      <td>1.410884</td>\n",
       "      <td>0.9493722058074086</td>\n",
       "      <td>1.0</td>\n",
       "      <td>0.9493722058074086</td>\n",
       "      <td>1</td>\n",
       "      <td>SG-CM11</td>\n",
       "    </tr>\n",
       "    <tr>\n",
       "      <th>11</th>\n",
       "      <td>SG-CMM</td>\n",
       "      <td>SG-CMM_0_0_</td>\n",
       "      <td>0</td>\n",
       "      <td>0</td>\n",
       "      <td>3729026105USD</td>\n",
       "      <td>327</td>\n",
       "      <td>2362856.2</td>\n",
       "      <td>4437386.0</td>\n",
       "      <td>6400706.0</td>\n",
       "      <td>2019868.1</td>\n",
       "      <td>...</td>\n",
       "      <td>0.132516</td>\n",
       "      <td>1.482319</td>\n",
       "      <td>1.482319</td>\n",
       "      <td>1.202032</td>\n",
       "      <td>1.202032</td>\n",
       "      <td>0.9240154568533269</td>\n",
       "      <td>1.0</td>\n",
       "      <td>0.9240154568533269</td>\n",
       "      <td>1</td>\n",
       "      <td>SG-CMM00</td>\n",
       "    </tr>\n",
       "    <tr>\n",
       "      <th>12</th>\n",
       "      <td>SG-PV</td>\n",
       "      <td>SG-PV_0_1_</td>\n",
       "      <td>0</td>\n",
       "      <td>1</td>\n",
       "      <td>3639010048USD</td>\n",
       "      <td>322</td>\n",
       "      <td>929725.4</td>\n",
       "      <td>929725.4</td>\n",
       "      <td>929725.4</td>\n",
       "      <td>0.0</td>\n",
       "      <td>...</td>\n",
       "      <td>0.327458</td>\n",
       "      <td>1.415030</td>\n",
       "      <td>1.415030</td>\n",
       "      <td>1.024546</td>\n",
       "      <td>1.024546</td>\n",
       "      <td>0.9078834410547151</td>\n",
       "      <td>1.0</td>\n",
       "      <td>0.9078834410547151</td>\n",
       "      <td>1</td>\n",
       "      <td>SG-PV01</td>\n",
       "    </tr>\n",
       "    <tr>\n",
       "      <th>13</th>\n",
       "      <td>SG-CMM</td>\n",
       "      <td>SG-CMM_0_0_</td>\n",
       "      <td>0</td>\n",
       "      <td>0</td>\n",
       "      <td>3729026105USD</td>\n",
       "      <td>339</td>\n",
       "      <td>2336293.8</td>\n",
       "      <td>4716106.0</td>\n",
       "      <td>6866748.5</td>\n",
       "      <td>2123772.5</td>\n",
       "      <td>...</td>\n",
       "      <td>0.132516</td>\n",
       "      <td>1.482319</td>\n",
       "      <td>1.482319</td>\n",
       "      <td>1.202032</td>\n",
       "      <td>1.202032</td>\n",
       "      <td>0.8904063570441052</td>\n",
       "      <td>1.0</td>\n",
       "      <td>0.8904063570441052</td>\n",
       "      <td>1</td>\n",
       "      <td>SG-CMM00</td>\n",
       "    </tr>\n",
       "    <tr>\n",
       "      <th>14</th>\n",
       "      <td>SG-CMM</td>\n",
       "      <td>SG-CMM_0_0_</td>\n",
       "      <td>0</td>\n",
       "      <td>0</td>\n",
       "      <td>3729026105USD</td>\n",
       "      <td>340</td>\n",
       "      <td>2336293.8</td>\n",
       "      <td>4716106.0</td>\n",
       "      <td>6866748.5</td>\n",
       "      <td>2422375.5</td>\n",
       "      <td>...</td>\n",
       "      <td>0.132516</td>\n",
       "      <td>1.482319</td>\n",
       "      <td>1.482319</td>\n",
       "      <td>1.202032</td>\n",
       "      <td>1.202032</td>\n",
       "      <td>0.8904063570441052</td>\n",
       "      <td>1.0</td>\n",
       "      <td>0.8904063570441052</td>\n",
       "      <td>1</td>\n",
       "      <td>SG-CMM00</td>\n",
       "    </tr>\n",
       "    <tr>\n",
       "      <th>15</th>\n",
       "      <td>SG-CM</td>\n",
       "      <td>SG-CM_1_1_</td>\n",
       "      <td>1</td>\n",
       "      <td>1</td>\n",
       "      <td>1019091606USD</td>\n",
       "      <td>-326</td>\n",
       "      <td>1120686.0</td>\n",
       "      <td>4787013.5</td>\n",
       "      <td>4787013.5</td>\n",
       "      <td>2478471.2</td>\n",
       "      <td>...</td>\n",
       "      <td>3.301714</td>\n",
       "      <td>1.586923</td>\n",
       "      <td>1.586923</td>\n",
       "      <td>1.410884</td>\n",
       "      <td>1.410884</td>\n",
       "      <td>0.826144355226805</td>\n",
       "      <td>1.0</td>\n",
       "      <td>0.826144355226805</td>\n",
       "      <td>1</td>\n",
       "      <td>SG-CM11</td>\n",
       "    </tr>\n",
       "  </tbody>\n",
       "</table>\n",
       "<p>16 rows × 193 columns</p>\n",
       "</div>"
      ],
      "text/plain": [
       "   BUSINESS_UNIT unique_cluster_label prediction_1 prediction_2  \\\n",
       "0          SG-CM           SG-CM_1_1_            1            1   \n",
       "1         SG-CMM          SG-CMM_0_0_            0            0   \n",
       "2          SG-CM           SG-CM_1_1_            1            1   \n",
       "3          SG-CM           SG-CM_1_1_            1            1   \n",
       "4          SG-CM           SG-CM_1_1_            1            1   \n",
       "5          SG-PV           SG-PV_0_1_            0            1   \n",
       "6          SG-CM           SG-CM_1_1_            1            1   \n",
       "7          SG-PV           SG-PV_0_1_            0            1   \n",
       "8          SG-CM           SG-CM_1_1_            1            1   \n",
       "9          SG-CM           SG-CM_1_1_            1            1   \n",
       "10         SG-CM           SG-CM_1_1_            1            1   \n",
       "11        SG-CMM          SG-CMM_0_0_            0            0   \n",
       "12         SG-PV           SG-PV_0_1_            0            1   \n",
       "13        SG-CMM          SG-CMM_0_0_            0            0   \n",
       "14        SG-CMM          SG-CMM_0_0_            0            0   \n",
       "15         SG-CM           SG-CM_1_1_            1            1   \n",
       "\n",
       "      ACCOUNT_KEY daysSinceStartDay IN_30DAY_AMT IN_90DAY_AMT IN_180DAY_AMT  \\\n",
       "0   1019091606USD              -353    4787013.5    4787013.5     4787013.5   \n",
       "1   3729026105USD               343    2420525.0    4610203.5     6950980.0   \n",
       "2   1019091606USD              -339    4787013.5    4787013.5     4787013.5   \n",
       "3   1019091606USD              -344    4787013.5    4787013.5     4787013.5   \n",
       "4   1019091606USD              -343    4787013.5    4787013.5     4787013.5   \n",
       "5   3963043455SGD               311    1000000.0    1600000.0     1600000.0   \n",
       "6   1019091606USD              -354    4253353.5    4253353.5     4253353.5   \n",
       "7   3639010048USD               334     976303.2     976303.2      976303.2   \n",
       "8   1019091606USD              -331    3752133.2    4787013.5     4787013.5   \n",
       "9   1019091606USD              -357    3666327.2    3666327.2     3666327.2   \n",
       "10  1019091606USD              -358    3224973.8    3224973.8     3224973.8   \n",
       "11  3729026105USD               327    2362856.2    4437386.0     6400706.0   \n",
       "12  3639010048USD               322     929725.4     929725.4      929725.4   \n",
       "13  3729026105USD               339    2336293.8    4716106.0     6866748.5   \n",
       "14  3729026105USD               340    2336293.8    4716106.0     6866748.5   \n",
       "15  1019091606USD              -326    1120686.0    4787013.5     4787013.5   \n",
       "\n",
       "   OUT_30DAY_AMT  ... stddev_samp(HRIN_30DAY_AMT_norm)  \\\n",
       "0      1577776.1  ...                         3.301714   \n",
       "1      2505606.5  ...                         0.132516   \n",
       "2      2238282.8  ...                         3.301714   \n",
       "3      1835156.0  ...                         3.301714   \n",
       "4      1971452.8  ...                         3.301714   \n",
       "5            0.0  ...                         0.327458   \n",
       "6      891026.25  ...                         3.301714   \n",
       "7            0.0  ...                         0.327458   \n",
       "8      2469063.2  ...                         3.301714   \n",
       "9      891026.25  ...                         3.301714   \n",
       "10     891026.25  ...                         3.301714   \n",
       "11     2019868.1  ...                         0.132516   \n",
       "12           0.0  ...                         0.327458   \n",
       "13     2123772.5  ...                         0.132516   \n",
       "14     2422375.5  ...                         0.132516   \n",
       "15     2478471.2  ...                         3.301714   \n",
       "\n",
       "   avg(TAXIN_30DAY_AMT_norm_score) avg(HRIN_30DAY_AMT_norm_score)  \\\n",
       "0                         1.586923                       1.586923   \n",
       "1                         1.482319                       1.482319   \n",
       "2                         1.586923                       1.586923   \n",
       "3                         1.586923                       1.586923   \n",
       "4                         1.586923                       1.586923   \n",
       "5                         1.415030                       1.415030   \n",
       "6                         1.586923                       1.586923   \n",
       "7                         1.415030                       1.415030   \n",
       "8                         1.586923                       1.586923   \n",
       "9                         1.586923                       1.586923   \n",
       "10                        1.586923                       1.586923   \n",
       "11                        1.482319                       1.482319   \n",
       "12                        1.415030                       1.415030   \n",
       "13                        1.482319                       1.482319   \n",
       "14                        1.482319                       1.482319   \n",
       "15                        1.586923                       1.586923   \n",
       "\n",
       "   stddev_samp(TAXIN_30DAY_AMT_norm_score)  \\\n",
       "0                                 1.410884   \n",
       "1                                 1.202032   \n",
       "2                                 1.410884   \n",
       "3                                 1.410884   \n",
       "4                                 1.410884   \n",
       "5                                 1.024546   \n",
       "6                                 1.410884   \n",
       "7                                 1.024546   \n",
       "8                                 1.410884   \n",
       "9                                 1.410884   \n",
       "10                                1.410884   \n",
       "11                                1.202032   \n",
       "12                                1.024546   \n",
       "13                                1.202032   \n",
       "14                                1.202032   \n",
       "15                                1.410884   \n",
       "\n",
       "   stddev_samp(HRIN_30DAY_AMT_norm_score)       anomaly_score  \\\n",
       "0                                1.410884                 1.0   \n",
       "1                                1.202032                 1.0   \n",
       "2                                1.410884                 1.0   \n",
       "3                                1.410884                 1.0   \n",
       "4                                1.410884                 1.0   \n",
       "5                                1.024546                 1.0   \n",
       "6                                1.410884  0.9845728104031927   \n",
       "7                                1.024546  0.9686940216874862   \n",
       "8                                1.410884  0.9684680030241806   \n",
       "9                                1.410884  0.9655254614303472   \n",
       "10                               1.410884  0.9493722058074086   \n",
       "11                               1.202032  0.9240154568533269   \n",
       "12                               1.024546  0.9078834410547151   \n",
       "13                               1.202032  0.8904063570441052   \n",
       "14                               1.202032  0.8904063570441052   \n",
       "15                               1.410884   0.826144355226805   \n",
       "\n",
       "   max(anomaly_score)  anomaly_score_norm ANOMALY uniqueLabel  \n",
       "0                 1.0                 1.0       1     SG-CM11  \n",
       "1                 1.0                 1.0       1    SG-CMM00  \n",
       "2                 1.0                 1.0       1     SG-CM11  \n",
       "3                 1.0                 1.0       1     SG-CM11  \n",
       "4                 1.0                 1.0       1     SG-CM11  \n",
       "5                 1.0                 1.0       1     SG-PV01  \n",
       "6                 1.0  0.9845728104031927       1     SG-CM11  \n",
       "7                 1.0  0.9686940216874862       1     SG-PV01  \n",
       "8                 1.0  0.9684680030241806       1     SG-CM11  \n",
       "9                 1.0  0.9655254614303472       1     SG-CM11  \n",
       "10                1.0  0.9493722058074086       1     SG-CM11  \n",
       "11                1.0  0.9240154568533269       1    SG-CMM00  \n",
       "12                1.0  0.9078834410547151       1     SG-PV01  \n",
       "13                1.0  0.8904063570441052       1    SG-CMM00  \n",
       "14                1.0  0.8904063570441052       1    SG-CMM00  \n",
       "15                1.0   0.826144355226805       1     SG-CM11  \n",
       "\n",
       "[16 rows x 193 columns]"
      ]
     },
     "execution_count": 304,
     "metadata": {},
     "output_type": "execute_result"
    }
   ],
   "source": [
    "anomaly_rows"
   ]
  },
  {
   "cell_type": "code",
   "execution_count": 322,
   "metadata": {},
   "outputs": [],
   "source": [
    "values = [1.586923, 1.410884]"
   ]
  },
  {
   "cell_type": "code",
   "execution_count": 323,
   "metadata": {},
   "outputs": [
    {
     "data": {
      "text/plain": [
       "[1.586923, 1.410884]"
      ]
     },
     "execution_count": 323,
     "metadata": {},
     "output_type": "execute_result"
    }
   ],
   "source": [
    "values"
   ]
  },
  {
   "cell_type": "code",
   "execution_count": 314,
   "metadata": {},
   "outputs": [],
   "source": [
    "clu_label= anomaly_rows['uniqueLabel']"
   ]
  },
  {
   "cell_type": "code",
   "execution_count": 317,
   "metadata": {},
   "outputs": [],
   "source": [
    "cluster_means = cluster_means_dictionary['SG-CM11']"
   ]
  },
  {
   "cell_type": "code",
   "execution_count": 350,
   "metadata": {},
   "outputs": [],
   "source": [
    "cluster_stds = cluster_stdes_dictionary['SG-CM11']"
   ]
  },
  {
   "cell_type": "code",
   "execution_count": 319,
   "metadata": {},
   "outputs": [],
   "source": [
    "x_means=cluster_means"
   ]
  },
  {
   "cell_type": "code",
   "execution_count": 324,
   "metadata": {},
   "outputs": [],
   "source": [
    "x_stds = cluster_stdes_dictionary['SG-CM11']\n",
    "x_maxes = cluster_maxes_dictionary['SG-CM11']\n",
    "x = values"
   ]
  },
  {
   "cell_type": "code",
   "execution_count": 325,
   "metadata": {},
   "outputs": [],
   "source": [
    "zero_indexes = x_stds==0\n",
    "x_stds[zero_indexes] = 1."
   ]
  },
  {
   "cell_type": "code",
   "execution_count": 332,
   "metadata": {},
   "outputs": [],
   "source": [
    "import math"
   ]
  },
  {
   "cell_type": "code",
   "execution_count": 333,
   "metadata": {},
   "outputs": [],
   "source": [
    "scores = map(lambda i: math.exp(i), list( (x-x_means)/x_stds))"
   ]
  },
  {
   "cell_type": "code",
   "execution_count": 334,
   "metadata": {},
   "outputs": [
    {
     "data": {
      "text/plain": [
       "[0.46733649842867875, 0.4673364592760223]"
      ]
     },
     "execution_count": 334,
     "metadata": {},
     "output_type": "execute_result"
    }
   ],
   "source": [
    "scores"
   ]
  },
  {
   "cell_type": "code",
   "execution_count": 335,
   "metadata": {},
   "outputs": [
    {
     "data": {
      "text/plain": [
       "array([2101248.13414886, 2101248.13414886])"
      ]
     },
     "execution_count": 335,
     "metadata": {},
     "output_type": "execute_result"
    }
   ],
   "source": [
    "x_stds"
   ]
  },
  {
   "cell_type": "code",
   "execution_count": 345,
   "metadata": {},
   "outputs": [],
   "source": [
    "max_scores = map(lambda i: math.exp(i), list((x_maxes-x_means)/x_stds))"
   ]
  },
  {
   "cell_type": "code",
   "execution_count": 347,
   "metadata": {},
   "outputs": [],
   "source": [
    "zero_indexes = max_scores==0\n",
    "max_scores[zero_indexes] = 1."
   ]
  },
  {
   "cell_type": "code",
   "execution_count": 348,
   "metadata": {},
   "outputs": [],
   "source": [
    "normalized_scores = np.array(scores)/np.array(max_scores)"
   ]
  },
  {
   "cell_type": "code",
   "execution_count": 351,
   "metadata": {},
   "outputs": [],
   "source": [
    "how_many_std_away = (values-cluster_means)/cluster_stds"
   ]
  },
  {
   "cell_type": "code",
   "execution_count": 352,
   "metadata": {},
   "outputs": [
    {
     "data": {
      "text/plain": [
       "array([-0.76070573, -0.76070581])"
      ]
     },
     "execution_count": 352,
     "metadata": {},
     "output_type": "execute_result"
    }
   ],
   "source": [
    "how_many_std_away"
   ]
  },
  {
   "cell_type": "code",
   "execution_count": 355,
   "metadata": {},
   "outputs": [],
   "source": [
    "explaination_list = []\n",
    "for i in range(len(how_many_std_away)):\n",
    "    explaination =  '%s = %s is %s standard divation away from cluster mean %s'%(anomalyFeatures[i],values[i],\n",
    "                                                                                 how_many_std_away[i],cluster_means[i])\n",
    "    explaination_list.append(explaination)"
   ]
  },
  {
   "cell_type": "code",
   "execution_count": 356,
   "metadata": {},
   "outputs": [
    {
     "data": {
      "text/plain": [
       "['TAXIN_30DAY_AMT = 1.586923 is -0.7607057274067226 standard divation away from cluster mean 1598433.0772727274',\n",
       " 'HRIN_30DAY_AMT = 1.410884 is -0.7607058111850242 standard divation away from cluster mean 1598433.0772727274']"
      ]
     },
     "execution_count": 356,
     "metadata": {},
     "output_type": "execute_result"
    }
   ],
   "source": [
    "explaination_list"
   ]
  },
  {
   "cell_type": "code",
   "execution_count": 357,
   "metadata": {},
   "outputs": [],
   "source": [
    "scores_explaination_list = zip(scores, explaination_list)"
   ]
  },
  {
   "cell_type": "code",
   "execution_count": 358,
   "metadata": {},
   "outputs": [
    {
     "data": {
      "text/plain": [
       "[(0.46733649842867875,\n",
       "  'TAXIN_30DAY_AMT = 1.586923 is -0.7607057274067226 standard divation away from cluster mean 1598433.0772727274'),\n",
       " (0.4673364592760223,\n",
       "  'HRIN_30DAY_AMT = 1.410884 is -0.7607058111850242 standard divation away from cluster mean 1598433.0772727274')]"
      ]
     },
     "execution_count": 358,
     "metadata": {},
     "output_type": "execute_result"
    }
   ],
   "source": [
    "scores_explaination_list"
   ]
  },
  {
   "cell_type": "code",
   "execution_count": 360,
   "metadata": {},
   "outputs": [],
   "source": [
    "explaination_dictionary = dict(zip(anomalyFeatures, scores_explaination_list))"
   ]
  },
  {
   "cell_type": "code",
   "execution_count": 361,
   "metadata": {},
   "outputs": [
    {
     "data": {
      "text/plain": [
       "{'HRIN_30DAY_AMT': (0.4673364592760223,\n",
       "  'HRIN_30DAY_AMT = 1.410884 is -0.7607058111850242 standard divation away from cluster mean 1598433.0772727274'),\n",
       " 'TAXIN_30DAY_AMT': (0.46733649842867875,\n",
       "  'TAXIN_30DAY_AMT = 1.586923 is -0.7607057274067226 standard divation away from cluster mean 1598433.0772727274')}"
      ]
     },
     "execution_count": 361,
     "metadata": {},
     "output_type": "execute_result"
    }
   ],
   "source": [
    "explaination_dictionary"
   ]
  },
  {
   "cell_type": "code",
   "execution_count": 363,
   "metadata": {},
   "outputs": [],
   "source": [
    "explaination_dictionary = sorted(explaination_dictionary.items(), key=operator.itemgetter(1), reverse=True)"
   ]
  },
  {
   "cell_type": "code",
   "execution_count": 364,
   "metadata": {},
   "outputs": [
    {
     "data": {
      "text/plain": [
       "[('TAXIN_30DAY_AMT',\n",
       "  (0.46733649842867875,\n",
       "   'TAXIN_30DAY_AMT = 1.586923 is -0.7607057274067226 standard divation away from cluster mean 1598433.0772727274')),\n",
       " ('HRIN_30DAY_AMT',\n",
       "  (0.4673364592760223,\n",
       "   'HRIN_30DAY_AMT = 1.410884 is -0.7607058111850242 standard divation away from cluster mean 1598433.0772727274'))]"
      ]
     },
     "execution_count": 364,
     "metadata": {},
     "output_type": "execute_result"
    }
   ],
   "source": [
    "explaination_dictionary"
   ]
  },
  {
   "cell_type": "code",
   "execution_count": 366,
   "metadata": {},
   "outputs": [],
   "source": [
    "df_clu_mean\n",
    "uniqueLabel = 'uniqueLabel'\n",
    "cluLevel0Label = \"prediction_1\" # \"clu_level_1\"\n",
    "cluLevel1Label = \"prediction_2\" # \"clu_level_2\"\n",
    "uniqLabelCols = [BUSINESS_UNIT, cluLevel0Label, cluLevel1Label]"
   ]
  },
  {
   "cell_type": "code",
   "execution_count": 368,
   "metadata": {},
   "outputs": [
    {
     "ename": "AttributeError",
     "evalue": "'DataFrame' object has no attribute 'map'",
     "output_type": "error",
     "traceback": [
      "\u001b[0;31m---------------------------------------------------------------------------\u001b[0m",
      "\u001b[0;31mAttributeError\u001b[0m                            Traceback (most recent call last)",
      "\u001b[0;32m<ipython-input-368-7b0009bd732b>\u001b[0m in \u001b[0;36m<module>\u001b[0;34m()\u001b[0m\n\u001b[0;32m----> 1\u001b[0;31m \u001b[0mdf_clu_mean_df\u001b[0m\u001b[0;34m[\u001b[0m\u001b[0muniqueLabel\u001b[0m\u001b[0;34m]\u001b[0m \u001b[0;34m=\u001b[0m \u001b[0mdf_clu_mean\u001b[0m\u001b[0;34m[\u001b[0m\u001b[0muniqLabelCols\u001b[0m\u001b[0;34m]\u001b[0m\u001b[0;34m.\u001b[0m\u001b[0mmap\u001b[0m\u001b[0;34m(\u001b[0m\u001b[0;32mlambda\u001b[0m \u001b[0mrow\u001b[0m\u001b[0;34m:\u001b[0m \u001b[0mstr\u001b[0m\u001b[0;34m(\u001b[0m\u001b[0mrow\u001b[0m\u001b[0;34m[\u001b[0m\u001b[0;36m0\u001b[0m\u001b[0;34m]\u001b[0m\u001b[0;34m)\u001b[0m\u001b[0;34m+\u001b[0m\u001b[0mstr\u001b[0m\u001b[0;34m(\u001b[0m\u001b[0mrow\u001b[0m\u001b[0;34m[\u001b[0m\u001b[0;36m1\u001b[0m\u001b[0;34m]\u001b[0m\u001b[0;34m)\u001b[0m\u001b[0;34m+\u001b[0m\u001b[0mstr\u001b[0m\u001b[0;34m(\u001b[0m\u001b[0mrow\u001b[0m\u001b[0;34m[\u001b[0m\u001b[0;36m2\u001b[0m\u001b[0;34m]\u001b[0m\u001b[0;34m)\u001b[0m\u001b[0;34m,\u001b[0m \u001b[0;36m1\u001b[0m\u001b[0;34m)\u001b[0m\u001b[0;34m\u001b[0m\u001b[0m\n\u001b[0m\u001b[1;32m      2\u001b[0m \u001b[0;34m\u001b[0m\u001b[0m\n",
      "\u001b[0;32m/Users/prapuldasari/spark-2.3.2-bin-hadoop2.7/python/pyspark/sql/dataframe.pyc\u001b[0m in \u001b[0;36m__getattr__\u001b[0;34m(self, name)\u001b[0m\n\u001b[1;32m   1180\u001b[0m         \u001b[0;32mif\u001b[0m \u001b[0mname\u001b[0m \u001b[0;32mnot\u001b[0m \u001b[0;32min\u001b[0m \u001b[0mself\u001b[0m\u001b[0;34m.\u001b[0m\u001b[0mcolumns\u001b[0m\u001b[0;34m:\u001b[0m\u001b[0;34m\u001b[0m\u001b[0m\n\u001b[1;32m   1181\u001b[0m             raise AttributeError(\n\u001b[0;32m-> 1182\u001b[0;31m                 \"'%s' object has no attribute '%s'\" % (self.__class__.__name__, name))\n\u001b[0m\u001b[1;32m   1183\u001b[0m         \u001b[0mjc\u001b[0m \u001b[0;34m=\u001b[0m \u001b[0mself\u001b[0m\u001b[0;34m.\u001b[0m\u001b[0m_jdf\u001b[0m\u001b[0;34m.\u001b[0m\u001b[0mapply\u001b[0m\u001b[0;34m(\u001b[0m\u001b[0mname\u001b[0m\u001b[0;34m)\u001b[0m\u001b[0;34m\u001b[0m\u001b[0m\n\u001b[1;32m   1184\u001b[0m         \u001b[0;32mreturn\u001b[0m \u001b[0mColumn\u001b[0m\u001b[0;34m(\u001b[0m\u001b[0mjc\u001b[0m\u001b[0;34m)\u001b[0m\u001b[0;34m\u001b[0m\u001b[0m\n",
      "\u001b[0;31mAttributeError\u001b[0m: 'DataFrame' object has no attribute 'map'"
     ]
    }
   ],
   "source": [
    "df_clu_mean_df[uniqueLabel] = df_clu_mean[uniqLabelCols].map(lambda row: str(row[0])+str(row[1])+str(row[2]), 1)\n",
    "        "
   ]
  },
  {
   "cell_type": "code",
   "execution_count": 1,
   "metadata": {},
   "outputs": [],
   "source": [
    "def create_unique_label(*args):\n",
    "    unique_label = ''\n",
    "    for a in args:\n",
    "        unique_label = unique_label + str(a)\n",
    "\n",
    "    return unique_label"
   ]
  },
  {
   "cell_type": "code",
   "execution_count": 2,
   "metadata": {},
   "outputs": [
    {
     "ename": "NameError",
     "evalue": "name 'df_clu_mean_df' is not defined",
     "output_type": "error",
     "traceback": [
      "\u001b[0;31m---------------------------------------------------------------------------\u001b[0m",
      "\u001b[0;31mNameError\u001b[0m                                 Traceback (most recent call last)",
      "\u001b[0;32m<ipython-input-2-67d07f61aba2>\u001b[0m in \u001b[0;36m<module>\u001b[0;34m()\u001b[0m\n\u001b[0;32m----> 1\u001b[0;31m \u001b[0mdf_clu_mean_df\u001b[0m\u001b[0;34m\u001b[0m\u001b[0m\n\u001b[0m",
      "\u001b[0;31mNameError\u001b[0m: name 'df_clu_mean_df' is not defined"
     ]
    }
   ],
   "source": [
    "df_clu_mean_df"
   ]
  },
  {
   "cell_type": "code",
   "execution_count": null,
   "metadata": {},
   "outputs": [],
   "source": [
    "class extra_info_explain:\n",
    "def __init__(self, cluster_means_dictionary, cluster_stds_dictionary,\n",
    "             cluster_maxes_dictionary):\n",
    "    self.cluster_means_dictionary = cluster_means_dictionary\n",
    "    self.cluster_stds_dictionary = cluster_stds_dictionary\n",
    "    self.cluster_maxes_dictionary = cluster_maxes_dictionary\n",
    "\n",
    "def extract_Scores_and_HowManyStdAwayFromClusterMean(self, row, features, clu_label, ALREADY_NORMALIZED=True, NORMALIZE_SCALE=None):\n",
    "    values = row[features].values\n",
    "    clu_label = row[clu_label]\n",
    "    cluster_means = self.cluster_means_dictionary[clu_label]\n",
    "    cluster_stds = self.cluster_stds_dictionary[clu_label]\n",
    "    cluster_maxes = self.cluster_maxes_dictionary[clu_label]\n",
    "\n",
    "    if not ALREADY_NORMALIZED:\n",
    "        x = np.log(values+1.01)/np.log(NORMALIZE_SCALE)\n",
    "        x = np.nan_to_num(x)\n",
    "        x[x==-np.inf]=0\n",
    "        x[x==np.inf]=1\n",
    "\n",
    "        x_means = np.log(cluster_means+1.01)/np.log(NORMALIZE_SCALE)\n",
    "        x_means = np.nan_to_num(x_means)\n",
    "        x_means[x==-np.inf]=0\n",
    "        x_means[x==np.inf]=1\n",
    "\n",
    "        x_stds = np.log(cluster_stds+1.01)/np.log(NORMALIZE_SCALE)\n",
    "        x_stds = np.nan_to_num(x_stds)\n",
    "        x_stds[x==-np.inf]=0\n",
    "        x_stds[x==np.inf]=1\n",
    "\n",
    "        x_maxes = np.log(cluster_maxes+1.01)/np.log(NORMALIZE_SCALE)\n",
    "        x_maxes = np.nan_to_num(x_maxes)\n",
    "        x_maxes[x==-np.inf]=0\n",
    "        x_maxes[x==np.inf]=1\n",
    "\n",
    "    else:\n",
    "        x = values\n",
    "        x_means = cluster_means\n",
    "        x_stds = cluster_stds\n",
    "        x_maxes = cluster_maxes\n",
    "\n",
    "    zero_indexes = x_stds==0\n",
    "    x_stds[zero_indexes] = 1.\n",
    "\n",
    "    x_maxes= [float(i) for i in x_maxes]\n",
    "\n",
    "    # scores = np.exp((x-x_means)/x_stds)\n",
    "    scores = map(lambda i: math.exp(i), list( (x-x_means)/x_stds))\n",
    "\n",
    "    # max_scores = np.exp((x_maxes-x_means)/x_stds)\n",
    "    max_scores = map(lambda i: math.exp(i), list((x_maxes-x_means)/x_stds))\n",
    "\n",
    "    zero_indexes = max_scores==0\n",
    "    max_scores[zero_indexes] = 1.\n",
    "\n",
    "    normalized_scores = np.array(scores)/np.array(max_scores)\n",
    "\n",
    "    # extract how many std away from the cluster mean\n",
    "    how_many_std_away = (values-cluster_means)/cluster_stds\n",
    "\n",
    "    explaination_list = []\n",
    "    for i in range(len(how_many_std_away)):\n",
    "        explaination =  '%s = %s is %s standard divation away from cluster mean %s'%(features[i],values[i],\n",
    "                                                                                     how_many_std_away[i],cluster_means[i])\n",
    "        explaination_list.append(explaination)\n",
    "\n",
    "\n",
    "    scores_explaination_list = zip(scores, explaination_list)\n",
    "    explaination_dictionary = dict(zip(features, scores_explaination_list))\n",
    "\n",
    "    explaination_dictionary = sorted(explaination_dictionary.items(), key=operator.itemgetter(1), reverse=True)\n",
    "\n",
    "\n",
    "    return scores_explaination_list"
   ]
  },
  {
   "cell_type": "code",
   "execution_count": 123,
   "metadata": {},
   "outputs": [
    {
     "data": {
      "text/plain": [
       "DataFrame[BUSINESS_UNIT: string, unique_cluster_label: string, prediction_1: string, prediction_2: string, ACCOUNT_KEY: string, daysSinceStartDay: string, IN_30DAY_AMT: string, IN_90DAY_AMT: string, IN_180DAY_AMT: string, OUT_30DAY_AMT: string, OUT_90DAY_AMT: string, OUT_180DAY_AMT: string, HRIN_30DAY_AMT: string, HRIN_90DAY_AMT: string, HRIN_180DAY_AMT: string, HROUT_30DAY_AMT: string, HROUT_90DAY_AMT: string, HROUT_180DAY_AMT: string, IN_30DAY_MAX: string, IN_90DAY_MAX: string, IN_180DAY_MAX: string, IN_30DAY_MIN: string, IN_90DAY_MIN: string, IN_180DAY_MIN: string, OUT_30DAY_MAX: string, OUT_90DAY_MAX: string, OUT_180DAY_MAX: string, HRIN_30DAY_MAX: string, HRIN_90DAY_MAX: string, HRIN_180DAY_MAX: string, HROUT_30DAY_MAX: string, HROUT_90DAY_MAX: string, HROUT_180DAY_MAX: string, IN_30DAY_VOL: string, IN_90DAY_VOL: string, IN_180DAY_VOL: string, OUT_30DAY_VOL: string, OUT_90DAY_VOL: string, OUT_180DAY_VOL: string, HRIN_30DAY_VOL: string, HRIN_90DAY_VOL: string, HRIN_180DAY_VOL: string, HROUT_30DAY_VOL: string, HROUT_90DAY_VOL: string, HROUT_180DAY_VOL: string, CASHEQ-IN_90DAY_AMT: string, CASHEQ-IN_90DAY_VOL: string, CASHEQ-IN_90DAY_MAX: string, CASHEQ-OUT_90DAY_AMT: string, CASHEQ-OUT_90DAY_VOL: string, CASHEQ-OUT_90DAY_MAX: string, ATM-OUT_90DAY_AMT: string, ATM-OUT_90DAY_VOL: string, ATM-OUT_90DAY_MAX: string, CHQ-IN_90DAY_AMT: string, CHQ-IN_90DAY_VOL: string, CHQ-IN_90DAY_MAX: string, CHQ-OUT_90DAY_AMT: string, CHQ-OUT_90DAY_VOL: string, CHQ-OUT_90DAY_MAX: string, CDM-IN_90DAY_AMT: string, CDM-IN_90DAY_VOL: string, CDM-IN_90DAY_MAX: string, EXTFT-IN_90DAY_AMT: string, EXTFT-IN_90DAY_VOL: string, EXTFT-IN_90DAY_MAX: string, EXTFT-OUT_90DAY_AMT: string, EXTFT-OUT_90DAY_VOL: string, EXTFT-OUT_90DAY_MAX: string, LOCFT-IN_90DAY_AMT: string, LOCFT-IN_90DAY_VOL: string, LOCFT-IN_90DAY_MAX: string, LOCFT-OUT_90DAY_AMT: string, LOCFT-OUT_90DAY_VOL: string, LOCFT-OUT_90DAY_MAX: string, MISC-IN_90DAY_AMT: string, MISC-IN_90DAY_VOL: string, MISC-IN_90DAY_MAX: string, MISC-OUT_90DAY_AMT: string, MISC-OUT_90DAY_VOL: string, MISC-OUT_90DAY_MAX: string, REMITTANCE-IN_90DAY_AMT: string, REMITTANCE-IN_90DAY_VOL: string, REMITTANCE-IN_90DAY_MAX: string, REMITTANCE-OUT_90DAY_AMT: string, REMITTANCE-OUT_90DAY_VOL: string, REMITTANCE-OUT_90DAY_MAX: string, TAXIN_30DAY_AMT: string, TAXIN_90DAY_AMT: string, TAXIN_180DAY_AMT: string, TAXOUT_30DAY_AMT: string, TAXOUT_90DAY_AMT: string, TAXOUT_180DAY_AMT: string, TAXIN_30DAY_VOL: string, TAXIN_90DAY_VOL: string, TAXIN_180DAY_VOL: string, TAXOUT_30DAY_VOL: string, TAXOUT_90DAY_VOL: string, TAXOUT_180DAY_VOL: string, TAXIN_30DAY_MAX: string, TAXIN_90DAY_MAX: string, TAXIN_180DAY_MAX: string, TAXOUT_30DAY_MAX: string, TAXOUT_90DAY_MAX: string, TAXOUT_180DAY_MAX: string, OUT_30DAY_AMT_vs_TAXOUT_30DAY_AMT: string, TAXIN_180DAY_AMT_vs_TAXOUT_30DAY_AMT: string, TAXIN_180DAY_AMT_vs_TAXOUT_90DAY_AMT: string, TAXIN_180DAY_AMT_vs_TAXOUT_180DAY_AMT: string, HRIN_30DAY_AMT_vs_TAXIN_30DAY_VOL: string, EXTFT-IN_90DAY_AMT_vs_EXTFT-OUT_90DAY_AMT: string, CASHEQ-IN_90DAY_AMT_vs_CASHEQ-OUT_90DAY_AMT: string, HRIN_90DAY_AMT_vs_TAXIN_90DAY_VOL: string, LOCFT-IN_90DAY_AMT_vs_LOCFT-IN_90DAY_AMT: string, OUT_180DAY_AMT_vs_TAXIN_180DAY_AMT: string, REMITTANCE-IN_90DAY_AMT_vs_REMITTANCE-IN_90DAY_AMT: string, IN_180DAY_AMT_vs_OUT_30DAY_AMT: string, IN_180DAY_AMT_vs_OUT_90DAY_AMT: string, IN_180DAY_AMT_vs_OUT_180DAY_AMT: string, IN_180DAY_AMT_vs_HRIN_180DAY_AMT: string, IN_180DAY_AMT_vs_TAXIN_180DAY_AMT: string, OUT_90DAY_AMT_vs_TAXOUT_90DAY_AMT: string, OUT_180DAY_VOL_vs_TAXOUT_180DAY_VOL: string, HRIN_180DAY_AMT_vs_TAXIN_180DAY_VOL: string, MISC-IN_90DAY_AMT_vs_MISC-IN_90DAY_AMT: string, IN_90DAY_AMT_vs_CASHEQ-IN_90DAY_AMT: string, IN_30DAY_AMT_vs_TAXIN_30DAY_AMT: string, CHQ-IN_90DAY_AMT_vs_CHQ-OUT_90DAY_AMT: string, IN_180DAY_VOL_vs_TAXIN_180DAY_VOL: string, ACCT_NUM: string, ACCOUNT_STATUS: string, ACCT_CLASSIFICATION_CD: string, ACCT_CURR_STATED_ACCT_VALUE: string, ACCT_OPEN_DATE: string, ACCT_TYPE_CD: string, SEGMENT_CODE: string, CHANNEL_OF_ACCOUNT_OPENING: string, COUNTRY_CD: string, IS_ACTIVE: string, IS_ANONYMOUS_ACCT: string, IS_FOREIGN_FINANCIAL_ORG: string, IS_NON_PHYSICAL_ADDRESS: string, IS_NON_RESIDENT: string, IS_PEP: string, IS_SUSPECT: string, MAIL_CODE: string, PRIMARY_PARTY_KEY: string, RISK_LEVEL: string, ROW_UPDATE_DATE: string, SECTOR_CD: string, ACCT_CURRENCY_CD: string, ACCT_CLOSE_DATE: string, ACCT_CURRENCY_CREDIT_LIMIT: string, ACCT_CURR_STATED_ACCT_ACTIVITY: string, ACCT_FIRST_NAME: string, ACCT_LAST_NAME: string, ACCT_MAIDEN_NAME: string, ACCT_MIDDLE_NAME: string, ACCT_OTHER_NAME: string, BRANCH_KEY: string, HOUSEHOLD_ID: string, IS_ONLINE_ACCOUNT: string, LAST_REVIEW_DATE: string, OPTION_APPROVAL_LEVEL_CD: string, PRIMARY_REPRESENTATIVE_KEY: string, ACCT_CATEGORY_CD: string, POPULATION: string, DATE_DATA_LOADED: string, CUSTOM_FIELD_1: string, FIG_IND: string, clu_risk_score: double, clu_risk_score_norm: double, TAXIN_30DAY_AMT_norm: double, HRIN_30DAY_AMT_norm: double, avg(TAXIN_30DAY_AMT_norm): double, avg(HRIN_30DAY_AMT_norm): double, stddev_samp(TAXIN_30DAY_AMT_norm): double, stddev_samp(HRIN_30DAY_AMT_norm): double, TAXIN_30DAY_AMT_norm_score: double, HRIN_30DAY_AMT_norm_score: double, anomaly_score: string, max(anomaly_score): string, anomaly_score_norm: string, ANOMALY: bigint]"
      ]
     },
     "execution_count": 123,
     "metadata": {},
     "output_type": "execute_result"
    }
   ],
   "source": [
    "anomaly_rows_DF"
   ]
  },
  {
   "cell_type": "code",
   "execution_count": null,
   "metadata": {},
   "outputs": [],
   "source": []
  }
 ],
 "metadata": {
  "kernelspec": {
   "display_name": "Python 2",
   "language": "python",
   "name": "python2"
  },
  "language_info": {
   "codemirror_mode": {
    "name": "ipython",
    "version": 2
   },
   "file_extension": ".py",
   "mimetype": "text/x-python",
   "name": "python",
   "nbconvert_exporter": "python",
   "pygments_lexer": "ipython2",
   "version": "2.7.15"
  }
 },
 "nbformat": 4,
 "nbformat_minor": 2
}
